{
 "cells": [
  {
   "cell_type": "code",
   "execution_count": null,
   "id": "ebf6d660",
   "metadata": {},
   "outputs": [],
   "source": [
    "# Importing necessary libraries\n",
    "import numpy as np\n",
    "import pandas as pd\n",
    "import matplotlib.pyplot as plt\n",
    "import seaborn as sns\n",
    "import sklearn"
   ]
  },
  {
   "cell_type": "code",
   "execution_count": null,
   "id": "1a22394d",
   "metadata": {},
   "outputs": [],
   "source": [
    "l2 = ['With Siblings', 'With Siblings', 'With Siblings', 'With Siblings', 'With Siblings', 'With Siblings', 'Alone', 'With Siblings', 'Alone',\n",
    "      'With Siblings', 'With Siblings', 'With Siblings', 'With Siblings', 'With Siblings', 'With Siblings', 'With Siblings']"
   ]
  },
  {
   "cell_type": "code",
   "execution_count": null,
   "id": "23af2514",
   "metadata": {},
   "outputs": [],
   "source": [
    "df['Who do you sleep with usually in the bedroom?'].replace(l1, l2, inplace=True)"
   ]
  },
  {
   "cell_type": "code",
   "execution_count": null,
   "id": "21165c70",
   "metadata": {},
   "outputs": [],
   "source": [
    "df['Who do you sleep with usually in the bedroom?'].unique()"
   ]
  },
  {
   "cell_type": "code",
   "execution_count": null,
   "id": "da48684d",
   "metadata": {},
   "outputs": [],
   "source": [
    "df['Who would you go to if you were having mental health issues?'].unique()"
   ]
  },
  {
   "cell_type": "code",
   "execution_count": null,
   "id": "6f4593a3",
   "metadata": {},
   "outputs": [],
   "source": [
    "# Therapist/Psychiatrist/Psychologist\n",
    "# Friends\n",
    "# Family/Relatives\n",
    "# Family doctor\n",
    "# No one"
   ]
  },
  {
   "cell_type": "code",
   "execution_count": null,
   "id": "c35a3c2d",
   "metadata": {},
   "outputs": [],
   "source": [
    "l1 = ['Fam & Friends are equal',\n",
    "     'Courses like happy thought/ art of leaving I had taken treatment doing these courses . Now wish to do Vipasanna ',\n",
    "     'Friends for minor issues', 'Maybe / I will keep to myself',\n",
    "     'You can go to everyone above. Not sure!!', 'I need a shift',\n",
    "     'no one']"
   ]
  },
  {
   "cell_type": "code",
   "execution_count": null,
   "id": "aab1da63",
   "metadata": {},
   "outputs": [],
   "source": [
    "l2 = ['Family/Relatives', 'Therapist/Psychiatrist/Psychologist', 'Friends', 'No one', 'Family/Relatives', 'No one', 'No one']"
   ]
  },
  {
   "cell_type": "code",
   "execution_count": null,
   "id": "f48937f5",
   "metadata": {},
   "outputs": [],
   "source": [
    "df['Who would you go to if you were having mental health issues?'].replace(l1, l2, inplace=True)"
   ]
  },
  {
   "cell_type": "code",
   "execution_count": null,
   "id": "8dfdc259",
   "metadata": {},
   "outputs": [],
   "source": [
    "df['Who would you go to if you were having mental health issues?'].unique()"
   ]
  },
  {
   "cell_type": "code",
   "execution_count": null,
   "id": "24c16abe",
   "metadata": {},
   "outputs": [],
   "source": [
    "cols = ['Fear and shame', 'Limited awareness', 'Lack of Knowledge', 'Feelings of inadequacy', 'Finance', 'Distrust', 'Hopelessness',\n",
    "     'Unavailability', 'Practical barriers', 'Stigma']"
   ]
  },
  {
   "cell_type": "code",
   "execution_count": null,
   "id": "8c58ed81",
   "metadata": {},
   "outputs": [],
   "source": [
    "data = np.zeros((r, 10), dtype=int)"
   ]
  },
  {
   "cell_type": "code",
   "execution_count": null,
   "id": "0b14a12f",
   "metadata": {},
   "outputs": [],
   "source": [
    "df_add = pd.DataFrame(data=data, columns=cols)\n",
    "df = pd.concat([df, df_add], axis=1)\n",
    "df.head()"
   ]
  },
  {
   "cell_type": "code",
   "execution_count": null,
   "id": "e58be216",
   "metadata": {},
   "outputs": [],
   "source": [
    "old = list(df['What do you think is the reason for people not considering getting treated for mental health related problems?'])"
   ]
  },
  {
   "cell_type": "code",
   "execution_count": null,
   "id": "adc37881",
   "metadata": {},
   "outputs": [],
   "source": [
    "ind = 0\n",
    "for i in old:\n",
    "    val = i.split(\"/\")\n",
    "    for k in val:\n",
    "        k = k.strip()\n",
    "        for j in cols:\n",
    "            if k == j:\n",
    "                df.loc[ind:ind, j] = 1\n",
    "                break\n",
    "    ind = ind + 1"
   ]
  },
  {
   "cell_type": "code",
   "execution_count": null,
   "id": "5999bcbc",
   "metadata": {},
   "outputs": [],
   "source": [
    "df.head()"
   ]
  },
  {
   "cell_type": "code",
   "execution_count": null,
   "id": "35d3010e",
   "metadata": {},
   "outputs": [],
   "source": [
    "df = pd.read_excel(\"../SurveyDataset/SurveyForm.xlsx\", error_bad_lines=False)"
   ]
  },
  {
   "cell_type": "code",
   "execution_count": null,
   "id": "24b7d20c",
   "metadata": {},
   "outputs": [],
   "source": [
    "df.head()"
   ]
  },
  {
   "cell_type": "code",
   "execution_count": null,
   "id": "b34ecd1e",
   "metadata": {},
   "outputs": [],
   "source": [
    "r, c = df.shape"
   ]
  },
  {
   "cell_type": "code",
   "execution_count": null,
   "id": "adde9e64",
   "metadata": {},
   "outputs": [],
   "source": [
    "# dropping the last 2 columns\n",
    "# unamed columns are not needed and can be dropped\n",
    "# dropping the name column\n",
    "df = df.iloc[:, :49]\n",
    "df.head()"
   ]
  },
  {
   "cell_type": "code",
   "execution_count": null,
   "id": "a61382d4",
   "metadata": {},
   "outputs": [],
   "source": [
    "df['Sex'].unique()"
   ]
  },
  {
   "cell_type": "code",
   "execution_count": null,
   "id": "db278b32",
   "metadata": {},
   "outputs": [],
   "source": [
    "df['How often do you consume alcohol in a week?'].unique()"
   ]
  },
  {
   "cell_type": "code",
   "execution_count": null,
   "id": "6d502007",
   "metadata": {},
   "outputs": [],
   "source": [
    "# I don't drink alcohol\n",
    "# 3-5 times a week\n",
    "# Once a week\n",
    "# Once a month\n",
    "# Occasionally"
   ]
  },
  {
   "cell_type": "code",
   "execution_count": null,
   "id": "90577c0a",
   "metadata": {},
   "outputs": [],
   "source": [
    "l1 = ['once a week', '2-3 time a week', 'ocassionally', 'Rarely', '1-2 times a month', 'Occasionally ', 'Rarely ',\n",
    "      'Once in a couple of months ', 'Everyday', '3-4 times a year ', 'once every few months',\n",
    "      'Once in 2 weeks', '1-2 times in a year', 'Once in a month or two', 'only drink during parties (occasionally)',\n",
    "      'Very rarely', 'Once in 2-3 weeks', 'Once a month ', \"Rarely when an outing with friends. Can't say weekly its in between months\",\n",
    "      'Once in 2 months', 'Once or twice a month', 'Once or twice a month. ', 'once a month or two',\n",
    "      'Haven’t consumed in the last 4 months', 'Once in 30-40 days', 'Twice a month ']"
   ]
  },
  {
   "cell_type": "code",
   "execution_count": null,
   "id": "86921c44",
   "metadata": {},
   "outputs": [],
   "source": [
    "l2 = ['Once a week', '3-5 times a week', 'Occasionally', 'Occasionally', 'Once a month', 'Occasionally', 'Occasionally',\n",
    "      'Once a month', '3-5 times a week', 'Occasionally', 'Occasionally',\n",
    "      'Once a week', 'Occasionally', 'Occasionally', 'Occasionally',\n",
    "      'Occasionally', 'Once a month', 'Once a month', 'Occasionally', 'Once a month',\n",
    "      'Once a week', 'Once a week', 'Once a week',\n",
    "      'Occasionally', 'Once a month', 'Once a month']"
   ]
  },
  {
   "cell_type": "code",
   "execution_count": null,
   "id": "81c7ecda",
   "metadata": {},
   "outputs": [],
   "source": [
    "df['How often do you consume alcohol in a week?'].replace(l1, l2, inplace=True)"
   ]
  },
  {
   "cell_type": "code",
   "execution_count": null,
   "id": "f36bb2c0",
   "metadata": {},
   "outputs": [],
   "source": [
    "df['How often do you consume alcohol in a week?'].unique()"
   ]
  },
  {
   "cell_type": "code",
   "execution_count": null,
   "id": "398677a2",
   "metadata": {},
   "outputs": [],
   "source": [
    "df['How often do you smoke in a day?'].unique()"
   ]
  },
  {
   "cell_type": "code",
   "execution_count": null,
   "id": "2ee1eecd",
   "metadata": {},
   "outputs": [],
   "source": [
    "# I don't smoke\n",
    "# 1-5 times a day\n",
    "# 6-15 times a day\n",
    "# Occasionally"
   ]
  },
  {
   "cell_type": "code",
   "execution_count": null,
   "id": "cd1a4b08",
   "metadata": {},
   "outputs": [],
   "source": [
    "l1 = ['once in a week or 15 days ', 'Once or twice in a year ( very rare )', 'Rarely']"
   ]
  },
  {
   "cell_type": "code",
   "execution_count": null,
   "id": "1c18ceb6",
   "metadata": {},
   "outputs": [],
   "source": [
    "l2 = ['Occasionally', 'Occasionally', 'Occasionally']"
   ]
  },
  {
   "cell_type": "code",
   "execution_count": null,
   "id": "a7ee1b78",
   "metadata": {},
   "outputs": [],
   "source": [
    "df['How often do you smoke in a day?'].replace(l1, l2, inplace=True)"
   ]
  },
  {
   "cell_type": "code",
   "execution_count": null,
   "id": "1279b20a",
   "metadata": {},
   "outputs": [],
   "source": [
    "df['How often do you smoke in a day?'].unique()"
   ]
  },
  {
   "cell_type": "code",
   "execution_count": null,
   "id": "e39724bb",
   "metadata": {},
   "outputs": [],
   "source": [
    "df['Who do you sleep with usually in the bedroom?'].unique()"
   ]
  },
  {
   "cell_type": "code",
   "execution_count": null,
   "id": "1058726e",
   "metadata": {},
   "outputs": [],
   "source": [
    "# Alone\n",
    "# With Parents\n",
    "# With Siblings\n",
    "# With Children\n",
    "# With Roommates\n",
    "# With Partner"
   ]
  },
  {
   "cell_type": "code",
   "execution_count": null,
   "id": "c0ab3376",
   "metadata": {},
   "outputs": [],
   "source": [
    "l1 = ['Brother', 'Sister ', 'With sisters', 'Sister', 'Younger brother ', 'sibling', \n",
    "     'With my other pillow', 'Sibling', 'With pet', 'With sibling', 'sibling and pets', 'Sibling ',\n",
    "     'Siblings ', 'Brother ', 'Siblings', 'With sister']"
   ]
  }
 ],
 "metadata": {
  "language_info": {
   "name": "python"
  }
 },
 "nbformat": 4,
 "nbformat_minor": 5
}
