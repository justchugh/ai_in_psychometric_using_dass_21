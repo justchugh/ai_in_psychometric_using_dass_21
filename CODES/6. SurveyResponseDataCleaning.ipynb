{
 "cells": [
  {
   "cell_type": "code",
   "execution_count": null,
   "id": "e3f2e49f",
   "metadata": {},
   "outputs": [],
   "source": [
    "# Importing necessary libraries\n",
    "import numpy as np\n",
    "import pandas as pd\n",
    "import matplotlib.pyplot as plt\n",
    "import seaborn as sns\n",
    "import sklearn"
   ]
  },
  {
   "cell_type": "code",
   "execution_count": null,
   "id": "10d4f682",
   "metadata": {},
   "outputs": [],
   "source": [
    "# Load dataset\n",
    "def reading_csv(filename):\n",
    "    df = pd.read_csv(filename)\n",
    "    return df\n",
    "df = reading_csv('../SurveyDataset/SurveyForm.xlsx')\n",
    "df.head()"
   ]
  },
  {
   "cell_type": "code",
   "execution_count": null,
   "id": "2a6764dc",
   "metadata": {},
   "outputs": [],
   "source": [
    "# Preprocess data\n",
    "r, c = df.shape\n",
    "df = df.iloc[:, :49]\n",
    "df.head()"
   ]
  },
  {
   "cell_type": "code",
   "execution_count": null,
   "id": "fdcc424f",
   "metadata": {},
   "outputs": [],
   "source": [
    "# Replace values for 'Who do you sleep with usually in the bedroom?'\n",
    "l1 = ['Brother', 'Sister ', 'With sisters', 'Sister', 'Younger brother ', 'sibling', 'With my other pillow', 'Sibling', 'With pet', 'With sibling', 'sibling and pets', 'Sibling ', 'Siblings ', 'Brother ', 'Siblings', 'With sister']\n",
    "l2 = ['With Siblings'] * len(l1)\n",
    "df['Who do you sleep with usually in the bedroom?'].replace(l1, l2, inplace=True)\n",
    "df['Who do you sleep with usually in the bedroom?'].unique()"
   ]
  },
  {
   "cell_type": "code",
   "execution_count": null,
   "id": "8c5f7cb5",
   "metadata": {},
   "outputs": [],
   "source": [
    "# Replace values for 'Who would you go to if you were having mental health issues?'\n",
    "l1 = ['Fam & Friends are equal', 'Courses like happy thought/ art of leaving I had taken treatment doing these courses. Now wish to do Vipasanna', 'Friends for minor issues', 'Maybe / I will keep to myself', 'You can go to everyone above. Not sure!!', 'I need a shift', 'no one']\n",
    "l2 = ['Family/Relatives', 'Therapist/Psychiatrist/Psychologist', 'Friends', 'No one', 'Family/Relatives', 'No one']\n"
   ]
  },
  {
   "cell_type": "code",
   "execution_count": null,
   "id": "ce5212aa",
   "metadata": {},
   "outputs": [],
   "source": [
    "# Add columns for mental health reasons\n",
    "cols = ['Fear and shame', 'Limited awareness', 'Lack of Knowledge', 'Feelings of inadequacy', 'Finance', 'Distrust', 'Hopelessness', 'Unavailability', 'Practical barriers', 'Stigma']\n",
    "data = np.zeros((r, 10), dtype=int)\n",
    "df_add = pd.DataFrame(data=data, columns=cols)\n",
    "df = pd.concat([df, df_add], axis=1)\n",
    "df.head()"
   ]
  },
  {
   "cell_type": "code",
   "execution_count": null,
   "id": "3fc73d9e",
   "metadata": {},
   "outputs": [],
   "source": [
    "# Update columns based on reasons\n",
    "old = list(df['What do you think is the reason for people not considering getting treated for mental health related problems?'])\n",
    "ind = 0\n",
    "for i in old:\n",
    "    val = i.split('/')\n",
    "    for k in val:\n",
    "        k = k.strip()\n",
    "        for j in cols:\n",
    "            if k == j:\n",
    "                df.loc[ind:ind, j] = 1\n",
    "                break\n",
    "    ind += 1\n",
    "df.head()"
   ]
  },
  {
   "cell_type": "code",
   "execution_count": null,
   "id": "e3d32833",
   "metadata": {},
   "outputs": [],
   "source": [
    "# Unique values for other columns\n",
    "df['Sex'].unique()\n",
    "df['How often do you consume alcohol in a week?'].unique()\n",
    "df['How often do you smoke in a day?'].unique()"
   ]
  },
  {
   "cell_type": "code",
   "execution_count": null,
   "id": "86b20d11",
   "metadata": {},
   "outputs": [],
   "source": [
    "# Replace values for 'How often do you consume alcohol in a week?'\n",
    "l1 = ['once a week', '2-3 time a week', 'ocassionally', 'Rarely', '1-2 times a month', 'Occasionally ', 'Rarely ', 'Once in a couple of months ', 'Everyday', '3-4 times a year ', 'once every few months', 'Once in 2 weeks', '1-2 times in a year', 'Once in a month or two', 'only drink during parties (occasionally)', 'Very rarely', 'Once in 2-3 weeks', 'Once a month ', \"Rarely when an outing with friends. Can't sa..."
   ]
  },
  {
   "cell_type": "code",
   "execution_count": null,
   "id": "b0cebab6",
   "metadata": {},
   "outputs": [],
   "source": [
    "# Replace values for 'How often do you smoke in a day?'\n",
    "l1 = ['once in a week or 15 days ', 'Once or twice in a year ( very rare )', 'Rarely']\n",
    "l2 = ['Occasionally'] * len(l1)\n",
    "df['How often do you smoke in a day?'].replace(l1, l2, inplace=True)\n",
    "df['How often do you smoke in a day?'].unique()"
   ]
  }
 ],
 "metadata": {},
 "nbformat": 4,
 "nbformat_minor": 5
}
