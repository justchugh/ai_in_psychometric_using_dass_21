{
 "cells": [
  {
   "cell_type": "code",
   "execution_count": null,
   "id": "3f2aeb35",
   "metadata": {},
   "outputs": [],
   "source": [
    "# Importing necessary libraries\n",
    "import numpy as np\n",
    "import pandas as pd\n",
    "import matplotlib.pyplot as plt\n",
    "import seaborn as sns\n",
    "import sklearn"
   ]
  },
  {
   "cell_type": "code",
   "execution_count": null,
   "id": "d47e37ea",
   "metadata": {},
   "outputs": [],
   "source": [
    "# Load dataset\n",
    "def reading_csv(filename):\n",
    "    df = pd.read_csv(filename)\n",
    "    return df\n",
    "df = reading_csv('../SurveyDataset/SurveyForm.xlsx')\n",
    "df.head()"
   ]
  },
  {
   "cell_type": "code",
   "execution_count": null,
   "id": "d7a38073",
   "metadata": {},
   "outputs": [],
   "source": [
    "# Preprocess data\n",
    "r, c = df.shape\n",
    "df = df.iloc[:, :49]\n",
    "df.head()"
   ]
  },
  {
   "cell_type": "code",
   "execution_count": null,
   "id": "892b47d5",
   "metadata": {},
   "outputs": [],
   "source": [
    "# Replace values for 'Who do you sleep with usually in the bedroom?'\n",
    "l1 = ['Brother', 'Sister ', 'With sisters', 'Sister', 'Younger brother ', 'sibling', 'With my other pillow', 'Sibling', 'With pet', 'With sibling', 'sibling and pets', 'Sibling ', 'Siblings ', 'Brother ', 'Siblings', 'With sister']\n",
    "l2 = ['With Siblings'] * len(l1)\n",
    "df['Who do you sleep with usually in the bedroom?'].replace(l1, l2, inplace=True)\n",
    "df['Who do you sleep with usually in the bedroom?'].unique()"
   ]
  },
  {
   "cell_type": "code",
   "execution_count": null,
   "id": "5d7e700b",
   "metadata": {},
   "outputs": [],
   "source": [
    "# Replace values for 'Who would you go to if you were having mental health issues?'\n",
    "l1 = ['Fam & Friends are equal', 'Courses like happy thought/ art of leaving I had taken treatment doing these courses . Now wish to do Vipasanna ', 'Friends for minor issues', 'Maybe / I will keep to myself', 'You can go to everyone above. Not sure!!', 'I need a shift', 'no one']\n",
    "l2 = ['Family/Relatives', 'Therapist/Psychiatrist/Psychologist', 'Friends', 'No one', 'Family/Relatives', 'No one']\n",
    "df['Who would you go to if you were having mental health issues?'].replace(l1, l2, inplace=True)\n",
    "df['Who would you go to if you were having mental health issues?'].unique()"
   ]
  },
  {
   "cell_type": "code",
   "execution_count": null,
   "id": "09861e78",
   "metadata": {},
   "outputs": [],
   "source": [
    "# Add columns for mental health reasons\n",
    "cols = ['Fear and shame', 'Limited awareness', 'Lack of Knowledge', 'Feelings of inadequacy', 'Finance', 'Distrust', 'Hopelessness', 'Unavailability', 'Practical barriers', 'Stigma']\n",
    "data = np.zeros((r, 10), dtype=int)\n",
    "df_add = pd.DataFrame(data=data, columns=cols)\n",
    "df = pd.concat([df, df_add], axis=1)\n",
    "df.head()"
   ]
  },
  {
   "cell_type": "code",
   "execution_count": null,
   "id": "b49d054c",
   "metadata": {},
   "outputs": [],
   "source": [
    "# Update columns based on reasons\n",
    "old = list(df['What do you think is the reason for people not considering getting treated for mental health related problems?'])\n",
    "ind = 0\n",
    "for i in old:\n",
    "    val = i.split('/')\n",
    "    for k in val:\n",
    "        k = k.strip()\n",
    "        for j in cols:\n",
    "            if k == j:\n",
    "                df.loc[ind:ind, j] = 1\n",
    "                break\n",
    "    ind += 1\n",
    "df.head()"
   ]
  },
  {
   "cell_type": "code",
   "execution_count": null,
   "id": "c85ca7c5",
   "metadata": {},
   "outputs": [],
   "source": [
    "# Unique values for other columns\n",
    "df['Sex'].unique()\n",
    "df['How often do you consume alcohol in a week?'].unique()\n",
    "df['How often do you smoke in a day?'].unique()"
   ]
  }
 ],
 "metadata": {},
 "nbformat": 4,
 "nbformat_minor": 5
}
