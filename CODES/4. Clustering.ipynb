{
 "cells": [
  {
   "cell_type": "code",
   "execution_count": null,
   "id": "70ed905f",
   "metadata": {},
   "outputs": [],
   "source": [
    "\n",
    "# Importing necessary libraries\n",
    "import numpy as np\n",
    "import pandas as pd\n",
    "import matplotlib.pyplot as plt\n",
    "import seaborn as sns\n",
    "import sklearn \n",
    "from sklearn.cluster import KMeans \n",
    "from kmodes.kmodes import KModes\n",
    "from sklearn.preprocessing import StandardScaler, normalize \n",
    "from sklearn.metrics import silhouette_score \n",
    "from sklearn.decomposition import PCA\n",
    "import collections\n",
    "import plotly.graph_objects as go\n",
    "import plotly.express as px\n",
    "import warnings\n",
    "warnings.filterwarnings(\"ignore\")"
   ]
  },
  {
   "cell_type": "code",
   "execution_count": null,
   "id": "d765f294",
   "metadata": {},
   "outputs": [],
   "source": [
    "# reading csv file\n",
    "df_dep=pd.read_csv(\"../Datasets/Depression.csv\")\n",
    "df_anx=pd.read_csv(\"../Datasets/Anxiety.csv\")\n",
    "df_str=pd.read_csv(\"../Datasets/Stress.csv\")"
   ]
  },
  {
   "cell_type": "code",
   "execution_count": null,
   "id": "77cb68e2",
   "metadata": {},
   "outputs": [],
   "source": [
    "# sampling dataset\n",
    "df_dep_samp=df_dep.sample(n=2500)\n",
    "df_anx_samp=df_anx.sample(n=2500)\n",
    "df_str_samp=df_str.sample(n=2500)\n",
    "X_dep=df_dep_samp.iloc[:,0:7]\n",
    "X_anx=df_anx_samp.iloc[:,0:7]\n",
    "X_str=df_str_samp.iloc[:,0:7]"
   ]
  },
  {
   "cell_type": "code",
   "execution_count": null,
   "id": "6ddb193f",
   "metadata": {},
   "outputs": [],
   "source": [
    "# Reduce dimensions using PCA\n",
    "pca = PCA(n_components = 3, random_state=1)\n",
    "X_pca_dep = pca.fit_transform(X_dep)\n",
    "X_pca_anx = pca.fit_transform(X_anx)\n",
    "X_pca_str = pca.fit_transform(X_str)"
   ]
  },
  {
   "cell_type": "code",
   "execution_count": null,
   "id": "52583710",
   "metadata": {},
   "outputs": [],
   "source": [
    "# Kmeans"
   ]
  },
  {
   "cell_type": "code",
   "execution_count": null,
   "id": "670fbcb5",
   "metadata": {},
   "outputs": [],
   "source": [
    "### Elbow Method\n",
    "wcss_dep = []\n",
    "wcss_anx = []\n",
    "wcss_str = []\n",
    "clusters=7\n",
    "for i in range(1,clusters+1):\n",
    "    kmeans = KMeans(n_clusters = i, init = 'k-means++', max_iter = 300, n_init = 10, random_state = 66)\n",
    "    kmeans.fit(X_dep)\n",
    "    wcss_dep.append(kmeans.inertia_)\n",
    "    kmeans.fit(X_anx)\n",
    "    wcss_anx.append(kmeans.inertia_)\n",
    "    kmeans.fit(X_str)\n",
    "    wcss_str.append(kmeans.inertia_)\n",
    "fig = go.Figure()\n",
    "fig.add_trace(go.Scatter(x=list(range(1,clusters+1)), y=wcss_dep, mode='lines+markers', name='Depression Dataset'))\n",
    "fig.add_trace(go.Scatter(x=list(range(1,clusters+1)), y=wcss_anx, mode='lines+markers', name='Anxiety Dataset'))\n",
    "fig.add_trace(go.Scatter(x=list(range(1,clusters+1)), y=wcss_str, mode='lines+markers', name='Stress Dataset'))\n",
    "fig.show()"
   ]
  },
  {
   "cell_type": "code",
   "execution_count": null,
   "id": "36077517",
   "metadata": {},
   "outputs": [],
   "source": [
    "### Silhouette Method\n",
    "for cluster in range(2, clusters+1):\n",
    "    km = KMeans(n_clusters = cluster, random_state = 1)\n",
    "    y = km.fit_predict(X_dep)"
   ]
  },
  {
   "cell_type": "code",
   "execution_count": null,
   "id": "e894d45e",
   "metadata": {},
   "outputs": [],
   "source": [
    "    fig, ax1 = plt.subplots(1, 1)\n",
    "    fig.set_size_inches(18, 7)\n",
    "    \n",
    "    ax1.set_xlim([-0.1, 1])\n",
    "    ax1.set_ylim([0, len(X_dep) + (cluster + 1) * 10])\n",
    "    \n",
    "    score = silhouette_score(X_dep, y)\n",
    "    print('score :',score)"
   ]
  },
  {
   "cell_type": "code",
   "execution_count": null,
   "id": "353d6c42",
   "metadata": {},
   "outputs": [],
   "source": [
    "    sil_sample = silhouette_samples(X_dep, y)\n",
    "    y_lower = 10\n",
    "    for i in range(cluster):\n",
    "        i_sil_sample = sil_sample[y==i]\n",
    "        i_sil_sample.sort()\n",
    "        y_upper = y_lower + i_sil_sample.shape[0]\n",
    "        ax1.fill_betweenx(np.arange(y_lower,y_upper),0,i_sil_sample)\n",
    "        y_lower = y_upper + 10"
   ]
  },
  {
   "cell_type": "code",
   "execution_count": null,
   "id": "4f1a7ea9",
   "metadata": {},
   "outputs": [],
   "source": [
    "score : 0.39232409588781264\n",
    "score : 0.27720286655299414"
   ]
  },
  {
   "cell_type": "code",
   "execution_count": null,
   "id": "d3f10f15",
   "metadata": {},
   "outputs": [],
   "source": [
    "## Kmeans visualization\n",
    "kmeans = KMeans(n_clusters = 3, init = 'k-means++', max_iter = 300, n_init = 10, random_state = 1)\n",
    "ymeans = kmeans.fit_predict(X_dep)\n",
    "print(\"Depression\",collections.Counter(ymeans))\n",
    "x, y, z = X_pca_dep.T\n",
    "fig = px.scatter_3d(x = x, y = y, z = z, color = ymeans, opacity= 0.70, template='ggplot2')\n",
    "fig.update_traces(marker=dict(size=4), selector=dict(mode='markers'))\n",
    "fig.show()\n"
   ]
  }
 ],
 "metadata": {},
 "nbformat": 4,
 "nbformat_minor": 5
}
