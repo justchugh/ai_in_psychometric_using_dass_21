{
 "cells": [
  {
   "cell_type": "code",
   "execution_count": null,
   "id": "1497ea02",
   "metadata": {},
   "outputs": [],
   "source": [
    "# Importing necessary libraries\n",
    "import numpy as np\n",
    "import pandas as pd\n",
    "import matplotlib.pyplot as plt\n",
    "import seaborn as sns\n",
    "import sklearn \n",
    "from sklearn.cluster import KMeans \n",
    "from kmodes.kmodes import KModes\n",
    "from sklearn.preprocessing import StandardScaler, normalize \n",
    "from sklearn.metrics import silhouette_score \n",
    "from sklearn.metrics import silhouette_samples\n",
    "from sklearn.decomposition import PCA\n",
    "import collections\n",
    "import scipy.cluster.hierarchy as hier\n",
    "import plotly.graph_objects as go\n",
    "import plotly.offline as pyo\n",
    "import plotly.express as px\n",
    "from plotly.subplots import make_subplots\n",
    "from plotly import tools\n",
    "import plotly.figure_factory as ff\n",
    "from sklearn_extra.cluster import KMedoids\n",
    "import scipy.cluster.hierarchy as sch\n",
    "from sklearn.cluster import AgglomerativeClustering\n",
    "import warnings\n",
    "warnings.filterwarnings(\"ignore\")"
   ]
  },
  {
   "cell_type": "code",
   "execution_count": null,
   "id": "ea357c03",
   "metadata": {},
   "outputs": [],
   "source": [
    "# reading csv file\n",
    "df_dep=pd.read_csv(\"../Datasets/Depression.csv\")\n",
    "df_anx=pd.read_csv(\"../Datasets/Anxiety.csv\")\n",
    "df_str=pd.read_csv(\"../Datasets/Stress.csv\")\n",
    "df=pd.read_csv(\"../Datasets/CleanData.csv\")"
   ]
  },
  {
   "cell_type": "code",
   "execution_count": null,
   "id": "77f28e03",
   "metadata": {},
   "outputs": [],
   "source": [
    "# sampling dataset\n",
    "df_dep_samp=df_dep.sample(n=2500)\n",
    "df_anx_samp=df_anx.sample(n=2500)\n",
    "df_str_samp=df_str.sample(n=2500)"
   ]
  },
  {
   "cell_type": "code",
   "execution_count": null,
   "id": "86d1d035",
   "metadata": {},
   "outputs": [],
   "source": [
    "X_dep=df_dep_samp.iloc[:,0:7]\n",
    "X_anx=df_anx_samp.iloc[:,0:7]\n",
    "X_str=df_str_samp.iloc[:,0:7]"
   ]
  },
  {
   "cell_type": "markdown",
   "id": "1b4aa27b",
   "metadata": {},
   "source": [
    "### since we have 7features each dataset, it's hard to visualize hence we will reduce the dimensions using PCA"
   ]
  },
  {
   "cell_type": "code",
   "execution_count": null,
   "id": "ed87b205",
   "metadata": {},
   "outputs": [],
   "source": [
    "pca = PCA(n_components = 3, random_state=1)\n",
    "X_pca_dep = pca.fit_transform(X_dep)\n",
    "pca.explained_variance_ratio_.cumsum()[1]"
   ]
  },
  {
   "cell_type": "code",
   "execution_count": null,
   "id": "4c35137a",
   "metadata": {},
   "outputs": [],
   "source": [
    "pca = PCA(n_components = 3, random_state=1)\n",
    "X_pca_anx = pca.fit_transform(X_anx)\n",
    "pca.explained_variance_ratio_.cumsum()[1]"
   ]
  },
  {
   "cell_type": "code",
   "execution_count": null,
   "id": "b50c3f42",
   "metadata": {},
   "outputs": [],
   "source": [
    "pca = PCA(n_components = 3, random_state=1)\n",
    "X_pca_str = pca.fit_transform(X_str)\n",
    "pca.explained_variance_ratio_.cumsum()[1]"
   ]
  },
  {
   "cell_type": "markdown",
   "id": "d79894e9",
   "metadata": {},
   "source": [
    "# Kmeans\n",
    "\n",
    "### Elbow Method"
   ]
  },
  {
   "cell_type": "code",
   "execution_count": null,
   "id": "8e531655",
   "metadata": {},
   "outputs": [],
   "source": [
    "wcss_dep = []\n",
    "wcss_anx = []\n",
    "wcss_str = []\n",
    "clusters=7\n",
    "for i in range(1,clusters+1):\n",
    "    kmeans = KMeans(n_clusters = i, init = 'k-means++', max_iter = 300, n_init = 10, random_state = 66)\n",
    "    kmeans.fit(X_dep)\n",
    "    wcss_dep.append(kmeans.inertia_)\n",
    "    kmeans = KMeans(n_clusters = i, init = 'k-means++', max_iter = 300, n_init = 10, random_state = 66)\n",
    "    kmeans.fit(X_anx)\n",
    "    wcss_anx.append(kmeans.inertia_)\n",
    "    kmeans = KMeans(n_clusters = i, init = 'k-means++', max_iter = 300, n_init = 10, random_state = 66)\n",
    "    kmeans.fit(X_str)\n",
    "    wcss_str.append(kmeans.inertia_)"
   ]
  },
  {
   "cell_type": "code",
   "execution_count": null,
   "id": "2b88efce",
   "metadata": {},
   "outputs": [],
   "source": [
    "fig = go.Figure()\n",
    "fig.add_trace(go.Scatter(x=list(range(1,clusters+1)), y=wcss_dep,\n",
    "                    mode='lines+markers',\n",
    "                    name='Depression Dataset'))\n",
    "fig.add_trace(go.Scatter(x=list(range(1,clusters+1)), y=wcss_anx,\n",
    "                    mode='lines+markers',\n",
    "                    name='Anxiety Dataset'))\n",
    "fig.add_trace(go.Scatter(x=list(range(1,clusters+1)), y=wcss_str,\n",
    "                    mode='lines+markers',\n",
    "                    name='Stress Dataset'))\n",
    "\n",
    "fig.show()"
   ]
  },
  {
   "cell_type": "markdown",
   "id": "68f8626c",
   "metadata": {},
   "source": [
    "### Silhouette Method"
   ]
  },
  {
   "cell_type": "code",
   "execution_count": null,
   "id": "3e1d8bd1",
   "metadata": {},
   "outputs": [],
   "source": [
    "for cluster in range(2, clusters+1):\n",
    "    km = KMeans(n_clusters = cluster, random_state = 1)\n",
    "    y = km.fit_predict(X_dep)\n",
    "\n",
    "    fig, ax1 = plt.subplots(1, 1)\n",
    "    fig.set_size_inches(18, 7)\n",
    "    \n",
    "    ax1.set_xlim([-0.1, 1])\n",
    "    ax1.set_ylim([0, len(X_dep) + (cluster + 1) * 10])\n",
    "    \n",
    "    score = silhouette_score(X_dep, y)\n",
    "    print('score :',score)\n",
    "\n",
    "    sil_sample = silhouette_samples(X_dep, y)\n",
    "    y_lower = 10\n",
    "    for i in range(cluster):\n",
    "        i_sil_sample = sil_sample[y==i]\n",
    "        i_sil_sample.sort()\n",
    "        y_upper = y_lower + i_sil_sample.shape[0]\n",
    "        ax1.fill_betweenx(np.arange(y_lower,y_upper),0,i_sil_sample)\n",
    "        y_lower = y_upper + 10\n",
    "\n",
    "score : 0.39232409588781264\n",
    "score : 0.27720286655299414\n",
    "score : 0.22110603157855677\n",
    "score : 0.2136019593398565\n",
    "score : 0.21452871640188279\n",
    "score : 0.1970685583541331"
   ]
  },
  {
   "cell_type": "markdown",
   "id": "f15b6712",
   "metadata": {},
   "source": [
    "## Kmeans visualization"
   ]
  },
  {
   "cell_type": "code",
   "execution_count": null,
   "id": "12d4516c",
   "metadata": {},
   "outputs": [],
   "source": [
    "kmeans = KMeans(n_clusters = 3, init = 'k-means++', max_iter = 300, n_init = 10, random_state = 1)\n",
    "ymeans = kmeans.fit_predict(X_dep)\n",
    "print(\"Depression\",collections.Counter(ymeans))"
   ]
  },
  {
   "cell_type": "code",
   "execution_count": null,
   "id": "2eb8af36",
   "metadata": {},
   "outputs": [],
   "source": [
    "x, y, z = X_pca_dep.T\n",
    "fig = px.scatter_3d(x = x, y = y, z = z, color = ymeans, opacity= 0.70, template='ggplot2')\n",
    "fig.update_traces(marker=dict(size=4),\n",
    "                  selector=dict(mode='markers'))\n",
    "fig.show()"
   ]
  },
  {
   "cell_type": "code",
   "execution_count": null,
   "id": "c469e3ba",
   "metadata": {},
   "outputs": [],
   "source": [
    "kmeans = KMeans(n_clusters = 3, init = 'k-means++', max_iter = 300, n_init = 10, random_state = 1)\n",
    "ymeans = kmeans.fit_predict(X_anx)\n",
    "print(\"Anxiety\",collections.Counter(ymeans))"
   ]
  },
  {
   "cell_type": "code",
   "execution_count": null,
   "id": "02de8cb1",
   "metadata": {},
   "outputs": [],
   "source": [
    "x, y, z = X_pca_anx.T\n",
    "fig = px.scatter_3d(x = x, y = y, z = z, color = ymeans, opacity= 0.70, template='ggplot2')\n",
    "fig.update_traces(marker=dict(size=4),\n",
    "                  selector=dict(mode='markers'))\n",
    "fig.show()"
   ]
  },
  {
   "cell_type": "code",
   "execution_count": null,
   "id": "48a611a1",
   "metadata": {},
   "outputs": [],
   "source": [
    "kmeans = KMeans(n_clusters = 3, init = 'k-means++', max_iter = 300, n_init = 10, random_state = 1)\n",
    "ymeans = kmeans.fit_predict(X_str)\n",
    "print(\"Stress\",collections.Counter(ymeans))"
   ]
  },
  {
   "cell_type": "code",
   "execution_count": null,
   "id": "1600a7ca",
   "metadata": {},
   "outputs": [],
   "source": [
    "x, y, z = X_pca_str.T\n",
    "fig = px.scatter_3d(x = x, y = y, z = z, color = ymeans, opacity= 0.70, template='ggplot2')\n",
    "fig.update_traces(marker=dict(size=4),\n",
    "                  selector=dict(mode='markers'))\n",
    "fig.show()"
   ]
  },
  {
   "cell_type": "markdown",
   "id": "ce20344f",
   "metadata": {},
   "source": [
    "# Kmediods<a href=\"#Kmediods\" class=\"anchor-link\">¶</a>\n",
    "\n",
    "### Elbow method<a href=\"#Elbow-method\" class=\"anchor-link\">¶</a>"
   ]
  },
  {
   "cell_type": "code",
   "execution_count": null,
   "id": "797f68ea",
   "metadata": {},
   "outputs": [],
   "source": [
    "wcss_dep = []\n",
    "wcss_anx = []\n",
    "wcss_str = []\n",
    "clusters=7\n",
    "for i in range(1,clusters+1):\n",
    "    kmed = KMedoids(metric=\"euclidean\", n_clusters=i,init=\"heuristic\", max_iter=7)\n",
    "    kmed.fit_predict(X_dep)\n",
    "    wcss_dep.append(kmed.inertia_)\n",
    "    \n",
    "    kmed = KMedoids(metric=\"euclidean\", n_clusters=i,init=\"heuristic\", max_iter=7)\n",
    "    kmed.fit_predict(X_anx)\n",
    "    wcss_anx.append(kmed.inertia_)\n",
    "    \n",
    "    kmed = KMedoids(metric=\"euclidean\", n_clusters=i,init=\"heuristic\", max_iter=7)\n",
    "    kmed.fit_predict(X_str)\n",
    "    wcss_str.append(kmed.inertia_)"
   ]
  },
  {
   "cell_type": "code",
   "execution_count": null,
   "id": "311d1263",
   "metadata": {},
   "outputs": [],
   "source": [
    "fig = go.Figure()\n",
    "fig.add_trace(go.Scatter(x=list(range(1,clusters+1)), y=wcss_dep,\n",
    "                    mode='lines+markers',\n",
    "                    name='Depression Dataset'))\n",
    "fig.add_trace(go.Scatter(x=list(range(1,clusters+1)), y=wcss_anx,\n",
    "                    mode='lines+markers',\n",
    "                    name='Anxiety Dataset'))\n",
    "fig.add_trace(go.Scatter(x=list(range(1,clusters+1)), y=wcss_str,\n",
    "                    mode='lines+markers',\n",
    "                    name='Stress Dataset'))\n",
    "\n",
    "fig.show()"
   ]
  },
  {
   "cell_type": "markdown",
   "id": "6cb01217",
   "metadata": {},
   "source": [
    "### Silhouette Method<a href=\"#Silhouette-Method\" class=\"anchor-link\">¶</a>"
   ]
  },
  {
   "cell_type": "code",
   "execution_count": null,
   "id": "2164e7c2",
   "metadata": {},
   "outputs": [],
   "source": [
    "for cluster in range(2, clusters+1):\n",
    "    km = KMeans(n_clusters = cluster, random_state = 1)\n",
    "    y = km.fit_predict(X_dep)\n",
    "    \n",
    "    kmed = KMedoids(metric=\"euclidean\", n_clusters=cluster,init=\"heuristic\", max_iter=7)\n",
    "    kmed.fit_predict(X_dep)\n",
    "    \n",
    "    fig, ax1 = plt.subplots(1, 1)\n",
    "    fig.set_size_inches(18, 7)\n",
    "    \n",
    "    ax1.set_xlim([-0.1, 1])\n",
    "    ax1.set_ylim([0, len(X_dep) + (cluster + 1) * 10])\n",
    "    \n",
    "    score = silhouette_score(X_dep, y)\n",
    "    print('score :',score)\n",
    "\n",
    "    sil_sample = silhouette_samples(X_dep, y)\n",
    "    y_lower = 10\n",
    "    for i in range(cluster):\n",
    "        i_sil_sample = sil_sample[y==i]\n",
    "        i_sil_sample.sort()\n",
    "        y_upper = y_lower + i_sil_sample.shape[0]\n",
    "        ax1.fill_betweenx(np.arange(y_lower,y_upper),0,i_sil_sample)\n",
    "        y_lower = y_upper + 10\n",
    "\n",
    "score : 0.39232409588781264\n",
    "score : 0.27720286655299414\n",
    "score : 0.22110603157855677\n",
    "score : 0.2136019593398565\n",
    "score : 0.21452871640188279\n",
    "score : 0.1970685583541331"
   ]
  },
  {
   "cell_type": "markdown",
   "id": "11bd4877",
   "metadata": {},
   "source": [
    "### Kmediods visualization<a href=\"#Kmediods-visualization\" class=\"anchor-link\">¶</a>"
   ]
  },
  {
   "cell_type": "code",
   "execution_count": null,
   "id": "1180a448",
   "metadata": {},
   "outputs": [],
   "source": [
    "kmed = KMedoids(metric=\"manhattan\", n_clusters=3,init='k-medoids++', max_iter=7)\n",
    "ymed = kmed.fit_predict(X_dep)\n",
    "print(\"Depression\",collections.Counter(ymed))\n",
    "\n",
    "Depression Counter({0: 1147, 1: 678, 2: 675})"
   ]
  },
  {
   "cell_type": "code",
   "execution_count": null,
   "id": "4092fd09",
   "metadata": {},
   "outputs": [],
   "source": [
    "x, y, z = X_pca_dep.T\n",
    "fig = px.scatter_3d(x = x, y = y, z = z, color = ymed, opacity= 0.70, template='ggplot2')\n",
    "fig.update_traces(marker=dict(size=4),\n",
    "                  selector=dict(mode='markers'))\n",
    "fig.show()"
   ]
  },
  {
   "cell_type": "code",
   "execution_count": null,
   "id": "2af13c6d",
   "metadata": {},
   "outputs": [],
   "source": [
    "kmed = KMedoids(metric=\"manhattan\", n_clusters=3,init='k-medoids++', max_iter=7)\n",
    "ymed = kmed.fit_predict(X_anx)\n",
    "print(\"Anxiety\",collections.Counter(ymed))\n",
    "\n",
    "Anxiety Counter({1: 1041, 0: 878, 2: 581})"
   ]
  },
  {
   "cell_type": "code",
   "execution_count": null,
   "id": "69c85b8e",
   "metadata": {},
   "outputs": [],
   "source": [
    "x, y, z = X_pca_anx.T\n",
    "fig = px.scatter_3d(x = x, y = y, z = z, color = ymed, opacity= 0.70, template='ggplot2')\n",
    "fig.update_traces(marker=dict(size=4),\n",
    "                  selector=dict(mode='markers'))\n",
    "fig.show()"
   ]
  },
  {
   "cell_type": "code",
   "execution_count": null,
   "id": "b741c5bd",
   "metadata": {},
   "outputs": [],
   "source": [
    "kmed = KMedoids(metric=\"manhattan\", n_clusters=3,init='k-medoids++', max_iter=7)\n",
    "ymed = kmed.fit_predict(X_str)\n",
    "print(\"Stress\",collections.Counter(ymed))\n",
    "\n",
    "stress_Counter({0: 1570, 1: 606, 2: 324})"
   ]
  },
  {
   "cell_type": "markdown",
   "id": "2fd5d3f5",
   "metadata": {},
   "source": [
    "# Kmodes<a href=\"#Kmodes\" class=\"anchor-link\">¶</a>\n",
    "\n",
    "### Elbow method<a href=\"#Elbow-method\" class=\"anchor-link\">¶</a>"
   ]
  },
  {
   "cell_type": "markdown",
   "id": "9c304da1",
   "metadata": {},
   "source": [
    "# Hierarchical Clustering<a href=\"#Hierarchical-Clustering\" class=\"anchor-link\">¶</a>\n",
    "\n",
    "### dendogram to find out ideal no. of clusters<a href=\"#dendogram-to-find-out-ideal-no.-of-clusters\" class=\"anchor-link\">¶</a>"
   ]
  },
  {
   "cell_type": "code",
   "execution_count": null,
   "id": "25005ec7",
   "metadata": {},
   "outputs": [],
   "source": [
    "plt.figure(figsize =(8, 8)) \n",
    "plt.title('Visualising the data') \n",
    "Dendrogram = sch.dendrogram((sch.linkage(X_pca_dep, method ='ward')))"
   ]
  },
  {
   "cell_type": "code",
   "execution_count": null,
   "id": "f1c91441",
   "metadata": {},
   "outputs": [],
   "source": [
    "plt.figure(figsize =(8, 8)) \n",
    "plt.title('Visualising the data') \n",
    "Dendrogram = sch.dendrogram((sch.linkage(X_pca_anx, method ='ward')))"
   ]
  },
  {
   "cell_type": "code",
   "execution_count": null,
   "id": "c48cc92e",
   "metadata": {},
   "outputs": [],
   "source": [
    "plt.figure(figsize =(8, 8)) \n",
    "plt.title('Visualising the data') \n",
    "Dendrogram = sch.dendrogram((sch.linkage(X_pca_str, method ='ward')))"
   ]
  },
  {
   "cell_type": "code",
   "execution_count": null,
   "id": "953e36f3",
   "metadata": {},
   "outputs": [],
   "source": [
    "agg = AgglomerativeClustering(n_clusters = 3) \n",
    "yagg = agg.fit_predict(X_dep)\n",
    "print(\"Depression\",collections.Counter(yagg))\n",
    "\n",
    "Depression Counter({0: 1019, 2: 848, 1: 633})"
   ]
  },
  {
   "cell_type": "code",
   "execution_count": null,
   "id": "de8725c9",
   "metadata": {},
   "outputs": [],
   "source": [
    "x, y, z = X_pca_dep.T\n",
    "fig = px.scatter_3d(x = x, y = y, z = z, color = yagg, opacity= 0.70)\n",
    "fig.update_traces(marker=dict(size=4),\n",
    "                  selector=dict(mode='markers'))\n",
    "fig.show()"
   ]
  },
  {
   "cell_type": "code",
   "execution_count": null,
   "id": "ec114540",
   "metadata": {},
   "outputs": [],
   "source": [
    "agg = AgglomerativeClustering(n_clusters = 3) \n",
    "yagg = agg.fit_predict(X_anx)\n",
    "print(\"Anxiety\",collections.Counter(yagg))\n",
    "\n",
    "Anxiety Counter({0: 1044, 2: 902, 1: 554})"
   ]
  },
  {
   "cell_type": "code",
   "execution_count": null,
   "id": "295cf596",
   "metadata": {},
   "outputs": [],
   "source": [
    "x, y, z = X_pca_anx.T\n",
    "fig = px.scatter_3d(x = x, y = y, z = z, color = yagg, opacity= 0.70)\n",
    "fig.update_traces(marker=dict(size=4),\n",
    "                  selector=dict(mode='markers'))\n",
    "fig.show()"
   ]
  },
  {
   "cell_type": "code",
   "execution_count": null,
   "id": "f62611f0",
   "metadata": {},
   "outputs": [],
   "source": [
    "agg = AgglomerativeClustering(n_clusters = 3) \n",
    "yagg = agg.fit_predict(X_str)\n",
    "print(\"Stress\",collections.Counter(yagg))\n",
    "\n",
    "Stress Counter({0: 1034, 2: 772, 1: 694})"
   ]
  },
  {
   "cell_type": "code",
   "execution_count": null,
   "id": "2f5a5629",
   "metadata": {},
   "outputs": [],
   "source": [
    "x, y, z = X_pca_str.T\n",
    "fig = px.scatter_3d(x = x, y = y, z = z, color = yagg, opacity= 0.70)\n",
    "fig.update_traces(marker=dict(size=4),\n",
    "                  selector=dict(mode='markers'))\n",
    "fig.show()"
   ]
  },
  {
   "cell_type": "code",
   "execution_count": null,
   "id": "313a629c",
   "metadata": {},
   "outputs": [],
   "source": [
    "clusters = 7\n",
    "cost_dep = []\n",
    "cost_anx = []\n",
    "cost_str = []\n",
    "for cluster in range(2, clusters+1):\n",
    "    km2 = KModes(n_clusters = cluster, init='Cao', random_state = 1, n_jobs= -1)\n",
    "    km2.fit_predict(X_dep)\n",
    "    cost_dep.append(km2.cost_)\n",
    "    km2 = KModes(n_clusters = cluster, init='Cao', random_state = 1, n_jobs= -1)\n",
    "    km2.fit_predict(X_anx)\n",
    "    cost_anx.append(km2.cost_)\n",
    "    km2 = KModes(n_clusters = cluster, init='Cao', random_state = 1, n_jobs= -1)\n",
    "    km2.fit_predict(X_str)\n",
    "    cost_str.append(km2.cost_)"
   ]
  },
  {
   "cell_type": "code",
   "execution_count": null,
   "id": "16835519",
   "metadata": {},
   "outputs": [],
   "source": [
    "fig = go.Figure()\n",
    "fig.add_trace(go.Scatter(x=list(range(1,clusters+1)), y=cost_dep,\n",
    "                    mode='lines+markers',\n",
    "                    name='Depression Dataset'))\n",
    "fig.add_trace(go.Scatter(x=list(range(1,clusters+1)), y=cost_anx,\n",
    "                    mode='lines+markers',\n",
    "                    name='Anxiety Dataset'))\n",
    "fig.add_trace(go.Scatter(x=list(range(1,clusters+1)), y=cost_str,\n",
    "                    mode='lines+markers',\n",
    "                    name='Stress Dataset'))\n",
    "\n",
    "fig.show()"
   ]
  },
  {
   "cell_type": "code",
   "execution_count": null,
   "id": "6ee1d8ad",
   "metadata": {},
   "outputs": [],
   "source": [
    "clusters = 7\n",
    "for cluster in range(2, clusters+1):\n",
    "    km2 = KModes(n_clusters = cluster,init = 'Cao', random_state = 3, n_jobs= -1)\n",
    "    y = km2.fit_predict(X_dep)\n",
    "\n",
    "    fig, ax1 = plt.subplots(1, 1)\n",
    "    fig.set_size_inches(18, 7)\n",
    "    \n",
    "    ax1.set_xlim([-0.1, 1])\n",
    "    ax1.set_ylim([0, len(X_dep) + (cluster + 1) * 10])\n",
    "    \n",
    "    score = silhouette_score(X_dep, y)\n",
    "    print('score :',score)\n",
    "\n",
    "    sil_sample = silhouette_samples(X_dep, y)\n",
    "    y_lower = 10\n",
    "    for i in range(cluster):\n",
    "        i_sil_sample = sil_sample[y==i]\n",
    "        i_sil_sample.sort()\n",
    "        y_upper = y_lower + i_sil_sample.shape[0]\n",
    "        ax1.fill_betweenx(np.arange(y_lower,y_upper),0,i_sil_sample, )\n",
    "        y_lower = y_upper + 10\n",
    "\n",
    "score : 0.26597458474860103\n",
    "score : 0.2236947342213366\n",
    "score : 0.14033351564375293\n",
    "score : 0.14310833113922744\n",
    "score : 0.10851150188863369\n",
    "score : 0.10280108604364291"
   ]
  },
  {
   "cell_type": "markdown",
   "id": "b1618823",
   "metadata": {},
   "source": [
    "### Kmodes visualization<a href=\"#Kmodes-visualization\" class=\"anchor-link\">¶</a>"
   ]
  },
  {
   "cell_type": "code",
   "execution_count": null,
   "id": "522cfd48",
   "metadata": {},
   "outputs": [],
   "source": [
    "kmod = KModes(n_clusters = 3, init='Cao', random_state = 1, n_jobs= -1)\n",
    "ymod = kmod.fit_predict(X_dep)\n",
    "print(\"Depression\",collections.Counter(ymod))\n",
    "\n",
    "Depression Counter({0: 1098, 2: 798, 1: 604})"
   ]
  },
  {
   "cell_type": "code",
   "execution_count": null,
   "id": "b7aa74d2",
   "metadata": {},
   "outputs": [],
   "source": [
    "x, y, z = X_pca_dep.T\n",
    "fig = px.scatter_3d(x = x, y = y, z = z, color = ymod, opacity= 0.70)\n",
    "fig.update_traces(marker=dict(size=4),\n",
    "                  selector=dict(mode='markers'))\n",
    "fig.show()"
   ]
  },
  {
   "cell_type": "code",
   "execution_count": null,
   "id": "e3d40de5",
   "metadata": {},
   "outputs": [],
   "source": [
    "kmod = KModes(n_clusters = 3, init='Cao', random_state = 1, n_jobs= -1)\n",
    "ymod = kmod.fit_predict(X_anx)\n",
    "print(\"Anxiety\",collections.Counter(ymod))\n",
    "\n",
    "Anxiety Counter({0: 1241, 1: 923, 2: 336})"
   ]
  },
  {
   "cell_type": "code",
   "execution_count": null,
   "id": "a258c765",
   "metadata": {},
   "outputs": [],
   "source": [
    "x, y, z = X_pca_anx.T\n",
    "fig = px.scatter_3d(x = x, y = y, z = z, color = ymod, opacity= 0.70)\n",
    "fig.update_traces(marker=dict(size=4),\n",
    "                  selector=dict(mode='markers'))\n",
    "fig.show()"
   ]
  },
  {
   "cell_type": "code",
   "execution_count": null,
   "id": "2893cbc6",
   "metadata": {},
   "outputs": [],
   "source": [
    "kmod = KModes(n_clusters = 3, init='Cao', random_state = 1, n_jobs= -1)\n",
    "ymod = kmod.fit_predict(X_str)\n",
    "print(\"Stress\",collections.Counter(ymod))\n",
    "\n",
    "Stress Counter({0: 1570, 1: 606, 2: 324})"
   ]
  },
  {
   "cell_type": "code",
   "execution_count": null,
   "id": "4710c8e3",
   "metadata": {},
   "outputs": [],
   "source": [
    "x, y, z = X_pca_str.T\n",
    "fig = px.scatter_3d(x = x, y = y, z = z, color = ymod, opacity= 0.70)\n",
    "fig.update_traces(marker=dict(size=4),\n",
    "                  selector=dict(mode='markers'))\n",
    "fig.show()"
   ]
  },
  {
   "cell_type": "code",
   "execution_count": null,
   "id": "00939d5d",
   "metadata": {},
   "outputs": [],
   "source": [
    "x, y, z = X_pca_str.T\n",
    "fig = px.scatter_3d(x = x, y = y, z = z, color = ymed, opacity= 0.70, template='ggplot2')\n",
    "fig.update_traces(marker=dict(size=4),\n",
    "                  selector=dict(mode='markers'))\n",
    "fig.show()"
   ]
  }
 ],
 "metadata": {
  "language_info": {
   "name": "python"
  }
 },
 "nbformat": 4,
 "nbformat_minor": 5
}
