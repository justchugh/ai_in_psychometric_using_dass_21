{
 "cells": [
  {
   "cell_type": "code",
   "execution_count": null,
   "id": "e4bfd462",
   "metadata": {},
   "outputs": [],
   "source": [
    "\n",
    "# Importing necessary libraries\n",
    "import numpy as np\n",
    "import pandas as pd\n",
    "import matplotlib.pyplot as plt\n",
    "import seaborn as sns\n",
    "import sklearn \n",
    "from sklearn.cluster import KMeans \n",
    "from sklearn.decomposition import PCA\n",
    "import plotly.express as px\n",
    "import warnings\n",
    "warnings.filterwarnings(\"ignore\")"
   ]
  },
  {
   "cell_type": "code",
   "execution_count": null,
   "id": "892bbf2f",
   "metadata": {},
   "outputs": [],
   "source": [
    "# reading csv file\n",
    "df_dep=pd.read_csv(\"../Datasets/Depression.csv\")"
   ]
  },
  {
   "cell_type": "code",
   "execution_count": null,
   "id": "1f42e517",
   "metadata": {},
   "outputs": [],
   "source": [
    "# sampling dataset\n",
    "df_dep_samp=df_dep.sample(n=2500)\n",
    "X_dep=df_dep_samp.iloc[:,0:7]"
   ]
  },
  {
   "cell_type": "code",
   "execution_count": null,
   "id": "7b5593ec",
   "metadata": {},
   "outputs": [],
   "source": [
    "# Reduce dimensions using PCA\n",
    "pca = PCA(n_components = 3, random_state=1)\n",
    "X_pca_dep = pca.fit_transform(X_dep)"
   ]
  },
  {
   "cell_type": "code",
   "execution_count": null,
   "id": "2d8c99d8",
   "metadata": {},
   "outputs": [],
   "source": [
    "# Kmeans"
   ]
  },
  {
   "cell_type": "code",
   "execution_count": null,
   "id": "1d7dfbd5",
   "metadata": {},
   "outputs": [],
   "source": [
    "### Elbow Method\n",
    "wcss_dep = []\n",
    "clusters=7\n",
    "for i in range(1,clusters+1):\n",
    "    kmeans = KMeans(n_clusters = i, init = 'k-means++', max_iter = 300, n_init = 10, random_state = 66)\n",
    "    kmeans.fit(X_dep)\n",
    "    wcss_dep.append(kmeans.inertia_)\n",
    "fig = px.line(x=list(range(1,clusters+1)), y=wcss_dep, labels={'x':'Clusters', 'y':'WCSS'})\n",
    "fig.show()"
   ]
  },
  {
   "cell_type": "code",
   "execution_count": null,
   "id": "da80af60",
   "metadata": {},
   "outputs": [],
   "source": [
    "## Kmeans visualization\n",
    "kmeans = KMeans(n_clusters = 3, init = 'k-means++', max_iter = 300, n_init = 10, random_state = 1)\n",
    "ymeans = kmeans.fit_predict(X_dep)\n",
    "x, y, z = X_pca_dep.T\n",
    "fig = px.scatter_3d(x = x, y = y, z = z, color = ymeans, opacity= 0.70)\n",
    "fig.show()\n"
   ]
  }
 ],
 "metadata": {},
 "nbformat": 4,
 "nbformat_minor": 5
}
