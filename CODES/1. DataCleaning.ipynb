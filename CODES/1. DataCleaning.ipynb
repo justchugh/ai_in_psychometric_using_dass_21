{
 "cells": [
  {
   "cell_type": "code",
   "execution_count": null,
   "id": "8a23dd3a",
   "metadata": {},
   "outputs": [],
   "source": [
    "# Importing necessary libraries\n",
    "import numpy as np\n",
    "import pandas as pd\n",
    "import matplotlib.pyplot as plt\n",
    "import seaborn as sns"
   ]
  },
  {
   "cell_type": "code",
   "execution_count": null,
   "id": "9fb811de",
   "metadata": {},
   "outputs": [],
   "source": [
    "# Reading csv file\n",
    "df = pd.read_csv('../Datasets/data.csv')"
   ]
  },
  {
   "cell_type": "code",
   "execution_count": null,
   "id": "1e14d319",
   "metadata": {},
   "outputs": [],
   "source": [
    "# Size of dataset (rows, columns)\n",
    "df.shape"
   ]
  },
  {
   "cell_type": "code",
   "execution_count": null,
   "id": "fd2e1e3a",
   "metadata": {},
   "outputs": [],
   "source": [
    "# Columns\n",
    "df.columns"
   ]
  },
  {
   "cell_type": "code",
   "execution_count": null,
   "id": "7abef55b",
   "metadata": {},
   "outputs": [],
   "source": [
    "# Datatypes of columns\n",
    "df.dtypes"
   ]
  },
  {
   "cell_type": "code",
   "execution_count": null,
   "id": "7a3f6b15",
   "metadata": {},
   "outputs": [],
   "source": [
    "# Checking for null values\n",
    "df.isnull().sum()"
   ]
  },
  {
   "cell_type": "code",
   "execution_count": null,
   "id": "e41fdd9b",
   "metadata": {},
   "outputs": [],
   "source": [
    "# Dropping unnamed columns\n",
    "df = df.iloc[:, :172]"
   ]
  },
  {
   "cell_type": "code",
   "execution_count": null,
   "id": "5cc7e825",
   "metadata": {},
   "outputs": [],
   "source": [
    "# Dropping position and time columns\n",
    "for i in range(1, 43):\n",
    "    pos = 'Q' + str(i) + 'I'\n",
    "    time = 'Q' + str(i) + 'E'\n",
    "    df.drop([pos, time], axis=1, inplace=True)"
   ]
  },
  {
   "cell_type": "code",
   "execution_count": null,
   "id": "bb2561cc",
   "metadata": {},
   "outputs": [],
   "source": [
    "# Dropping unnecessary columns\n",
    "drop_columns = ['engnat', 'hand', 'religion', 'orientation', 'race', 'voted', 'married', 'major', 'country', 'screensize', 'uniquenetworklocation', 'source', 'introelapse', 'testelapse', 'surveyelapse']\n",
    "df.drop(drop_columns, axis=1, inplace=True)"
   ]
  },
  {
   "cell_type": "code",
   "execution_count": null,
   "id": "d40c7fb9",
   "metadata": {},
   "outputs": [],
   "source": [
    "# Dropping remaining questions and reordering according to DASS21 scale\n",
    "Q_to_drop = ['1', '5', '7', '9', '11', '12', '15', '16', '18', '19', '21', '22', '23', '24', '26', '27', '30', '34', '35', '36', '37']\n",
    "for i in Q_to_drop:\n",
    "    d = 'Q' + i + 'A'\n",
    "    df.drop([d], axis=1, inplace=True)"
   ]
  },
  {
   "cell_type": "code",
   "execution_count": null,
   "id": "29c7a60e",
   "metadata": {},
   "outputs": [],
   "source": [
    "# Mapping questions\n",
    "q1 = [29, 2, 3, 4, 42, 6, 41, 33, 40, 10, 39, 8, 13, 32, 28, 31, 17, 14, 25, 20, 38]\n",
    "q_map = {str(key): str(i + 1) for i, key in enumerate(q1)}\n",
    "dass = ['S', 'A', 'D', 'A', 'D', 'S', 'A', 'S', 'A', 'D', 'S', 'S', 'D', 'S', 'A', 'D', 'D', 'S', 'A', 'A', 'D']\n",
    "for (key, value), d in zip(q_map.items(), dass):\n",
    "    old = 'Q' + key + 'A'\n",
    "    new = 'Q' + value + '(' + d + ')'\n",
    "    df.rename(columns={old: new}, inplace=True)\n",
    "    df[new].replace([1, 2, 3, 4], [0, 1, 2, 3], inplace=True)"
   ]
  }
 ],
 "metadata": {},
 "nbformat": 4,
 "nbformat_minor": 5
}
