{
 "cells": [
  {
   "cell_type": "code",
   "execution_count": null,
   "id": "a880a091",
   "metadata": {},
   "outputs": [],
   "source": [
    "# Importing necessary libraries\n",
    "import numpy as np\n",
    "import pandas as pd\n",
    "import matplotlib.pyplot as plt\n",
    "import seaborn as sns"
   ]
  },
  {
   "cell_type": "code",
   "execution_count": null,
   "id": "ced94649",
   "metadata": {},
   "outputs": [],
   "source": [
    "# Reading csv file\n",
    "df = pd.read_csv('../Datasets/data.csv')"
   ]
  },
  {
   "cell_type": "code",
   "execution_count": null,
   "id": "940457b5",
   "metadata": {},
   "outputs": [],
   "source": [
    "# Size of dataset (rows, columns)\n",
    "df.shape"
   ]
  },
  {
   "cell_type": "code",
   "execution_count": null,
   "id": "be16235e",
   "metadata": {},
   "outputs": [],
   "source": [
    "# Columns\n",
    "df.columns"
   ]
  },
  {
   "cell_type": "code",
   "execution_count": null,
   "id": "df9368d3",
   "metadata": {},
   "outputs": [],
   "source": [
    "# Datatypes of columns\n",
    "df.dtypes"
   ]
  },
  {
   "cell_type": "code",
   "execution_count": null,
   "id": "d79a15aa",
   "metadata": {},
   "outputs": [],
   "source": [
    "# Checking for null values\n",
    "df.isnull().sum()"
   ]
  },
  {
   "cell_type": "code",
   "execution_count": null,
   "id": "1ed0ca41",
   "metadata": {},
   "outputs": [],
   "source": [
    "# Dropping unnamed columns\n",
    "df = df.iloc[:, :172]"
   ]
  },
  {
   "cell_type": "code",
   "execution_count": null,
   "id": "09e26f21",
   "metadata": {},
   "outputs": [],
   "source": [
    "# Dropping position and time columns\n",
    "for i in range(1, 43):\n",
    "    pos = 'Q' + str(i) + 'I'\n",
    "    time = 'Q' + str(i) + 'E'\n",
    "    df.drop([pos, time], axis=1, inplace=True)"
   ]
  },
  {
   "cell_type": "code",
   "execution_count": null,
   "id": "19a2ec68",
   "metadata": {},
   "outputs": [],
   "source": [
    "# Dropping unnecessary columns\n",
    "drop_columns = ['engnat', 'hand', 'religion', 'orientation', 'race', 'voted', 'married', 'major', 'country', 'screensize', 'uniquenetworklocation', 'source', 'introelapse', 'testelapse', 'surveyelapse']\n",
    "df.drop(drop_columns, axis=1, inplace=True)"
   ]
  },
  {
   "cell_type": "code",
   "execution_count": null,
   "id": "90066707",
   "metadata": {},
   "outputs": [],
   "source": [
    "# Dropping remaining questions and reordering according to DASS21 scale\n",
    "Q_to_drop = ['1', '5', '7', '9', '11', '12', '15', '16', '18', '19', '21', '22', '23', '24', '26', '27', '30', '34', '35', '36', '37']\n",
    "for i in Q_to_drop:\n",
    "    d = 'Q' + i + 'A'\n",
    "    df.drop([d], axis=1, inplace=True)"
   ]
  },
  {
   "cell_type": "code",
   "execution_count": null,
   "id": "77e4e820",
   "metadata": {},
   "outputs": [],
   "source": [
    "# Mapping questions\n",
    "q1 = [29, 2, 3, 4, 42, 6, 41, 33, 40, 10, 39, 8, 13, 32, 28, 31, 17, 14, 25, 20, 38]\n",
    "q_map = {str(key): str(i + 1) for i, key in enumerate(q1)}\n",
    "dass = ['S', 'A', 'D', 'A', 'D', 'S', 'A', 'S', 'A', 'D', 'S', 'S', 'D', 'S', 'A', 'D', 'D', 'S', 'A', 'A', 'D']\n",
    "for (key, value), d in zip(q_map.items(), dass):\n",
    "    old = 'Q' + key + 'A'\n",
    "    new = 'Q' + value + '(' + d + ')'\n",
    "    df.rename(columns={old: new}, inplace=True)\n",
    "    df[new].replace([1, 2, 3, 4], [0, 1, 2, 3], inplace=True)"
   ]
  },
  {
   "cell_type": "code",
   "execution_count": null,
   "id": "e651e752",
   "metadata": {},
   "outputs": [],
   "source": [
    "# Reindexing columns\n",
    "df = df.reindex(columns=[col for col in df.columns if col in q_map.values()] + [col for col in df.columns if col not in q_map.values()])"
   ]
  },
  {
   "cell_type": "code",
   "execution_count": null,
   "id": "7bc5e04b",
   "metadata": {},
   "outputs": [],
   "source": [
    "# Calculating scores\n",
    "df['Str'] = df[[col for col in df.columns if '(S)' in col]].sum(axis=1) * 2\n",
    "df['Anx'] = df[[col for col in df.columns if '(A)' in col]].sum(axis=1) * 2\n",
    "df['Dep'] = df[[col for col in df.columns if '(D)' in col]].sum(axis=1) * 2"
   ]
  },
  {
   "cell_type": "code",
   "execution_count": null,
   "id": "0deb5581",
   "metadata": {},
   "outputs": [],
   "source": [
    "# Filtering using VCL6, VCL9, VCL12\n",
    "df = df[df['VCL6'] < 1]\n",
    "df = df[df['VCL9'] < 1]\n",
    "df = df[df['VCL12'] < 1]"
   ]
  },
  {
   "cell_type": "code",
   "execution_count": null,
   "id": "890aae94",
   "metadata": {},
   "outputs": [],
   "source": [
    "# Categorizing scores\n",
    "classes = ['Normal', 'Mild', 'Moderate', 'Severe', 'Extremely Severe']\n",
    "df['Depression'] = pd.cut(df['Dep'], bins=[-1, 9, 13, 20, 27, 42], labels=classes)\n",
    "df['Anxiety'] = pd.cut(df['Anx'], bins=[-1, 7, 9, 14, 19, 42], labels=classes)\n",
    "df['Stress'] = pd.cut(df['Str'], bins=[-1, 14, 18, 25, 33, 42], labels=classes)"
   ]
  },
  {
   "cell_type": "code",
   "execution_count": null,
   "id": "4b0c9a78",
   "metadata": {},
   "outputs": [],
   "source": [
    "# Replacing categorical values with numeric\n",
    "scale_mapper = {'Normal': 0, 'Mild': 1, 'Moderate': 2, 'Severe': 3, 'Extremely Severe': 4}\n",
    "for col in ['Depression', 'Anxiety', 'Stress']:\n",
    "    df[col] = df[col].replace(scale_mapper)"
   ]
  },
  {
   "cell_type": "code",
   "execution_count": null,
   "id": "c04af47a",
   "metadata": {},
   "outputs": [],
   "source": [
    "# Saving preprocessed dataframe\n",
    "df.to_csv('../Datasets/CleanData.csv', index=False)"
   ]
  },
  {
   "cell_type": "code",
   "execution_count": null,
   "id": "7c062e1f",
   "metadata": {},
   "outputs": [],
   "source": [
    "# Dropping VCL columns\n",
    "for i in range(1, 17):\n",
    "    df.drop(['VCL' + str(i)], axis=1, inplace=True)"
   ]
  },
  {
   "cell_type": "code",
   "execution_count": null,
   "id": "0291f7b6",
   "metadata": {},
   "outputs": [],
   "source": [
    "# Filtering age\n",
    "df = df[(df['age'] >= 18) & (df['age'] < 85)]"
   ]
  },
  {
   "cell_type": "code",
   "execution_count": null,
   "id": "f2fc1870",
   "metadata": {},
   "outputs": [],
   "source": [
    "# Filtering family size\n",
    "df = df[df['familysize'] <= 15]"
   ]
  },
  {
   "cell_type": "code",
   "execution_count": null,
   "id": "b00e7edf",
   "metadata": {},
   "outputs": [],
   "source": [
    "# Separating datasets for Depression, Anxiety, and Stress\n",
    "df_dep = df[[col for col in df.columns if '(D)' in col] + ['Depression']]\n",
    "df_anx = df[[col for col in df.columns if '(A)' in col] + ['Anxiety']]\n",
    "df_str = df[[col for col in df.columns if '(S)' in col] + ['Stress']]"
   ]
  },
  {
   "cell_type": "code",
   "execution_count": null,
   "id": "ed450c26",
   "metadata": {},
   "outputs": [],
   "source": [
    "# Saving separate datasets\n",
    "df_dep.to_csv('../Datasets/Depression.csv', index=False)\n",
    "df_anx.to_csv('../Datasets/Anxiety.csv', index=False)\n",
    "df_str.to_csv('../Datasets/Stress.csv', index=False)"
   ]
  },
  {
   "cell_type": "code",
   "execution_count": null,
   "id": "ef47ba94",
   "metadata": {},
   "outputs": [],
   "source": [
    "# Categorizing family size\n",
    "family_classes = ['Nuclear', 'Joint', 'Extended']\n",
    "df['family'] = pd.cut(df['familysize'], bins=[-1, 5, 10, 15], labels=family_classes)"
   ]
  },
  {
   "cell_type": "code",
   "execution_count": null,
   "id": "0b2d6d6a",
   "metadata": {},
   "outputs": [],
   "source": [
    "# Encoding family\n",
    "from sklearn import preprocessing\n",
    "label_enc = preprocessing.LabelEncoder()\n",
    "df['family_enc'] = label_enc.fit_transform(df['family'])"
   ]
  },
  {
   "cell_type": "code",
   "execution_count": null,
   "id": "9bb65708",
   "metadata": {},
   "outputs": [],
   "source": [
    "# Categorizing age\n",
    "age_classes = ['18-25', '26-35', '36-45', '46-60', '60+']\n",
    "df['age class'] = pd.cut(df['age'], bins=[-17, 25, 35, 45, 60, 82], labels=age_classes)"
   ]
  },
  {
   "cell_type": "code",
   "execution_count": null,
   "id": "cf6f4e24",
   "metadata": {},
   "outputs": [],
   "source": [
    "# Encoding age\n",
    "df['age_enc'] = label_enc.fit_transform(df['age class'])"
   ]
  },
  {
   "cell_type": "code",
   "execution_count": null,
   "id": "6563bf3b",
   "metadata": {},
   "outputs": [],
   "source": [
    "# Saving final preprocessed dataframe\n",
    "df.to_csv('../Datasets/FinalCleanData.csv', index=False)"
   ]
  }
 ],
 "metadata": {},
 "nbformat": 4,
 "nbformat_minor": 5
}
