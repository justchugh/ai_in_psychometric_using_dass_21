{
 "cells": [
  {
   "cell_type": "code",
   "execution_count": null,
   "id": "45efa391",
   "metadata": {},
   "outputs": [],
   "source": [
    "# Importing necessary libraries\n",
    "import numpy as np\n",
    "import pandas as pd"
   ]
  },
  {
   "cell_type": "code",
   "execution_count": null,
   "id": "c5d786a4",
   "metadata": {},
   "outputs": [],
   "source": [
    "# Reading csv file\n",
    "df = pd.read_csv('../Datasets/data.csv')"
   ]
  },
  {
   "cell_type": "code",
   "execution_count": null,
   "id": "d21cf7af",
   "metadata": {},
   "outputs": [],
   "source": [
    "# Size of dataset (rows, columns)\n",
    "df.shape"
   ]
  },
  {
   "cell_type": "code",
   "execution_count": null,
   "id": "6f19c087",
   "metadata": {},
   "outputs": [],
   "source": [
    "# Columns\n",
    "df.columns"
   ]
  },
  {
   "cell_type": "code",
   "execution_count": null,
   "id": "b2c7e443",
   "metadata": {},
   "outputs": [],
   "source": [
    "# Datatypes of columns\n",
    "df.dtypes"
   ]
  },
  {
   "cell_type": "code",
   "execution_count": null,
   "id": "49c1a008",
   "metadata": {},
   "outputs": [],
   "source": [
    "# Checking for null values\n",
    "df.isnull().sum()"
   ]
  },
  {
   "cell_type": "code",
   "execution_count": null,
   "id": "8c2d041d",
   "metadata": {},
   "outputs": [],
   "source": [
    "# Dropping unnamed columns\n",
    "df = df.iloc[:, :172]"
   ]
  },
  {
   "cell_type": "code",
   "execution_count": null,
   "id": "842c252e",
   "metadata": {},
   "outputs": [],
   "source": [
    "# Dropping position and time columns\n",
    "for i in range(1, 43):\n",
    "    pos = 'Q' + str(i) + 'I'\n",
    "    time = 'Q' + str(i) + 'E'\n",
    "    df.drop([pos, time], axis=1, inplace=True)"
   ]
  },
  {
   "cell_type": "code",
   "execution_count": null,
   "id": "e6f192cd",
   "metadata": {},
   "outputs": [],
   "source": [
    "# Dropping unnecessary columns\n",
    "drop_columns = ['engnat', 'hand', 'religion', 'orientation', 'race', 'voted', 'married', 'major', 'country', 'screensize', 'uniquenetworklocation', 'source', 'introelapse', 'testelapse', 'surveyelapse']\n",
    "df.drop(drop_columns, axis=1, inplace=True)"
   ]
  }
 ],
 "metadata": {},
 "nbformat": 4,
 "nbformat_minor": 5
}
