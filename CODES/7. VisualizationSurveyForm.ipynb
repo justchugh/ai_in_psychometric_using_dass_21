{
 "cells": [
  {
   "cell_type": "code",
   "execution_count": null,
   "id": "e7e4f4c6",
   "metadata": {},
   "outputs": [],
   "source": [
    "# Importing necessary libraries\n",
    "import numpy as np\n",
    "import pandas as pd\n",
    "import matplotlib.pyplot as plt\n",
    "import seaborn as sns\n",
    "import sklearn \n",
    "import plotly.graph_objects as go\n",
    "import plotly.offline as pyo\n",
    "import plotly.express as px\n",
    "from plotly.subplots import make_subplots\n",
    "from plotly import tools"
   ]
  },
  {
   "cell_type": "code",
   "execution_count": null,
   "id": "16fedd52",
   "metadata": {},
   "outputs": [],
   "source": [
    "data = {'Activity': ['Light activities', 'Moderate Activities', 'Heavy Activities'], \n",
    "       'No problem': [light[0], heavy[0], mod[0]], \n",
    "       'Very much': [light[1], heavy[1], mod[1]], \n",
    "       'Very less': [light[2], heavy[2], mod[2]], \n",
    "       'Moderately': [light[3], heavy[3], mod[3]]}"
   ]
  },
  {
   "cell_type": "code",
   "execution_count": null,
   "id": "fbd132ad",
   "metadata": {},
   "outputs": [],
   "source": [
    "x = df['How often do you consume alcohol in a week?'].value_counts() / 196 * 100\n",
    "x = pd.DataFrame(x)\n",
    "x['Values'] = x.index"
   ]
  },
  {
   "cell_type": "code",
   "execution_count": null,
   "id": "7bdbad66",
   "metadata": {},
   "outputs": [],
   "source": [
    "# anxiety\n",
    "y_data = ['Were you aware of the dryness in your mouth?',\n",
    "'Do you experience breathing difficulty (eg, excessively rapid breathing, breathlessness in the absence of physical exertion).',\n",
    "'Do you experience trembling (eg, in your hands).',\n",
    "'Are you worried about situations in which you might panic and make a fool of yourself?',\n",
    "'Do you find yourself on the verge of panicking?',\n",
    "'How aware are you of the action of your heart in the absence of any physical exertion (eg, sense of heart rate increase, heart missing a beat).',\n",
    "'Do you feel scared without any good reason?']\n",
    "x_data = []\n",
    "for i in df_anx.columns:\n",
    "    x_data.append(list(df[i].value_counts() / 196 * 100))\n",
    "np_array = np.array(x_data)\n",
    "np_round_to_tenths = np.around(np_array, 1)\n",
    "x_data = list(np_round_to_tenths)\n",
    "scale_chart(top_labels, x_data, y_data)\n",
    "\n",
    "# 0 = Did not apply to me at all\n",
    "# 1 = Applied to me to some degree, or some of the time\n",
    "# 2 = Applied to me to a considerable degree or a good part of time\n",
    "# 3 = Applied to me very much or most of the time"
   ]
  },
  {
   "cell_type": "code",
   "execution_count": null,
   "id": "9c7cc4fe",
   "metadata": {},
   "outputs": [],
   "source": [
    "# stress\n",
    "y_data = ['Do you find it hard to calm down after something upset you?',\n",
    "'Do you tend to over-react in situations?',\n",
    "'Do you find yourself in a state of nervous tension?',\n",
    "'Do you find yourself getting agitated?',\n",
    "'Do you find it difficult to relax?',\n",
    "'Do you find it difficult to tolerate interruptions while doing something?',\n",
    "'Do you find yourself getting impatient when you are delayed in any way (eg, elevators, traffic lights, being kept waiting).']\n",
    "x_data = []\n",
    "for i in df_str.columns:\n",
    "    x_data.append(list(df[i].value_counts() / 196 * 100))\n",
    "np_array = np.array(x_data)\n",
    "np_round_to_tenths = np.around(np_array, 1)\n",
    "x_data = list(np_round_to_tenths)\n",
    "scale_chart(top_labels, x_data, y_data)\n",
    "\n",
    "# 0 = Did not apply to me at all\n",
    "# 1 = Applied to me to some degree, or some of the time\n",
    "# 2 = Applied to me to a considerable degree or a good part of time\n",
    "# 3 = Applied to me very much or most of the time"
   ]
  },
  {
   "cell_type": "code",
   "execution_count": null,
   "id": "3da43487",
   "metadata": {},
   "outputs": [],
   "source": [
    "plt.rcParams[\"figure.figsize\"] = [7, 7]\n",
    "startingRadius = 0.7 + (0.3 * (len(data) - 1))\n",
    "for index, row in x.iterrows():\n",
    "    scenario = row['Values']\n",
    "    percentage = row['How often do you consume alcohol in a week?']\n",
    "    textLabel = scenario + '-->' + str(round(percentage, 2)) + '%'\n",
    "    remainingPie = 100 - percentage\n",
    "\n",
    "    donut_sizes = [remainingPie, percentage]\n",
    "\n",
    "    plt.text(0.01, startingRadius + 0.07, textLabel, horizontalalignment='center', verticalalignment='center')\n",
    "    plt.pie(donut_sizes, radius=startingRadius, startangle=90, colors=['#C3E0E5', '#274472'],\n",
    "            wedgeprops={\"edgecolor\": \"white\", 'linewidth': 1})\n",
    "\n",
    "    startingRadius -= 0.3\n",
    "\n",
    "# equal ensures pie chart is drawn as a circle (equal aspect ratio)\n",
    "plt.axis('equal')\n",
    "\n",
    "# create circle and place onto pie chart\n",
    "circle = plt.Circle(xy=(0, 0), radius=0.35, facecolor='white')\n",
    "plt.gca().add_artist(circle)\n",
    "plt.show()"
   ]
  },
  {
   "cell_type": "code",
   "execution_count": null,
   "id": "c3970143",
   "metadata": {},
   "outputs": [],
   "source": [
    "x = df['How often do you smoke in a day?'].value_counts() / 196 * 100\n",
    "x = pd.DataFrame(x)\n",
    "x['Values'] = x.index"
   ]
  },
  {
   "cell_type": "code",
   "execution_count": null,
   "id": "2bdf2f2b",
   "metadata": {},
   "outputs": [],
   "source": [
    "plt.rcParams[\"figure.figsize\"] = [7, 7]\n",
    "startingRadius = 0.7 + (0.3 * (len(data) - 1))\n",
    "for index, row in x.iterrows():\n",
    "    scenario = row['Values']\n",
    "    percentage = row['How often do you smoke in a day?']\n",
    "    textLabel = scenario + '-->' + str(round(percentage, 2)) + '%'\n",
    "    remainingPie = 100 - percentage\n",
    "\n",
    "    donut_sizes = [remainingPie, percentage]\n",
    "\n",
    "    plt.text(0.01, startingRadius + 0.07, textLabel, horizontalalignment='center', verticalalignment='center')\n",
    "    plt.pie(donut_sizes, radius=startingRadius, startangle=90, colors=['#C3E0E5', '#274472'],\n",
    "            wedgeprops={\"edgecolor\": \"white\", 'linewidth': 1})\n",
    "\n",
    "    startingRadius -= 0.3\n",
    "\n",
    "# equal ensures pie chart is drawn as a circle (equal aspect ratio)\n",
    "plt.axis('equal')\n",
    "\n",
    "# create circle and place onto pie chart\n",
    "circle = plt.Circle(xy=(0, 0), radius=0.35, facecolor='white')\n",
    "plt.gca().add_artist(circle)\n",
    "plt.show()"
   ]
  },
  {
   "cell_type": "code",
   "execution_count": null,
   "id": "323c8ded",
   "metadata": {},
   "outputs": [],
   "source": [
    "def scale_chart(labels, x_data, y_data):\n",
    "    colors = ['#274472', '#42669e', '#6d93cf', '#94bbf7']\n",
    "    fig = go.Figure()\n",
    "\n",
    "    for i in range(0, len(x_data[0])):\n",
    "        for xd, yd in zip(x_data, y_data):\n",
    "            fig.add_trace(go.Bar(\n",
    "                x=[xd[i]], y=[yd],\n",
    "                orientation='h',\n",
    "                marker=dict(\n",
    "                    color=colors[i],\n",
    "                    line=dict(color='rgb(248, 248, 249)', width=1)\n",
    "                )\n",
    "            ))\n",
    "\n",
    "    fig.update_layout(\n",
    "        xaxis=dict(\n",
    "            showgrid=False,\n",
    "            showline=False,\n",
    "            showticklabels=False,\n",
    "            zeroline=False,\n",
    "            domain=[0.15, 1]\n",
    "        ),\n",
    "        yaxis=dict(\n",
    "            showgrid=False,\n",
    "            showline=False,\n",
    "            showticklabels=False,\n",
    "            zeroline=False,\n",
    "        ),\n",
    "        barmode='stack',\n",
    "        paper_bgcolor='rgb(248, 248, 255)',\n",
    "        plot_bgcolor='rgb(248, 248, 255)',\n",
    "        margin=dict(l=120, r=10, t=140, b=80),\n",
    "        showlegend=False,\n",
    "    )\n",
    "\n",
    "    annotations = []\n",
    "\n",
    "    for yd, xd in zip(y_data, x_data):\n",
    "        # labeling the y-axis\n",
    "        annotations.append(dict(xref='paper', yref='y',\n",
    "                                x=0.14, y=yd,\n",
    "                                xanchor='right',\n",
    "                                text=str(yd),\n",
    "                                font=dict(family='Arial', size=10,\n",
    "                                          color='rgb(67, 67, 67)'),\n",
    "                                showarrow=False, align='right'))\n",
    "        # labeling the first percentage of each bar (x_axis)\n",
    "        annotations.append(dict(xref='x', yref='y',\n",
    "                                x=xd[0] / 2, y=yd,\n",
    "                                text=str(xd[0]) + '%',\n",
    "                                font=dict(family='Arial', size=12,\n",
    "                                          color='rgb(248, 248, 255)'),\n",
    "                                showarrow=False))\n",
    "        # labeling the first Likert scale (on the top)\n",
    "        if yd == y_data[-1]:\n",
    "            annotations.append(dict(xref='x', yref='paper',\n",
    "                                    x=xd[0] / 2, y=1.1,\n",
    "                                    text=top_labels[0],\n",
    "                                    font=dict(family='Arial', size=12,\n",
    "                                              color='rgb(67, 67, 67)'),\n",
    "                                    showarrow=False))\n",
    "        space = xd[0]\n",
    "        for i in range(1, len(xd)):\n",
    "            # labeling the rest of percentages for each bar (x_axis)\n",
    "            annotations.append(dict(xref='x', yref='y',\n",
    "                                    x=space + (xd[i] / 2), y=yd,\n",
    "                                    text=str(xd[i]) + '%',\n",
    "                                    font=dict(family='Arial', size=12,\n",
    "                                              color='rgb(248, 248, 255)'),\n",
    "                                    showarrow=False))\n",
    "            # labeling the Likert scale\n",
    "            if yd == y_data[-1]:\n",
    "                annotations.append(dict(xref='x', yref='paper',\n",
    "                                        x=space + (xd[i] / 2), y=1.1,\n",
    "                                        text=top_labels[i],\n",
    "                                        font=dict(family='Arial', size=12,\n",
    "                                                  color='rgb(67, 67, 67)'),\n",
    "                                        showarrow=False))\n",
    "            space += xd[i]\n",
    "\n",
    "    fig.update_layout(annotations=annotations)\n",
    "    print(\"0 = Did not apply to me at all\\n1 = Applied to me to some degree, or some of the time\\n2 = Applied to me to a considerable degree or a good part of time\\n3 = Applied to me very much or most of the time\")\n",
    "    fig.show()"
   ]
  },
  {
   "cell_type": "code",
   "execution_count": null,
   "id": "a92d7f52",
   "metadata": {},
   "outputs": [],
   "source": [
    "top_labels = ['0', '1', '2', '3']"
   ]
  },
  {
   "cell_type": "code",
   "execution_count": null,
   "id": "3a04eb1f",
   "metadata": {},
   "outputs": [],
   "source": [
    "# depression\n",
    "y_data = ['Were you not able to experience positive feelings?',\n",
    "'Do you find it difficult to work up the initiative to do things?',\n",
    "'Do you feel that you have nothing to look forward to?',\n",
    "'Do you feel sad and depressed?',\n",
    "'Do you find it hard to get enthusiastic about things?',\n",
    "'Do you feel you weren't worth much as a person?',\n",
    "'Do you feel that life has become meaningless?']\n",
    "x_data = []\n",
    "for i in df_dep.columns:\n",
    "    x_data.append(list(df[i].value_counts() / 196 * 100))\n",
    "np_array = np.array(x_data)\n",
    "np_round_to_tenths = np.around(np_array, 1)\n",
    "x_data = list(np_round_to_tenths)\n",
    "scale_chart(top_labels, x_data, y_data)"
   ]
  },
  {
   "cell_type": "code",
   "execution_count": null,
   "id": "371a9360",
   "metadata": {},
   "outputs": [],
   "source": [
    "light[0], heavy[0], mod[0]"
   ]
  },
  {
   "cell_type": "code",
   "execution_count": null,
   "id": "0af576e7",
   "metadata": {},
   "outputs": [],
   "source": [
    "(95, 64, 81)"
   ]
  },
  {
   "cell_type": "code",
   "execution_count": null,
   "id": "61385cad",
   "metadata": {},
   "outputs": [],
   "source": [
    "# Creates pandas DataFrame.\n",
    "df_count = pd.DataFrame(data)\n",
    "df_count.head()"
   ]
  },
  {
   "cell_type": "code",
   "execution_count": null,
   "id": "d2e7f892",
   "metadata": {},
   "outputs": [],
   "source": [
    "colors = ['#274472', '#5885AF', '#C3E0E5', '#007e79']\n",
    "fig = go.Figure(data=[\n",
    "    go.Bar(name='No problem', x=df_count['Activity'], y=df_count['No problem'], marker_color=colors[0]),\n",
    "    go.Bar(name='Very much', x=df_count['Activity'], y=df_count['Very much'], marker_color=colors[1]),\n",
    "    go.Bar(name='Very less', x=df_count['Activity'], y=df_count['Very less'], marker_color=colors[2]),\n",
    "    go.Bar(name='Moderately', x=df_count['Activity'], y=df_count['Moderately'], marker_color=colors[3]),\n",
    "])\n",
    "# Change the bar mode\n",
    "fig.update_layout(barmode='group')\n",
    "fig.show()"
   ]
  },
  {
   "cell_type": "code",
   "execution_count": null,
   "id": "77920bfb",
   "metadata": {},
   "outputs": [],
   "source": [
    "df.columns"
   ]
  },
  {
   "cell_type": "code",
   "execution_count": null,
   "id": "3d4ad2e2",
   "metadata": {},
   "outputs": [],
   "source": [
    "Index(['Which age group do you belong to?', 'Sex',\n",
    "       'What is your current family type?',\n",
    "       'How many hours do you sleep per day?',\n",
    "       'Who do you sleep with usually in the bedroom?',\n",
    "       'How is your quality of sleep?',\n",
    "       'Does your health limit you in doing daily physical activities?  [Light activities]',\n",
    "       'Does your health limit you in doing daily physical activities?  [Moderate activities]',\n",
    "       'Does your health limit you in doing daily physical activities?  [Heavy activities]',\n",
    "       'How often do you consume alcohol in a week?',\n",
    "       'How often do you smoke in a day?',\n",
    "       'Overall how would you rate your mental health?',\n",
    "       'What do you think is the main cause of Depression/ Anxiety /Stress?',\n",
    "       'Have you ever been diagnosed with a mental disorder before?',\n",
    "       'Is there a history of mental disorder in your family?',\n",
    "       'If you were diagnosed with Depression/ Anxiety /Stress in the past would you get treated?',\n",
    "       'What do you think is the reason for people not considering getting treated for mental health related problems?',\n",
    "       'Who would you go to if you were having mental health issues?', 'Q1(S)',\n",
    "       'Q2(A)', 'Q3(D)', 'Q4(A)', 'Q5(D)', 'Q6(S)', 'Q7(A)', 'Q8(S)', 'Q9(A)',\n",
    "       'Q10(D)', 'Q11(S)', 'Q12(S)', 'Q13(D)', 'Q14(S)', 'Q15(A)', 'Q16(D)',\n",
    "       'Q17(D)', 'Q18(S)', 'Q19(A)', 'Q20(A)', 'Q21(D)', 'TIPI1', 'TIPI2',\n",
    "       'TIPI3', 'TIPI4', 'TIPI5', 'TIPI6', 'TIPI7', 'TIPI8', 'TIPI9', 'TIPI10',\n",
    "       'Fear and shame', 'Limited awareness', 'Lack of Knowledge',\n",
    "       'Feelings of inadequacy', 'Finance', 'Distrust', 'Hopelessness',\n",
    "       'Unavailability', 'Practical barriers', 'Stigma', 'age class', 'Gender',\n",
    "       'Depression', 'Anxiety', 'Stress'],\n",
    "      dtype='object')"
   ]
  },
  {
   "cell_type": "code",
   "execution_count": null,
   "id": "bc9c1410",
   "metadata": {},
   "outputs": [],
   "source": [
    "df['What do you think is the main cause of Depression/ Anxiety /Stress?'].unique()"
   ]
  },
  {
   "cell_type": "code",
   "execution_count": null,
   "id": "5dc21a70",
   "metadata": {},
   "outputs": [],
   "source": [
    "array(['Stressful Circumstances', 'Upbringing', 'Genetics',\n",
    "       'Chemical Imbalance', 'Ageing'], dtype=object)"
   ]
  },
  {
   "cell_type": "code",
   "execution_count": null,
   "id": "025f1224",
   "metadata": {},
   "outputs": [],
   "source": [
    "df['What do you think is the main cause of Depression/ Anxiety /Stress?'].value_counts()"
   ]
  },
  {
   "cell_type": "code",
   "execution_count": null,
   "id": "d6823d6c",
   "metadata": {},
   "outputs": [],
   "source": [
    "count = list(df['What do you think is the main cause of Depression/ Anxiety /Stress?'].value_counts())\n",
    "labels = ['Stressful Circumstances', 'Upbringing', 'Genetics',\n",
    "       'Chemical Imbalance', 'Ageing']\n",
    "colors = ['#274472', '#5885AF', '#C3E0E5', '#007e79', '#657295']\n",
    "# Creating plot\n",
    "fig = plt.figure(figsize=(10, 7))\n",
    "plt.pie(count, colors=colors, autopct='%1.1f%%', shadow=False, startangle=140)\n",
    "plt.legend(labels, loc=\"best\")\n",
    "plt.show()"
   ]
  },
  {
   "cell_type": "code",
   "execution_count": null,
   "id": "9b76cf4b",
   "metadata": {},
   "outputs": [],
   "source": [
    "count = list(df['If you were diagnosed with Depression/ Anxiety /Stress in the past would you get treated?'].value_counts())\n",
    "labels = ['Yes', 'No', 'Doesn't apply']\n",
    "colors = ['#274472', '#5885AF', '#C3E0E5']\n",
    "# Creating plot\n",
    "fig = plt.figure(figsize=(10, 7))\n",
    "plt.pie(count, colors=colors, autopct='%1.1f%%', shadow=False, startangle=140)\n",
    "plt.legend(labels, loc=\"best\")\n",
    "plt.show()"
   ]
  },
  {
   "cell_type": "code",
   "execution_count": null,
   "id": "b23c86ce",
   "metadata": {},
   "outputs": [],
   "source": [
    "prb = df.iloc[:, 49:59]"
   ]
  },
  {
   "cell_type": "code",
   "execution_count": null,
   "id": "32cb2181",
   "metadata": {},
   "outputs": [],
   "source": [
    "prb.head()"
   ]
  },
  {
   "cell_type": "code",
   "execution_count": null,
   "id": "d5d0bd3f",
   "metadata": {},
   "outputs": [],
   "source": [
    "x = []\n",
    "for i in prb.columns:\n",
    "    x.append(df[i].sum())"
   ]
  },
  {
   "cell_type": "code",
   "execution_count": null,
   "id": "ef6b50c2",
   "metadata": {},
   "outputs": [],
   "source": [
    "colors = ['#274472', '#5885AF', '#C3E0E5', '#007e79']\n",
    "fig = go.Figure(go.Bar(\n",
    "            x=x,\n",
    "            y=prb.columns,\n",
    "            orientation='h', marker_color=colors[0]))\n",
    "\n",
    "fig.show()"
   ]
  },
  {
   "cell_type": "code",
   "execution_count": null,
   "id": "89b72b0c",
   "metadata": {},
   "outputs": [],
   "source": [
    "tr = df.groupby(['How often do you smoke in a day?', 'Depression']).size().reset_index(name='counts')\n",
    "tr"
   ]
  },
  {
   "cell_type": "code",
   "execution_count": null,
   "id": "bd58c1c3",
   "metadata": {},
   "outputs": [],
   "source": [
    "df_dep = pd.read_csv(\"../SurveyDataset/Depression.csv\")\n",
    "df_anx = pd.read_csv(\"../SurveyDataset/Anxiety.csv\")\n",
    "df_str = pd.read_csv(\"../SurveyDataset/Stress.csv\")"
   ]
  },
  {
   "cell_type": "code",
   "execution_count": null,
   "id": "cb96f747",
   "metadata": {},
   "outputs": [],
   "source": [
    "df = pd.read_csv(\"../SurveyDataset/CleanData.csv\")\n",
    "df.head()"
   ]
  },
  {
   "cell_type": "code",
   "execution_count": null,
   "id": "e4dc8813",
   "metadata": {},
   "outputs": [],
   "source": [
    "x, y = df.shape"
   ]
  },
  {
   "cell_type": "code",
   "execution_count": null,
   "id": "63580f88",
   "metadata": {},
   "outputs": [],
   "source": [
    "df['Which age group do you belong to?'].unique()"
   ]
  },
  {
   "cell_type": "code",
   "execution_count": null,
   "id": "eed2f742",
   "metadata": {},
   "outputs": [],
   "source": [
    "total = x\n",
    "age1 = df[df['Which age group do you belong to?'] == '18 - 25']['Which age group do you belong to?'].count()\n",
    "age2 = df[df['Which age group do you belong to?'] == '25 - 35']['Which age group do you belong to?'].count()\n",
    "age3 = df[df['Which age group do you belong to?'] == '35 - 45']['Which age group do you belong to?'].count()\n",
    "age4 = df[df['Which age group do you belong to?'] == '45 - 60']['Which age group do you belong to?'].count()\n",
    "\n",
    "labels = ['18 - 25', '25 - 35', '35 - 45', '45 - 60']\n",
    "sizes = [age1, age2, age3, age4]\n",
    "colors = ['#274472', '#5885AF', '#C3E0E5', '#007e79']\n",
    "# Creating plot\n",
    "fig = plt.figure(figsize=(10, 7))\n",
    "plt.pie(sizes, colors=colors, autopct='%1.1f%%', shadow=False, startangle=140)\n",
    "plt.legend(labels, loc=\"best\")\n",
    "plt.show()"
   ]
  },
  {
   "cell_type": "code",
   "execution_count": null,
   "id": "e409f628",
   "metadata": {},
   "outputs": [],
   "source": [
    "df['Sex'].unique()"
   ]
  },
  {
   "cell_type": "code",
   "execution_count": null,
   "id": "aa92dac3",
   "metadata": {},
   "outputs": [],
   "source": [
    "gender1 = df[df['Sex'] == 'Male']['Sex'].count()\n",
    "gender2 = df[df['Sex'] == 'Female']['Sex'].count()\n",
    "gender3 = df[df['Sex'] == 'Prefer not to say']['Sex'].count()\n",
    "\n",
    "labels = ['Male', 'Female', 'Prefer not to say']\n",
    "sizes = [gender1, gender2, gender3]\n",
    "colors = ['#274472', '#5885AF', '#C3E0E5']\n",
    "# Creating plot\n",
    "fig = plt.figure(figsize=(10, 7))\n",
    "plt.pie(sizes, colors=colors, autopct='%1.1f%%', shadow=False, startangle=140)\n",
    "plt.legend(labels, loc=\"best\")\n",
    "plt.show()"
   ]
  },
  {
   "cell_type": "code",
   "execution_count": null,
   "id": "1dddff70",
   "metadata": {},
   "outputs": [],
   "source": [
    "list(df['What is your current family type?'].value_counts())"
   ]
  },
  {
   "cell_type": "code",
   "execution_count": null,
   "id": "54cddd05",
   "metadata": {},
   "outputs": [],
   "source": [
    "[129, 51, 15, 1]"
   ]
  },
  {
   "cell_type": "code",
   "execution_count": null,
   "id": "bf7ccd4b",
   "metadata": {},
   "outputs": [],
   "source": [
    "fig = go.Figure(data=[\n",
    "    go.Bar(name='family', x=df['What is your current family type?'].unique(), y=list(df['What is your current family type?'].value_counts())\n",
    "           , marker_color=colors),\n",
    "])\n",
    "fig.show()"
   ]
  },
  {
   "cell_type": "code",
   "execution_count": null,
   "id": "da1bffd7",
   "metadata": {},
   "outputs": [],
   "source": [
    "df['How many hours do you sleep per day?'].unique()"
   ]
  },
  {
   "cell_type": "code",
   "execution_count": null,
   "id": "881161af",
   "metadata": {},
   "outputs": [],
   "source": [
    "# plt.figure(figsize = (100,100))\n",
    "plt.rcParams[\"figure.figsize\"] = [20.00, 15.50]\n",
    "plt.rcParams[\"figure.autolayout\"] = True\n",
    "fig, axes = plt.subplots(nrows=3, ncols=3)\n",
    "# fig.set_figheight(50)\n",
    "# fig.set_figwidth(50)\n",
    "plt.subplots_adjust(wspace=0)\n",
    "fig.suptitle('How important sleep is for mental health', fontsize=25, y=1.08)\n",
    "ques = ['How many hours do you sleep per day?', 'Who do you sleep with usually in the bedroom?', 'How is your quality of sleep?']\n",
    "hue = ['Depression', 'Anxiety', 'Stress']\n",
    "for i in range(3):\n",
    "    for j in range(3):\n",
    "        sns.countplot(ax=axes[i][j], x=df[ques[i]], hue=df[hue[j]], palette=sns.cubehelix_palette(start=.5, rot=-.5))"
   ]
  },
  {
   "cell_type": "code",
   "execution_count": null,
   "id": "67513214",
   "metadata": {},
   "outputs": [],
   "source": [
    "df_count = pd.DataFrame()"
   ]
  },
  {
   "cell_type": "code",
   "execution_count": null,
   "id": "0423bb02",
   "metadata": {},
   "outputs": [],
   "source": [
    "ques = ['Does your health limit you in doing daily physical activities?  [Light activities]', 'Does your health limit you in doing daily physical activities?  [Moderate activities]',\n",
    "       'Does your health limit you in doing daily physical activities?  [Heavy activities]']"
   ]
  },
  {
   "cell_type": "code",
   "execution_count": null,
   "id": "015aa161",
   "metadata": {},
   "outputs": [],
   "source": [
    "light = list(df['Does your health limit you in doing daily physical activities?  [Light activities]'].value_counts())\n",
    "heavy = list(df['Does your health limit you in doing daily physical activities?  [Heavy activities]'].value_counts())\n",
    "mod = list(df['Does your health limit you in doing daily physical activities?  [Moderate activities]'].value_counts())"
   ]
  }
 ],
 "metadata": {
  "language_info": {
   "name": "python"
  }
 },
 "nbformat": 4,
 "nbformat_minor": 5
}
