{
 "cells": [
  {
   "cell_type": "code",
   "execution_count": null,
   "id": "a17ce64e",
   "metadata": {},
   "outputs": [],
   "source": [
    "\n",
    "# Importing necessary libraries\n",
    "import numpy as np\n",
    "import pandas as pd\n",
    "import matplotlib.pyplot as plt\n",
    "import seaborn as sns\n",
    "import plotly.graph_objects as go\n",
    "import plotly.express as px"
   ]
  },
  {
   "cell_type": "code",
   "execution_count": null,
   "id": "73a83118",
   "metadata": {},
   "outputs": [],
   "source": [
    "data = {'Activity': ['Light activities', 'Moderate Activities', 'Heavy Activities'], \n",
    "       'No problem': [light[0], heavy[0], mod[0]], \n",
    "       'Very much': [light[1], heavy[1], mod[1]], \n",
    "       'Very less': [light[2], heavy[2], mod[2]], \n",
    "       'Moderately': [light[3], heavy[3], mod[3]]}"
   ]
  },
  {
   "cell_type": "code",
   "execution_count": null,
   "id": "79f685e3",
   "metadata": {},
   "outputs": [],
   "source": [
    "x = df['How often do you consume alcohol in a week?'].value_counts() / 196 * 100\n",
    "x = pd.DataFrame(x)\n",
    "x['Values'] = x.index"
   ]
  },
  {
   "cell_type": "code",
   "execution_count": null,
   "id": "fff95e15",
   "metadata": {},
   "outputs": [],
   "source": [
    "# Anxiety\n",
    "y_data = ['Were you aware of the dryness in your mouth?',\n",
    "'Do you experience breathing difficulty (eg, excessively rapid breathing, breathlessness in the absence of physical exertion).',\n",
    "'Do you experience trembling (eg, in your hands).',\n",
    "'Are you worried about situations in which you might panic and make a fool of yourself?',\n",
    "'Do you find yourself on the verge of panicking?',\n",
    "'How aware are you of the action of your heart in the absence of any physical exertion (eg, sense of heart rate increase, heart missing a beat).',\n",
    "'Do you feel scared without any good reason?']\n",
    "x_data = []\n",
    "for i in df_anx.columns:\n",
    "    x_data.append(list(df[i].value_counts() / 196 * 100))\n",
    "np_array = np.array(x_data)\n",
    "np_round_to_tenths = np.around(np_array, 1)\n",
    "x_data = list(np_round_to_tenths)\n",
    "scale_chart(top_labels, x_data, y_data)"
   ]
  },
  {
   "cell_type": "code",
   "execution_count": null,
   "id": "664e2227",
   "metadata": {},
   "outputs": [],
   "source": [
    "# Stress\n",
    "y_data = ['Do you find it hard to calm down after something upset you?',\n",
    "'Do you tend to over-react in situations?',\n",
    "'Do you find yourself in a state of nervous tension?',\n",
    "'Do you find yourself getting agitated?',\n",
    "'Do you find it difficult to relax?',\n",
    "'Do you find it difficult to tolerate interruptions while doing something?',\n",
    "'Do you find yourself getting impatient when you are delayed in any way (eg, elevators, traffic lights, being kept waiting).']\n",
    "x_data = []\n",
    "for i in df_str.columns:\n",
    "    x_data.append(list(df[i].value_counts() / 196 * 100))\n",
    "np_array = np.array(x_data)\n",
    "np_round_to_tenths = np.around(np_array, 1)\n",
    "x_data = list(np_round_to_tenths)\n",
    "scale_chart(top_labels, x_data, y_data)"
   ]
  },
  {
   "cell_type": "code",
   "execution_count": null,
   "id": "653eac5f",
   "metadata": {},
   "outputs": [],
   "source": [
    "# Pie chart for alcohol consumption\n",
    "plt.rcParams[\"figure.figsize\"] = [7, 7]\n",
    "startingRadius = 0.7 + (0.3 * (len(data) - 1))\n",
    "for index, row in x.iterrows():\n",
    "    scenario = row['Values']\n",
    "    percentage = row['How often do you consume alcohol in a week?']\n",
    "    textLabel = scenario + '-->' + str(round(percentage, 2)) + '%'\n",
    "    remainingPie = 100 - percentage"
   ]
  },
  {
   "cell_type": "code",
   "execution_count": null,
   "id": "d162328d",
   "metadata": {},
   "outputs": [],
   "source": [
    "    donut_sizes = [remainingPie, percentage]"
   ]
  },
  {
   "cell_type": "code",
   "execution_count": null,
   "id": "9d29a5d2",
   "metadata": {},
   "outputs": [],
   "source": [
    "    plt.text(0.01, startingRadius + 0.07, textLabel, horizontalalignment='center', verticalalignment='center')\n",
    "    plt.pie(donut_sizes, radius=startingRadius, startangle=90, colors=['#C3E0E5', '#274472'],\n",
    "            wedgeprops={\"edgecolor\": \"white\", 'linewidth': 1})"
   ]
  },
  {
   "cell_type": "code",
   "execution_count": null,
   "id": "b5d1f40a",
   "metadata": {},
   "outputs": [],
   "source": [
    "    startingRadius -= 0.3"
   ]
  },
  {
   "cell_type": "code",
   "execution_count": null,
   "id": "a11dede0",
   "metadata": {},
   "outputs": [],
   "source": [
    "plt.axis('equal')\n",
    "circle = plt.Circle(xy=(0, 0), radius=0.35, facecolor='white')\n",
    "plt.gca().add_artist(circle)\n",
    "plt.show()\n"
   ]
  }
 ],
 "metadata": {},
 "nbformat": 4,
 "nbformat_minor": 5
}
