{
 "cells": [
  {
   "cell_type": "code",
   "execution_count": null,
   "id": "40d68806",
   "metadata": {},
   "outputs": [],
   "source": [
    "\n",
    "# Importing necessary libraries\n",
    "import numpy as np\n",
    "import pandas as pd\n",
    "import matplotlib.pyplot as plt\n",
    "import seaborn as sns\n",
    "import plotly.graph_objects as go\n",
    "import plotly.express as px"
   ]
  },
  {
   "cell_type": "code",
   "execution_count": null,
   "id": "b2aaa4c3",
   "metadata": {},
   "outputs": [],
   "source": [
    "data = {'Activity': ['Light activities', 'Moderate Activities', 'Heavy Activities'], \n",
    "       'No problem': [light[0], heavy[0], mod[0]], \n",
    "       'Very much': [light[1], heavy[1], mod[1]], \n",
    "       'Very less': [light[2], heavy[2], mod[2]], \n",
    "       'Moderately': [light[3], heavy[3], mod[3]]}"
   ]
  },
  {
   "cell_type": "code",
   "execution_count": null,
   "id": "79bace69",
   "metadata": {},
   "outputs": [],
   "source": [
    "x = df['How often do you consume alcohol in a week?'].value_counts() / 196 * 100\n",
    "x = pd.DataFrame(x)\n",
    "x['Values'] = x.index"
   ]
  },
  {
   "cell_type": "code",
   "execution_count": null,
   "id": "e4f90eb6",
   "metadata": {},
   "outputs": [],
   "source": [
    "# Pie chart for alcohol consumption\n",
    "plt.rcParams[\"figure.figsize\"] = [7, 7]\n",
    "startingRadius = 0.7 + (0.3 * (len(data) - 1))\n",
    "for index, row in x.iterrows():\n",
    "    scenario = row['Values']\n",
    "    percentage = row['How often do you consume alcohol in a week?']\n",
    "    textLabel = scenario + '-->' + str(round(percentage, 2)) + '%'\n",
    "    remainingPie = 100 - percentage"
   ]
  },
  {
   "cell_type": "code",
   "execution_count": null,
   "id": "a1a05cb1",
   "metadata": {},
   "outputs": [],
   "source": [
    "    donut_sizes = [remainingPie, percentage]"
   ]
  },
  {
   "cell_type": "code",
   "execution_count": null,
   "id": "840b1170",
   "metadata": {},
   "outputs": [],
   "source": [
    "    plt.text(0.01, startingRadius + 0.07, textLabel, horizontalalignment='center', verticalalignment='center')\n",
    "    plt.pie(donut_sizes, radius=startingRadius, startangle=90, colors=['#C3E0E5', '#274472'],\n",
    "            wedgeprops={\"edgecolor\": \"white\", 'linewidth': 1})"
   ]
  },
  {
   "cell_type": "code",
   "execution_count": null,
   "id": "940c51b5",
   "metadata": {},
   "outputs": [],
   "source": [
    "    startingRadius -= 0.3"
   ]
  },
  {
   "cell_type": "code",
   "execution_count": null,
   "id": "e1de681f",
   "metadata": {},
   "outputs": [],
   "source": [
    "plt.axis('equal')\n",
    "circle = plt.Circle(xy=(0, 0), radius=0.35, facecolor='white')\n",
    "plt.gca().add_artist(circle)\n",
    "plt.show()"
   ]
  },
  {
   "cell_type": "code",
   "execution_count": null,
   "id": "f7ad3682",
   "metadata": {},
   "outputs": [],
   "source": [
    "# Pie chart for smoking frequency\n",
    "x = df['How often do you smoke in a day?'].value_counts() / 196 * 100\n",
    "x = pd.DataFrame(x)\n",
    "x['Values'] = x.index\n",
    "plt.rcParams[\"figure.figsize\"] = [7, 7]\n",
    "startingRadius = 0.7 + (0.3 * (len(data) - 1))\n",
    "for index, row in x.iterrows():\n",
    "    scenario = row['Values']\n",
    "    percentage = row['How often do you smoke in a day?']\n",
    "    textLabel = scenario + '-->' + str(round(percentage, 2)) + '%'\n",
    "    remainingPie = 100 - percentage"
   ]
  },
  {
   "cell_type": "code",
   "execution_count": null,
   "id": "f96afced",
   "metadata": {},
   "outputs": [],
   "source": [
    "    donut_sizes = [remainingPie, percentage]"
   ]
  },
  {
   "cell_type": "code",
   "execution_count": null,
   "id": "5e6bdf48",
   "metadata": {},
   "outputs": [],
   "source": [
    "    plt.text(0.01, startingRadius + 0.07, textLabel, horizontalalignment='center', verticalalignment='center')\n",
    "    plt.pie(donut_sizes, radius=startingRadius, startangle=90, colors=['#C3E0E5', '#274472'],\n",
    "            wedgeprops={\"edgecolor\": \"white\", 'linewidth': 1})"
   ]
  },
  {
   "cell_type": "code",
   "execution_count": null,
   "id": "9e22b198",
   "metadata": {},
   "outputs": [],
   "source": [
    "    startingRadius -= 0.3"
   ]
  },
  {
   "cell_type": "code",
   "execution_count": null,
   "id": "28b3a794",
   "metadata": {},
   "outputs": [],
   "source": [
    "plt.axis('equal')\n",
    "circle = plt.Circle(xy=(0, 0), radius=0.35, facecolor='white')\n",
    "plt.gca().add_artist(circle)\n",
    "plt.show()\n"
   ]
  }
 ],
 "metadata": {},
 "nbformat": 4,
 "nbformat_minor": 5
}
