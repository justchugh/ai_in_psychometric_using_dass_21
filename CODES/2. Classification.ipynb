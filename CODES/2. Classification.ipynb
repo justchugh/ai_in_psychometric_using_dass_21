{
 "cells": [
  {
   "cell_type": "code",
   "execution_count": null,
   "id": "3f36abdb",
   "metadata": {},
   "outputs": [],
   "source": [
    "\n",
    "# Importing necessary libraries\n",
    "import numpy as np\n",
    "import pandas as pd\n",
    "import matplotlib.pyplot as plt\n",
    "import seaborn as sns\n",
    "import sklearn \n",
    "from six import StringIO\n",
    "from sklearn.neighbors import KNeighborsClassifier \n",
    "from sklearn.model_selection import train_test_split \n",
    "from sklearn.metrics import accuracy_score\n",
    "from sklearn.ensemble import RandomForestClassifier\n",
    "from sklearn.tree import DecisionTreeClassifier \n",
    "from sklearn.naive_bayes import GaussianNB \n",
    "# Load libraries \n",
    "from sklearn.svm import SVC\n",
    "from sklearn.ensemble import AdaBoostClassifier\n",
    "from sklearn.ensemble import VotingClassifier \n",
    "import pickle \n",
    "import joblib\n",
    "from sklearn.metrics import classification_report, confusion_matrix\n",
    "from IPython.display import Image\n",
    "from sklearn.tree import export_graphviz \n",
    "import pydotplus \n",
    "import plotly.graph_objects as go\n",
    "import plotly.offline as pyo\n",
    "import plotly.express as px\n",
    "from plotly.subplots import make_subplots\n",
    "from plotly import tools\n",
    "from sklearn.metrics import precision_recall_fscore_support\n"
   ]
  },
  {
   "cell_type": "code",
   "execution_count": null,
   "id": "c0dff35b",
   "metadata": {},
   "outputs": [],
   "source": [
    "\n",
    "def reading_csv(filename):\n",
    "    df = pd.read_csv(filename)\n",
    "    return df\n"
   ]
  },
  {
   "cell_type": "code",
   "execution_count": null,
   "id": "fb0c1928",
   "metadata": {},
   "outputs": [],
   "source": [
    "\n",
    "def extract_features(df):\n",
    "    X = df.iloc[:, 0:7].values\n",
    "    return X\n"
   ]
  },
  {
   "cell_type": "code",
   "execution_count": null,
   "id": "d5d07863",
   "metadata": {},
   "outputs": [],
   "source": [
    "\n",
    "def extract_target(df):\n",
    "    Y = df.iloc[:, 7].values\n",
    "    return Y\n"
   ]
  },
  {
   "cell_type": "code",
   "execution_count": null,
   "id": "8ba87d86",
   "metadata": {},
   "outputs": [],
   "source": [
    "\n",
    "def split(X, Y):\n",
    "    X_train, X_test, y_train, y_test = train_test_split(X, Y, test_size=0.3, random_state=1)\n",
    "    return X_train, X_test, y_train, y_test\n"
   ]
  },
  {
   "cell_type": "code",
   "execution_count": null,
   "id": "3bd81bb5",
   "metadata": {},
   "outputs": [],
   "source": [
    "\n",
    "df = reading_csv(\"../Datasets/CleanData.csv\")\n",
    "X = extract_features(df)\n",
    "Y = extract_target(df)\n",
    "X_train, X_test, y_train, y_test = split(X, Y)\n"
   ]
  },
  {
   "cell_type": "code",
   "execution_count": null,
   "id": "68cef14f",
   "metadata": {},
   "outputs": [],
   "source": [
    "\n",
    "df_dep = reading_csv(\"../Datasets/Depression.csv\")\n",
    "X_dep = extract_features(df_dep)\n",
    "Y_dep = extract_target(df_dep)\n",
    "X_train_dep, X_test_dep, y_train_dep, y_test_dep = split(X_dep, Y_dep)\n"
   ]
  },
  {
   "cell_type": "code",
   "execution_count": null,
   "id": "38d62c9f",
   "metadata": {},
   "outputs": [],
   "source": [
    "\n",
    "dep_cols = df_dep.columns[:-1]\n",
    "dep_cols\n"
   ]
  },
  {
   "cell_type": "code",
   "execution_count": null,
   "id": "69083283",
   "metadata": {},
   "outputs": [],
   "source": [
    "\n",
    "df_anx = reading_csv(\"../Datasets/Anxiety.csv\")\n",
    "X_anx = extract_features(df_anx)\n",
    "Y_anx = extract_target(df_anx)\n",
    "X_train_anx, X_test_anx, y_train_anx, y_test_anx = split(X_anx, Y_anx)\n"
   ]
  },
  {
   "cell_type": "code",
   "execution_count": null,
   "id": "db4c28d2",
   "metadata": {},
   "outputs": [],
   "source": [
    "\n",
    "anx_cols = df_anx.columns[:-1]\n",
    "anx_cols\n"
   ]
  },
  {
   "cell_type": "code",
   "execution_count": null,
   "id": "35895385",
   "metadata": {},
   "outputs": [],
   "source": [
    "\n",
    "df_str = reading_csv(\"../Datasets/Stress.csv\")\n",
    "X_str = extract_features(df_str)\n",
    "Y_str = extract_target(df_str)\n",
    "X_train_str, X_test_str, y_train_str, y_test_str = split(X_str, Y_str)\n"
   ]
  },
  {
   "cell_type": "code",
   "execution_count": null,
   "id": "cf6dd39c",
   "metadata": {},
   "outputs": [],
   "source": [
    "\n",
    "str_cols = df_str.columns[:-1]\n",
    "str_cols\n"
   ]
  },
  {
   "cell_type": "code",
   "execution_count": null,
   "id": "96b25ce5",
   "metadata": {},
   "outputs": [],
   "source": [
    "\n",
    "def save_model(model, filename):\n",
    "    with open(filename, 'wb') as file:\n",
    "        pickle.dump(model, file)\n"
   ]
  },
  {
   "cell_type": "code",
   "execution_count": null,
   "id": "d4823baf",
   "metadata": {},
   "outputs": [],
   "source": [
    "\n",
    "def load_model(filename):\n",
    "    with open(filename, 'rb') as file:\n",
    "        model = pickle.load(file)\n",
    "    return model\n"
   ]
  },
  {
   "cell_type": "code",
   "execution_count": null,
   "id": "71e416de",
   "metadata": {},
   "outputs": [],
   "source": [
    "\n",
    "def dump_joblib(model, filename):\n",
    "    joblib.dump(model, filename)\n"
   ]
  },
  {
   "cell_type": "code",
   "execution_count": null,
   "id": "f70ba33e",
   "metadata": {},
   "outputs": [],
   "source": [
    "\n",
    "def KNN(X_train, X_test, y_train, y_test):\n",
    "    classifier = KNeighborsClassifier(n_neighbors=5)\n",
    "    classifier.fit(X_train, y_train)\n",
    "    y_pred = classifier.predict(X_test)\n",
    "    return classifier, y_pred\n"
   ]
  },
  {
   "cell_type": "code",
   "execution_count": null,
   "id": "68bc2b1b",
   "metadata": {},
   "outputs": [],
   "source": [
    "\n",
    "model, y_pred = KNN(X_train, X_test, y_train, y_test)\n",
    "knn_acc_dep = accuracy_score(y_test, y_pred)\n",
    "knn_cls_dep = classification_report(y_test, y_pred)\n"
   ]
  },
  {
   "cell_type": "code",
   "execution_count": null,
   "id": "7e3a63ac",
   "metadata": {},
   "outputs": [],
   "source": [
    "knn_acc_dep"
   ]
  },
  {
   "cell_type": "code",
   "execution_count": null,
   "id": "24d4797d",
   "metadata": {},
   "outputs": [],
   "source": [
    "\n",
    "model, y_pred = KNN(X_train_dep, X_test_dep, y_train_dep, y_test_dep)\n",
    "knn_acc_dep = accuracy_score(y_test_dep, y_pred)\n",
    "knn_cls_dep = classification_report(y_test_dep, y_pred)\n"
   ]
  },
  {
   "cell_type": "code",
   "execution_count": null,
   "id": "0e25a073",
   "metadata": {},
   "outputs": [],
   "source": [
    "\n",
    "model, y_pred = KNN(X_train_anx, X_test_anx, y_train_anx, y_test_anx)\n",
    "knn_acc_anx = accuracy_score(y_test_anx, y_pred)\n",
    "knn_cls_anx = classification_report(y_test_anx, y_pred)\n"
   ]
  },
  {
   "cell_type": "code",
   "execution_count": null,
   "id": "66a9b8d2",
   "metadata": {},
   "outputs": [],
   "source": [
    "\n",
    "model, y_pred = KNN(X_train_str, X_test_str, y_train_str, y_test_str)\n",
    "knn_acc_str = accuracy_score(y_test_str, y_pred)\n",
    "knn_cls_str = classification_report(y_test_str, y_pred)\n"
   ]
  },
  {
   "cell_type": "code",
   "execution_count": null,
   "id": "2049441d",
   "metadata": {},
   "outputs": [],
   "source": [
    "\n",
    "model = load_model(\"../models/dep_model_svm.pkl\")\n",
    "y_pred = model.predict(X_test_dep[[4]])\n"
   ]
  },
  {
   "cell_type": "code",
   "execution_count": null,
   "id": "54d09194",
   "metadata": {},
   "outputs": [],
   "source": [
    "\n",
    "def GNB(X_train, X_test, y_train, y_test):\n",
    "    gnb = GaussianNB()\n",
    "    gnb.fit(X_train, y_train)\n",
    "    y_pred = gnb.predict(X_test)\n",
    "    return gnb, y_pred\n"
   ]
  },
  {
   "cell_type": "code",
   "execution_count": null,
   "id": "ea626d00",
   "metadata": {},
   "outputs": [],
   "source": [
    "\n",
    "# Anxiety\n",
    "model,y_pred=GNB(X_train_anx,X_test_anx, y_train_anx, y_test_anx)\n",
    "# filename=\"models/anx_model_gnb.pkl\"\n",
    "# save_model(model,filename)\n",
    "gnb_acc_anx=accuracy_score(y_test_anx,y_pred) \n",
    "gnb_cls_anx=classification_report(y_test_anx, y_pred)\n"
   ]
  },
  {
   "cell_type": "code",
   "execution_count": null,
   "id": "fae0cd1b",
   "metadata": {},
   "outputs": [],
   "source": [
    "\n",
    "# Stress\n",
    "model,y_pred=GNB(X_train_str,X_test_str, y_train_str, y_test_str)\n",
    "# filename=\"models/str_model_gnb.pkl\"\n",
    "# save_model(model,filename)\n",
    "gnb_acc_str=accuracy_score(y_test_str,y_pred)\n",
    "gnb_cls_str=classification_report(y_test_str, y_pred)\n"
   ]
  },
  {
   "cell_type": "code",
   "execution_count": null,
   "id": "3ac61b77",
   "metadata": {},
   "outputs": [],
   "source": [
    "\n",
    "def DTree(criteria,X_train,X_test, y_train):\n",
    "    cls = DecisionTreeClassifier(criterion=criteria, max_depth=10,splitter='best') \n",
    "    cls.fit(X_train,y_train) #training of classifier\n",
    "    y_pred = cls.predict(X_test) \n",
    "    return cls,y_pred\n"
   ]
  },
  {
   "cell_type": "code",
   "execution_count": null,
   "id": "80400465",
   "metadata": {},
   "outputs": [],
   "source": [
    "\n",
    "# Depression\n",
    "model,y_pred=DTree('gini',X_train_dep,X_test_dep, y_train_dep)\n",
    "# filename=\"models/dep_model_dt.pkl\"\n",
    "# save_model(model,filename)\n",
    "dt_acc_dep=accuracy_score(y_test_dep,y_pred)\n",
    "dt_cls_dep=classification_report(y_test_dep, y_pred)\n"
   ]
  },
  {
   "cell_type": "code",
   "execution_count": null,
   "id": "5214ea36",
   "metadata": {},
   "outputs": [],
   "source": [
    "\n",
    "# Decision tree output\n",
    "dot_data = StringIO()\n",
    "export_graphviz(model, out_file=dot_data,  \n",
    "                filled=True, rounded=True,\n",
    "                special_characters=True, feature_names = dep_cols,class_names=['0','1','2','3','4'])\n",
    "graph = pydotplus.graph_from_dot_data(dot_data.getvalue())  \n",
    "graph.write_png('depression.png')\n",
    "Image(graph.create_png())\n"
   ]
  },
  {
   "cell_type": "code",
   "execution_count": null,
   "id": "ff360043",
   "metadata": {},
   "outputs": [],
   "source": [
    "\n",
    "# Anxiety\n",
    "model,y_pred=DTree('gini',X_train_anx,X_test_anx, y_train_anx)\n",
    "# filename=\"models/anx_model_dt.pkl\"\n",
    "# save_model(model,filename)\n",
    "dt_acc_anx=accuracy_score(y_test_anx,y_pred) \n",
    "dt_cls_anx=classification_report(y_test_anx, y_pred)\n"
   ]
  },
  {
   "cell_type": "code",
   "execution_count": null,
   "id": "2674ba7e",
   "metadata": {},
   "outputs": [],
   "source": [
    "\n",
    "# Decision tree output\n",
    "dot_data = StringIO()\n",
    "export_graphviz(model, out_file=dot_data,  \n",
    "                filled=True, rounded=True,\n",
    "                special_characters=True, feature_names = anx_cols,class_names=['0','1','2','3','4'])\n",
    "graph = pydotplus.graph_from_dot_data(dot_data.getvalue())  \n",
    "graph.write_png('anxiety.png')\n",
    "Image(graph.create_png())\n"
   ]
  },
  {
   "cell_type": "code",
   "execution_count": null,
   "id": "a15e05f8",
   "metadata": {},
   "outputs": [],
   "source": [
    "\n",
    "# Stress\n",
    "model,y_pred=DTree('gini',X_train_str,X_test_str, y_train_str)\n",
    "# filename=\"models/str_model_dt.pkl\"\n",
    "# save_model(model,filename)\n",
    "dt_acc_str=accuracy_score(y_test_str,y_pred)\n",
    "dt_cls_str=classification_report(y_test_str, y_pred)\n"
   ]
  },
  {
   "cell_type": "code",
   "execution_count": null,
   "id": "4addac04",
   "metadata": {},
   "outputs": [],
   "source": [
    "\n",
    "# Decision tree output\n",
    "dot_data = StringIO()\n",
    "export_graphviz(model, out_file=dot_data,  \n",
    "                filled=True, rounded=True,\n",
    "                special_characters=True, feature_names = str_cols,class_names=['0','1','2','3','4'])\n",
    "graph = pydotplus.graph_from_dot_data(dot_data.getvalue())  \n",
    "graph.write_png('stress.png')\n",
    "Image(graph.create_png())\n"
   ]
  },
  {
   "cell_type": "code",
   "execution_count": null,
   "id": "fb283e17",
   "metadata": {},
   "outputs": [],
   "source": [
    "\n",
    "# Depression\n",
    "model,y_pred=DTree('entropy',X_train_dep,X_test_dep, y_train_dep)\n",
    "dt_ent_acc_dep=accuracy_score(y_test_dep,y_pred)\n",
    "dt_ent_cls_dep=classification_report(y_test_dep, y_pred)\n",
    "# Anxiety\n",
    "model,y_pred=DTree('entropy',X_train_anx,X_test_anx, y_train_anx)\n",
    "dt_ent_acc_anx=accuracy_score(y_test_anx,y_pred) \n",
    "dt_ent_cls_anx=classification_report(y_test_anx, y_pred)\n",
    "# Stress\n",
    "model,y_pred=DTree('entropy',X_train_str,X_test_str, y_train_str)\n",
    "dt_ent_acc_str=accuracy_score(y_test_str,y_pred)\n",
    "dt_ent_cls_str=classification_report(y_test_str, y_pred)\n"
   ]
  },
  {
   "cell_type": "code",
   "execution_count": null,
   "id": "443cc0ab",
   "metadata": {},
   "outputs": [],
   "source": [
    "\n",
    "def RForest(X_train,X_test, y_train):\n",
    "    rf = RandomForestClassifier(n_estimators=50, random_state=2)\n",
    "    rf.fit(X_train, y_train)\n",
    "    y_pred = rf.predict(X_test)\n",
    "    return rf,y_pred\n"
   ]
  },
  {
   "cell_type": "code",
   "execution_count": null,
   "id": "c1ae45d3",
   "metadata": {},
   "outputs": [],
   "source": [
    "\n",
    "# Depression\n",
    "model,y_pred=RForest(X_train_dep,X_test_dep, y_train_dep)\n",
    "# filename=\"models/dep_model_rf.pkl\"\n",
    "# save_model(model,filename)\n",
    "rf_acc_dep=accuracy_score(y_test_dep,y_pred)\n",
    "rf_cls_dep=classification_report(y_test_dep, y_pred)\n"
   ]
  },
  {
   "cell_type": "code",
   "execution_count": null,
   "id": "c1a6970d",
   "metadata": {},
   "outputs": [],
   "source": [
    "\n",
    "# Anxiety\n",
    "model,y_pred=RForest(X_train_anx,X_test_anx, y_train_anx)\n",
    "# filename=\"models/anx_model_rf.pkl\"\n",
    "# save_model(model,filename)\n",
    "rf_acc_anx=accuracy_score(y_test_anx,y_pred) \n",
    "rf_cls_anx=classification_report(y_test_anx, y_pred)\n"
   ]
  },
  {
   "cell_type": "code",
   "execution_count": null,
   "id": "2e70e72b",
   "metadata": {},
   "outputs": [],
   "source": [
    "\n",
    "# Stress\n",
    "model,y_pred=RForest(X_train_str,X_test_str, y_train_str)\n",
    "# filename=\"models/str_model_dt.pkl\"\n",
    "# save_model(model,filename)\n",
    "rf_acc_str=accuracy_score(y_test_str,y_pred)\n",
    "rf_cls_str=classification_report(y_test_str, y_pred)\n"
   ]
  },
  {
   "cell_type": "code",
   "execution_count": null,
   "id": "b2e45825",
   "metadata": {},
   "outputs": [],
   "source": [
    "\n",
    "from sklearn import svm\n"
   ]
  },
  {
   "cell_type": "code",
   "execution_count": null,
   "id": "d41e7f99",
   "metadata": {},
   "outputs": [],
   "source": [
    "\n",
    "def SVM(X_train,X_test, y_train):\n",
    "    sv = svm.SVC(probability=True, kernel='linear')\n",
    "    sv.fit(X_train, y_train)\n",
    "    y_pred = sv.predict(X_test)\n",
    "    return sv,y_pred\n"
   ]
  },
  {
   "cell_type": "code",
   "execution_count": null,
   "id": "8deb45b2",
   "metadata": {},
   "outputs": [],
   "source": [
    "\n",
    "# Depression\n",
    "model,y_pred=SVM(X_train_dep,X_test_dep, y_train_dep)\n",
    "# filename=\"models/dep_model_svm.pkl\"\n",
    "# save_model(model,filename)\n",
    "svm_acc_dep=accuracy_score(y_test_dep,y_pred)\n",
    "svm_cls_dep=classification_report(y_test_dep, y_pred)\n"
   ]
  },
  {
   "cell_type": "code",
   "execution_count": null,
   "id": "fd0abb9b",
   "metadata": {},
   "outputs": [],
   "source": [
    "\n",
    "# Anxiety\n",
    "model,y_pred=SVM(X_train_anx,X_test_anx, y_train_anx)\n",
    "# filename=\"models/anx_model_svm.pkl\"\n",
    "# save_model(model,filename)\n",
    "svm_acc_anx=accuracy_score(y_test_anx,y_pred) \n",
    "svm_cls_anx=classification_report(y_test_anx, y_pred)\n"
   ]
  },
  {
   "cell_type": "code",
   "execution_count": null,
   "id": "2113f8f1",
   "metadata": {},
   "outputs": [],
   "source": [
    "\n",
    "# Stress\n",
    "model,y_pred=SVM(X_train_str,X_test_str, y_train_str)\n",
    "# filename=\"models/str_model_svm.pkl\"\n",
    "# save_model(model,filename)\n",
    "svm_acc_str=accuracy_score(y_test_str,y_pred)\n",
    "svm_cls_str=classification_report(y_test_str, y_pred)\n"
   ]
  },
  {
   "cell_type": "code",
   "execution_count": null,
   "id": "51f05de0",
   "metadata": {},
   "outputs": [],
   "source": [
    "\n",
    "# Depression\n",
    "model,y_pred=SVM(X_train,X_test, y_train)\n",
    "knn_acc_dep=accuracy_score(y_test,y_pred)\n",
    "knn_cls_dep=classification_report(y_test, y_pred)\n"
   ]
  },
  {
   "cell_type": "code",
   "execution_count": null,
   "id": "6502de98",
   "metadata": {},
   "outputs": [],
   "source": [
    "\n",
    "knn_acc_dep\n"
   ]
  },
  {
   "cell_type": "code",
   "execution_count": null,
   "id": "1af52278",
   "metadata": {},
   "outputs": [],
   "source": [
    "\n",
    "def bagging(X_train,X_test, y_train):\n",
    "    estimators = []\n",
    "    model1= KNeighborsClassifier(n_neighbors=3) \n",
    "    estimators.append(('KNN', model1)) \n",
    "    model2 = DecisionTreeClassifier() \n",
    "    estimators.append(('cart',model2)) \n",
    "    model3 = SVC(probability=True, kernel='linear')\n",
    "    estimators.append(('svm', model3))\n",
    "    ensemble = VotingClassifier(estimators) \n",
    "    eclf1 = ensemble.fit(X_train,y_train) \n",
    "    y_pred=eclf1.predict(X_test)\n",
    "    return ensemble,y_pred\n"
   ]
  },
  {
   "cell_type": "code",
   "execution_count": null,
   "id": "a9b06743",
   "metadata": {},
   "outputs": [],
   "source": [
    "\n",
    "# Depression\n",
    "model,y_pred=bagging(X_train_dep,X_test_dep, y_train_dep)\n",
    "# filename=\"models/dep_model_ens.pkl\"\n",
    "# save_model(model,filename)\n",
    "ens_acc_dep=accuracy_score(y_test_dep,y_pred)\n",
    "ens_cls_dep=classification_report(y_test_dep, y_pred)\n"
   ]
  },
  {
   "cell_type": "code",
   "execution_count": null,
   "id": "9fe90575",
   "metadata": {},
   "outputs": [],
   "source": [
    "\n",
    "# Anxiety\n",
    "model,y_pred=bagging(X_train_anx,X_test_anx, y_train_anx)\n",
    "# filename=\"models/anx_model_ens.pkl\"\n",
    "# save_model(model,filename)\n",
    "ens_acc_anx=accuracy_score(y_test_anx,y_pred) \n",
    "ens_cls_anx=classification_report(y_test_anx, y_pred)\n"
   ]
  },
  {
   "cell_type": "code",
   "execution_count": null,
   "id": "9a2652fc",
   "metadata": {},
   "outputs": [],
   "source": [
    "\n",
    "# Stress\n",
    "model,y_pred=bagging(X_train_str,X_test_str, y_train_str)\n",
    "# filename=\"models/str_model_ens.pkl\"\n",
    "# save_model(model,filename)\n",
    "ens_acc_str=accuracy_score(y_test_str,y_pred)\n",
    "ens_cls_str=classification_report(y_test_str, y_pred)\n"
   ]
  },
  {
   "cell_type": "code",
   "execution_count": null,
   "id": "230c05fa",
   "metadata": {},
   "outputs": [],
   "source": [
    "\n",
    "def AdaBoost(X_train,X_test, y_train):\n",
    "    svc=SVC(probability=True, kernel='linear')\n",
    "    abc = AdaBoostClassifier(n_estimators=10 ,base_estimator=svc)\n",
    "    abc.fit(X_train, y_train)\n",
    "    y_pred = abc.predict(X_test)\n",
    "    return abc,y_pred\n"
   ]
  },
  {
   "cell_type": "code",
   "execution_count": null,
   "id": "3c659360",
   "metadata": {},
   "outputs": [],
   "source": [
    "\n",
    "# Depression\n",
    "model,y_pred=AdaBoost(X_train_dep,X_test_dep, y_train_dep)\n",
    "# filename=\"models/dep_model_ada.pkl\"\n",
    "# save_model(model,filename)\n",
    "ada_acc_dep=accuracy_score(y_test_dep,y_pred)\n",
    "ada_cls_dep=classification_report(y_test_dep, y_pred)\n",
    "# filename=\"models/dep_model_ada.joblib\"\n",
    "# dump_joblib(model,filename)\n"
   ]
  },
  {
   "cell_type": "code",
   "execution_count": null,
   "id": "3219f4a1",
   "metadata": {},
   "outputs": [],
   "source": [
    "ada_acc_dep"
   ]
  },
  {
   "cell_type": "code",
   "execution_count": null,
   "id": "c89e38e8",
   "metadata": {},
   "outputs": [],
   "source": [
    "\n",
    "# Anxiety\n",
    "model,y_pred=AdaBoost(X_train_anx,X_test_anx, y_train_anx)\n",
    "# filename=\"models/anx_model_ada.pkl\"\n",
    "# save_model(model,filename)\n",
    "ada_acc_anx=accuracy_score(y_test_anx,y_pred) \n",
    "ada_cls_anx=classification_report(y_test_anx, y_pred)\n",
    "# filename=\"models/anx_model_ada.joblib\"\n",
    "# dump_joblib(model,filename)\n"
   ]
  },
  {
   "cell_type": "code",
   "execution_count": null,
   "id": "a23f7244",
   "metadata": {},
   "outputs": [],
   "source": [
    "ada_acc_anx"
   ]
  },
  {
   "cell_type": "code",
   "execution_count": null,
   "id": "b62c2fa2",
   "metadata": {},
   "outputs": [],
   "source": [
    "\n",
    "# Stress\n",
    "model,y_pred=AdaBoost(X_train_str,X_test_str, y_train_str)\n",
    "# filename=\"models/str_model_ada.pkl\"\n",
    "# save_model(model,filename)\n",
    "ada_acc_str=accuracy_score(y_test_str,y_pred)\n",
    "ada_cls_str=classification_report(y_test_str, y_pred)\n",
    "# filename=\"models/str_model_ada.joblib\"\n",
    "# dump_joblib(model,filename)\n"
   ]
  },
  {
   "cell_type": "code",
   "execution_count": null,
   "id": "adf9c1f3",
   "metadata": {},
   "outputs": [],
   "source": [
    "ada_acc_str"
   ]
  },
  {
   "cell_type": "code",
   "execution_count": null,
   "id": "b87746ce",
   "metadata": {},
   "outputs": [],
   "source": [
    "\n",
    "model = load_model(\"../models/dep_model_svm.pkl\")\n",
    "y_pred = model.predict(X_test_dep)\n",
    "ada_acc_dep=accuracy_score(y_test_dep,y_pred)\n",
    "ada_cls_dep=classification_report(y_test_dep, y_pred)\n"
   ]
  },
  {
   "cell_type": "code",
   "execution_count": null,
   "id": "640c3e38",
   "metadata": {},
   "outputs": [],
   "source": [
    "\n",
    "model = load_model(\"../models/anx_model_svm.pkl\")\n",
    "y_pred = model.predict(X_test_anx)\n",
    "ada_acc_anx=accuracy_score(y_test_anx,y_pred) \n",
    "ada_cls_anx=classification_report(y_test_anx, y_pred)\n"
   ]
  },
  {
   "cell_type": "code",
   "execution_count": null,
   "id": "d11e5459",
   "metadata": {},
   "outputs": [],
   "source": [
    "\n",
    "model = load_model(\"../models/str_model_svm.pkl\")\n",
    "y_pred = model.predict(X_test_str)\n",
    "ada_acc_str=accuracy_score(y_test_str,y_pred)\n",
    "ada_cls_str=classification_report(y_test_str, y_pred)\n"
   ]
  },
  {
   "cell_type": "code",
   "execution_count": null,
   "id": "fae07961",
   "metadata": {},
   "outputs": [],
   "source": [
    "\n",
    "print(\"Depression accuracy for KNN: \",knn_acc_dep)\n",
    "print(\"Anxiety accuracy for KNN: \",knn_acc_anx)\n",
    "print(\"Stress accuracy for KNN: \",knn_acc_str)\n",
    "print(\"\\n\\n\")\n",
    "print(\"Depression accuracy for Naive Bayes: \",gnb_acc_dep)\n",
    "print(\"Anxiety accuracy for Naive Bayes: \",gnb_acc_anx)\n",
    "print(\"Stress accuracy for Naive Bayes: \",gnb_acc_str)\n",
    "print(\"\\n\\n\")\n",
    "print(\"Depression accuracy for Decision Tree using Gini: \",dt_acc_dep)\n",
    "print(\"Anxiety accuracy for Decision Tree using Gini: \",dt_acc_anx)\n",
    "print(\"Stress accuracy for Decision Tree using Gini: \",dt_acc_str)\n",
    "print(\"\\n\\n\")\n",
    "print(\"Depression accuracy for Decision Tree using Entropy: \",dt_ent_acc_dep)\n",
    "print(\"Anxiety accuracy for Decision Tree using Entropy: \",dt_ent_acc_anx)\n",
    "print(\"Stress accuracy for Decision Tree using Entropy: \",dt_ent_acc_str)\n",
    "print(\"\\n\\n\")\n",
    "print(\"Depression accuracy for Random Forest: \",rf_acc_dep)\n",
    "print(\"Anxiety accuracy for Random Forest: \",rf_acc_anx)\n",
    "print(\"Stress accuracy for Random Forest: \",rf_acc_str)\n",
    "print(\"\\n\\n\")\n",
    "print(\"Depression accuracy for SVM: \",svm_acc_dep)\n",
    "print(\"Anxiety accuracy for SVM: \",svm_acc_anx)\n",
    "print(\"Stress accuracy for SVM: \",svm_acc_str)\n",
    "print(\"\\n\\n\")\n",
    "print(\"Depression accuracy for Bagging Method: \",ens_acc_dep)\n",
    "print(\"Anxiety accuracy for Bagging Method: \",ens_acc_anx)\n",
    "print(\"Stress accuracy for Bagging Method: \",ens_acc_str)\n",
    "print(\"\\n\\n\")\n",
    "print(\"Depression accuracy for Adaboosting: \",ada_acc_dep)\n",
    "print(\"Anxiety accuracy for Adaboosting: \",ada_acc_anx)\n",
    "print(\"Stress accuracy for Adaboosting: \",ada_acc_str)\n"
   ]
  },
  {
   "cell_type": "code",
   "execution_count": null,
   "id": "a67c9105",
   "metadata": {},
   "outputs": [],
   "source": [
    "\n",
    "print(\"Depression Classification Report for KNN: \\n\",knn_cls_dep)\n",
    "print(\"Anxiety Classification Report for KNN:\\n \",knn_cls_anx)\n",
    "print(\"Stress Classification Report for KNN:\\n \",knn_cls_str)\n",
    "print(\"\\n\\n\")\n",
    "print(\"Depression Classification Report for Naive Bayes: \\n\",gnb_cls_dep)\n",
    "print(\"Anxiety Classification Report for Naive Bayes: \\n\",gnb_cls_anx)\n",
    "print(\"Stress Classification Report for Naive Bayes: \\n\",gnb_cls_str)\n",
    "print(\"\\n\\n\")\n",
    "print(\"Depression Classification Report for Decision Tree using Gini: \\n\",dt_cls_dep)\n",
    "print(\"Anxiety Classification Report for Decision Tree using Gini: \\n\",dt_cls_anx)\n",
    "print(\"Stress Classification Report for Decision Tree using Gini: \\n\",dt_cls_str)\n",
    "print(\"\\n\\n\")\n",
    "print(\"Depression Classification Report for Decision Tree using Entropy: \\n\",dt_ent_cls_dep)\n",
    "print(\"Anxiety Classification Report for Decision Tree using Entropy: \\n\",dt_ent_cls_anx)\n",
    "print(\"Stress Classification Report for Decision Tree using Entropy: \\n\",dt_ent_cls_str)\n",
    "print(\"\\n\\n\")\n",
    "print(\"Depression Classification Report for Random Forest: \\n\",rf_cls_dep)\n",
    "print(\"Anxiety Classification Report for Random Forest:\\n \",rf_cls_anx)\n",
    "print(\"Stress Classification Report for Random Forest: \\n\",rf_cls_str)\n",
    "print(\"\\n\\n\")\n",
    "print(\"Depression Classification Report for SVM:\\n \",svm_cls_dep)\n",
    "print(\"Anxiety Classification Report for SVM:\\n \",svm_cls_anx)\n",
    "print(\"Stress Classification Report for SVM: \\n\",knn_cls_str)\n",
    "print(\"\\n\\n\")\n",
    "print(\"Depression Classification Report for Bagging Method: \\n\",ens_cls_dep)\n",
    "print(\"Anxiety Classification Report for Bagging Method:\\n \",ens_cls_anx)\n",
    "print(\"Stress Classification Report for Bagging Method: \\n\",ens_cls_str)\n",
    "print(\"\\n\\n\")\n",
    "print(\"Depression Classification Report for Adaboosting: \\n\",ada_cls_dep)\n",
    "print(\"Anxiety Classification Report for Adaboosting: \\n\",ada_cls_anx)\n",
    "print(\"Stress Classification Report for Adaboosting: \\n\",ada_cls_str)\n"
   ]
  },
  {
   "cell_type": "code",
   "execution_count": null,
   "id": "10a248bf",
   "metadata": {},
   "outputs": [],
   "source": [
    "\n",
    "x=['KNN','GaussianNB','Decision Tree(Gini)','Decision Tree(Entropy)','Random Forest','SVM','Bagging','Adaboost']\n",
    "ydep=[knn_acc_dep,gnb_acc_dep,dt_acc_dep,dt_ent_acc_dep,rf_acc_dep,svm_acc_dep,ens_acc_dep,ada_acc_dep]\n",
    "yanx=[knn_acc_anx,gnb_acc_anx,dt_acc_anx,dt_ent_acc_anx,rf_acc_anx,svm_acc_anx,ens_acc_anx,ada_acc_anx]\n",
    "ystr=[knn_acc_str,gnb_acc_str,dt_acc_str,dt_ent_acc_str,rf_acc_str,svm_acc_str,ens_acc_str,ada_acc_str]\n"
   ]
  },
  {
   "cell_type": "code",
   "execution_count": null,
   "id": "68f35915",
   "metadata": {},
   "outputs": [],
   "source": [
    "\n",
    "data = {'Algorithms':x,\n",
    "        'DepressionAccuracy':ydep,\n",
    "        'AnxietyAccuracy':yanx,\n",
    "       'StressAccuracy':ystr}\n"
   ]
  },
  {
   "cell_type": "code",
   "execution_count": null,
   "id": "d8144167",
   "metadata": {},
   "outputs": [],
   "source": [
    "\n",
    "df_acc=pd.DataFrame(data)\n",
    "df_acc.head()\n"
   ]
  },
  {
   "cell_type": "code",
   "execution_count": null,
   "id": "4e77360f",
   "metadata": {},
   "outputs": [],
   "source": [
    "\n",
    "df_acc.to_csv('Accuracy.csv',index=False)\n"
   ]
  },
  {
   "cell_type": "code",
   "execution_count": null,
   "id": "c192e60d",
   "metadata": {},
   "outputs": [],
   "source": [
    "\n",
    "df_acc=reading_csv('../Datasets/Accuracy.csv')\n"
   ]
  },
  {
   "cell_type": "code",
   "execution_count": null,
   "id": "98d9c312",
   "metadata": {},
   "outputs": [],
   "source": [
    "\n",
    "colors = ['#274472', '#5885AF', '#C3E0E5','#007e79']\n",
    "fig = go.Figure(data=[\n",
    "    go.Bar(name='Depression', x=df_acc['Algorithms'], y=df_acc['DepressionAccuracy'],marker_color=colors[0]),\n",
    "    go.Bar(name='Stress', x=df_acc['Algorithms'], y=df_acc['AnxietyAccuracy'],marker_color=colors[1]),\n",
    "    go.Bar(name='Anxiety', x=df_acc['Algorithms'], y=df_acc['StressAccuracy'],marker_color=colors[2]),\n",
    "])\n",
    "# Change the bar mode\n",
    "fig.update_layout(barmode='group')\n",
    "fig.write_image(\"images/acc.png\")\n",
    "fig.show()\n"
   ]
  }
 ],
 "metadata": {
  "language_info": {
   "name": "python"
  }
 },
 "nbformat": 4,
 "nbformat_minor": 5
}
