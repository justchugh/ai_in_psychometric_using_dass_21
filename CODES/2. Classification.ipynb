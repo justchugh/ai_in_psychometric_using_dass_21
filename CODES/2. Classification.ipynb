{
 "cells": [
  {
   "cell_type": "code",
   "execution_count": null,
   "id": "6d44fd60",
   "metadata": {},
   "outputs": [],
   "source": [
    "# Importing necessary libraries\n",
    "import numpy as np\n",
    "import pandas as pd\n",
    "import matplotlib.pyplot as plt\n",
    "import seaborn as sns\n",
    "from sklearn.neighbors import KNeighborsClassifier\n",
    "from sklearn.model_selection import train_test_split\n",
    "from sklearn.metrics import accuracy_score, classification_report"
   ]
  },
  {
   "cell_type": "code",
   "execution_count": null,
   "id": "8bfd533e",
   "metadata": {},
   "outputs": [],
   "source": [
    "# Load dataset\n",
    "df = pd.read_csv('../Datasets/CleanData.csv')\n",
    "df_dep = pd.read_csv('../Datasets/Depression.csv')\n",
    "df_anx = pd.read_csv('../Datasets/Anxiety.csv')\n",
    "df_str = pd.read_csv('../Datasets/Stress.csv')"
   ]
  },
  {
   "cell_type": "code",
   "execution_count": null,
   "id": "667602cb",
   "metadata": {},
   "outputs": [],
   "source": [
    "# Dataset info\n",
    "df.shape\n",
    "df.columns\n",
    "df.dtypes\n",
    "df.isnull().sum()"
   ]
  },
  {
   "cell_type": "code",
   "execution_count": null,
   "id": "80074c7e",
   "metadata": {},
   "outputs": [],
   "source": [
    "# Extract features and target\n",
    "X = df.iloc[:, 0:7].values\n",
    "Y = df.iloc[:, 7].values\n",
    "X_dep = df_dep.iloc[:, :-1].values\n",
    "Y_dep = df_dep.iloc[:, -1].values\n",
    "X_anx = df_anx.iloc[:, :-1].values\n",
    "Y_anx = df_anx.iloc[:, -1].values\n",
    "X_str = df_str.iloc[:, :-1].values\n",
    "Y_str = df_str.iloc[:, -1].values"
   ]
  },
  {
   "cell_type": "code",
   "execution_count": null,
   "id": "6398a322",
   "metadata": {},
   "outputs": [],
   "source": [
    "# Split the data\n",
    "X_train, X_test, y_train, y_test = train_test_split(X, Y, test_size=0.3, random_state=1)\n",
    "X_train_dep, X_test_dep, y_train_dep, y_test_dep = train_test_split(X_dep, Y_dep, test_size=0.3, random_state=1)\n",
    "X_train_anx, X_test_anx, y_train_anx, y_test_anx = train_test_split(X_anx, Y_anx, test_size=0.3, random_state=1)\n",
    "X_train_str, X_test_str, y_train_str, y_test_str = train_test_split(X_str, Y_str, test_size=0.3, random_state=1)"
   ]
  },
  {
   "cell_type": "code",
   "execution_count": null,
   "id": "8ad5b46c",
   "metadata": {},
   "outputs": [],
   "source": [
    "# Define and evaluate KNN model\n",
    "knn = KNeighborsClassifier(n_neighbors=5)\n",
    "knn.fit(X_train, y_train)\n",
    "y_pred = knn.predict(X_test)\n",
    "knn_acc = accuracy_score(y_test, y_pred)\n",
    "knn_cls = classification_report(y_test, y_pred)\n",
    "knn_acc\n",
    "knn_cls\n",
    "\n",
    "knn.fit(X_train_dep, y_train_dep)\n",
    "y_pred_dep = knn.predict(X_test_dep)\n",
    "knn_acc_dep = accuracy_score(y_test_dep, y_pred_dep)\n",
    "knn_cls_dep = classification_report(y_test_dep, y_pred_dep)\n",
    "knn_acc_dep\n",
    "knn_cls_dep"
   ]
  },
  {
   "cell_type": "code",
   "execution_count": null,
   "id": "c8cc4f28",
   "metadata": {},
   "outputs": [],
   "source": [
    "# Evaluate KNN model on Anxiety and Stress\n",
    "y_pred_anx = knn.predict(X_test_anx)\n",
    "knn_acc_anx = accuracy_score(y_test_anx, y_pred_anx)\n",
    "knn_cls_anx = classification_report(y_test_anx, y_pred_anx)\n",
    "knn_acc_anx\n",
    "knn_cls_anx\n",
    "y_pred_str = knn.predict(X_test_str)\n",
    "knn_acc_str = accuracy_score(y_test_str, y_pred_str)\n",
    "knn_cls_str = classification_report(y_test_str, y_pred_str)\n",
    "knn_acc_str\n",
    "knn_cls_str"
   ]
  }
 ],
 "metadata": {},
 "nbformat": 4,
 "nbformat_minor": 5
}
