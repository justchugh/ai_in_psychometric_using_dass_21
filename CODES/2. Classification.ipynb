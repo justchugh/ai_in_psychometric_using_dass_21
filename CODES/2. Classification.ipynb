{
 "cells": [
  {
   "cell_type": "code",
   "execution_count": null,
   "id": "7fa48ece",
   "metadata": {},
   "outputs": [],
   "source": [
    "# Importing necessary libraries\n",
    "import numpy as np\n",
    "import pandas as pd\n",
    "from sklearn.model_selection import train_test_split\n",
    "from sklearn.neighbors import KNeighborsClassifier\n",
    "from sklearn.naive_bayes import GaussianNB\n",
    "from sklearn.tree import DecisionTreeClassifier\n",
    "from sklearn.ensemble import RandomForestClassifier\n",
    "from sklearn.svm import SVC\n",
    "from sklearn.metrics import accuracy_score, classification_report"
   ]
  },
  {
   "cell_type": "code",
   "execution_count": null,
   "id": "bd176a67",
   "metadata": {},
   "outputs": [],
   "source": [
    "# Load dataset\n",
    "df = pd.read_csv('../Datasets/CleanData.csv')"
   ]
  },
  {
   "cell_type": "code",
   "execution_count": null,
   "id": "2d7d29bc",
   "metadata": {},
   "outputs": [],
   "source": [
    "# Extract features and target\n",
    "X = df.iloc[:, 0:7].values\n",
    "Y = df.iloc[:, 7].values"
   ]
  },
  {
   "cell_type": "code",
   "execution_count": null,
   "id": "05b22c24",
   "metadata": {},
   "outputs": [],
   "source": [
    "# Split the data\n",
    "X_train, X_test, y_train, y_test = train_test_split(X, Y, test_size=0.3, random_state=1)"
   ]
  },
  {
   "cell_type": "code",
   "execution_count": null,
   "id": "9d26abb8",
   "metadata": {},
   "outputs": [],
   "source": [
    "# Define and evaluate KNN model\n",
    "knn = KNeighborsClassifier(n_neighbors=5)\n",
    "knn.fit(X_train, y_train)\n",
    "y_pred = knn.predict(X_test)\n",
    "knn_acc = accuracy_score(y_test, y_pred)\n",
    "knn_cls = classification_report(y_test, y_pred)\n",
    "knn_acc\n",
    "knn_cls"
   ]
  },
  {
   "cell_type": "code",
   "execution_count": null,
   "id": "32e29454",
   "metadata": {},
   "outputs": [],
   "source": [
    "# Define and evaluate GaussianNB model\n",
    "gnb = GaussianNB()\n",
    "gnb.fit(X_train, y_train)\n",
    "y_pred_gnb = gnb.predict(X_test)\n",
    "gnb_acc = accuracy_score(y_test, y_pred_gnb)\n",
    "gnb_cls = classification_report(y_test, y_pred_gnb)\n",
    "gnb_acc\n",
    "gnb_cls"
   ]
  },
  {
   "cell_type": "code",
   "execution_count": null,
   "id": "2b695b86",
   "metadata": {},
   "outputs": [],
   "source": [
    "# Define and evaluate DecisionTree model\n",
    "clf = DecisionTreeClassifier(criterion='gini', max_depth=10)\n",
    "clf.fit(X_train, y_train)\n",
    "y_pred_clf = clf.predict(X_test)\n",
    "dt_acc = accuracy_score(y_test, y_pred_clf)\n",
    "dt_cls = classification_report(y_test, y_pred_clf)\n",
    "dt_acc\n",
    "dt_cls"
   ]
  },
  {
   "cell_type": "code",
   "execution_count": null,
   "id": "50ecd148",
   "metadata": {},
   "outputs": [],
   "source": [
    "# Define and evaluate RandomForest model\n",
    "rf = RandomForestClassifier(n_estimators=50, random_state=2)\n",
    "rf.fit(X_train, y_train)\n",
    "y_pred_rf = rf.predict(X_test)\n",
    "rf_acc = accuracy_score(y_test, y_pred_rf)\n",
    "rf_cls = classification_report(y_test, y_pred_rf)\n",
    "rf_acc\n",
    "rf_cls"
   ]
  },
  {
   "cell_type": "code",
   "execution_count": null,
   "id": "1bbcac1d",
   "metadata": {},
   "outputs": [],
   "source": [
    "# Define and evaluate SVM model\n",
    "svm = SVC(kernel='linear', probability=True)\n",
    "svm.fit(X_train, y_train)\n",
    "y_pred_svm = svm.predict(X_test)\n",
    "svm_acc = accuracy_score(y_test, y_pred_svm)\n",
    "svm_cls = classification_report(y_test, y_pred_svm)\n",
    "svm_acc\n",
    "svm_cls"
   ]
  },
  {
   "cell_type": "code",
   "execution_count": null,
   "id": "30bb5c40",
   "metadata": {},
   "outputs": [],
   "source": [
    "# Evaluate models for Depression, Anxiety, and Stress\n",
    "datasets = {'Depression': '../Datasets/Depression.csv', 'Anxiety': '../Datasets/Anxiety.csv', 'Stress': '../Datasets/Stress.csv'}\n",
    "models = [knn, gnb, clf, rf, svm]\n",
    "model_names = ['KNN', 'GaussianNB', 'DecisionTree', 'RandomForest', 'SVM']\n",
    "for condition, path in datasets.items():\n",
    "    df_cond = pd.read_csv(path)\n",
    "    X_cond = df_cond.iloc[:, :-1].values\n",
    "    Y_cond = df_cond.iloc[:, -1].values\n",
    "    X_train_cond, X_test_cond, y_train_cond, y_test_cond = train_test_split(X_cond, Y_cond, test_size=0.3, random_state=1)\n",
    "    print(f'\\nCondition: {condition}')\n",
    "    for model, name in zip(models, model_names):\n",
    "        model.fit(X_train_cond, y_train_cond)\n",
    "        y_pred_cond = model.predict(X_test_cond)\n",
    "        acc_cond = accuracy_score(y_test_cond, y_pred_cond)\n",
    "        cls_cond = classification_report(y_test_cond, y_pred_cond)\n",
    "        print(f'\\nModel: {name}')\n",
    "        print(f'Accuracy: {acc_cond}')\n",
    "        print(f'Classification Report:\\n{cls_cond}')"
   ]
  }
 ],
 "metadata": {},
 "nbformat": 4,
 "nbformat_minor": 5
}
