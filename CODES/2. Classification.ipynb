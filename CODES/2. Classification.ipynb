{
 "cells": [
  {
   "cell_type": "code",
   "execution_count": null,
   "id": "260ea23f",
   "metadata": {},
   "outputs": [],
   "source": [
    "# Importing necessary libraries\n",
    "import numpy as np\n",
    "import pandas as pd\n",
    "from sklearn.model_selection import train_test_split\n",
    "from sklearn.neighbors import KNeighborsClassifier\n",
    "from sklearn.naive_bayes import GaussianNB\n",
    "from sklearn.tree import DecisionTreeClassifier\n",
    "from sklearn.ensemble import RandomForestClassifier\n",
    "from sklearn.svm import SVC\n",
    "from sklearn.metrics import accuracy_score, classification_report"
   ]
  },
  {
   "cell_type": "code",
   "execution_count": null,
   "id": "a59718a9",
   "metadata": {},
   "outputs": [],
   "source": [
    "# Load dataset\n",
    "df = pd.read_csv('../Datasets/CleanData.csv')\n",
    "df_dep = pd.read_csv('../Datasets/Depression.csv')\n",
    "df_anx = pd.read_csv('../Datasets/Anxiety.csv')\n",
    "df_str = pd.read_csv('../Datasets/Stress.csv')"
   ]
  },
  {
   "cell_type": "code",
   "execution_count": null,
   "id": "e104091d",
   "metadata": {},
   "outputs": [],
   "source": [
    "# Extract features and target\n",
    "X = df.iloc[:, 0:7].values\n",
    "Y = df.iloc[:, 7].values\n",
    "X_dep = df_dep.iloc[:, :-1].values\n",
    "Y_dep = df_dep.iloc[:, -1].values\n",
    "X_anx = df_anx.iloc[:, :-1].values\n",
    "Y_anx = df_anx.iloc[:, -1].values\n",
    "X_str = df_str.iloc[:, :-1].values\n",
    "Y_str = df_str.iloc[:, -1].values"
   ]
  },
  {
   "cell_type": "code",
   "execution_count": null,
   "id": "7482b7ee",
   "metadata": {},
   "outputs": [],
   "source": [
    "# Split the data\n",
    "X_train, X_test, y_train, y_test = train_test_split(X, Y, test_size=0.3, random_state=1)\n",
    "X_train_dep, X_test_dep, y_train_dep, y_test_dep = train_test_split(X_dep, Y_dep, test_size=0.3, random_state=1)\n",
    "X_train_anx, X_test_anx, y_train_anx, y_test_anx = train_test_split(X_anx, Y_anx, test_size=0.3, random_state=1)\n",
    "X_train_str, X_test_str, y_train_str, y_test_str = train_test_split(X_str, Y_str, test_size=0.3, random_state=1)"
   ]
  },
  {
   "cell_type": "code",
   "execution_count": null,
   "id": "7e11a509",
   "metadata": {},
   "outputs": [],
   "source": [
    "# Define and evaluate KNN model\n",
    "knn = KNeighborsClassifier(n_neighbors=5)\n",
    "knn.fit(X_train, y_train)\n",
    "y_pred = knn.predict(X_test)\n",
    "knn_acc = accuracy_score(y_test, y_pred)\n",
    "knn_cls = classification_report(y_test, y_pred)\n",
    "knn_acc\n",
    "knn_cls"
   ]
  },
  {
   "cell_type": "code",
   "execution_count": null,
   "id": "1579355a",
   "metadata": {},
   "outputs": [],
   "source": [
    "# Define and evaluate GaussianNB model\n",
    "gnb = GaussianNB()\n",
    "gnb.fit(X_train, y_train)\n",
    "y_pred_gnb = gnb.predict(X_test)\n",
    "gnb_acc = accuracy_score(y_test, y_pred_gnb)\n",
    "gnb_cls = classification_report(y_test, y_pred_gnb)\n",
    "gnb_acc\n",
    "gnb_cls"
   ]
  },
  {
   "cell_type": "code",
   "execution_count": null,
   "id": "94c3fa40",
   "metadata": {},
   "outputs": [],
   "source": [
    "# Define and evaluate DecisionTree model\n",
    "clf = DecisionTreeClassifier(criterion='gini', max_depth=10)\n",
    "clf.fit(X_train, y_train)\n",
    "y_pred_clf = clf.predict(X_test)\n",
    "dt_acc = accuracy_score(y_test, y_pred_clf)\n",
    "dt_cls = classification_report(y_test, y_pred_clf)\n",
    "dt_acc\n",
    "dt_cls"
   ]
  },
  {
   "cell_type": "code",
   "execution_count": null,
   "id": "ac198632",
   "metadata": {},
   "outputs": [],
   "source": [
    "# Define and evaluate RandomForest model\n",
    "rf = RandomForestClassifier(n_estimators=50, random_state=2)\n",
    "rf.fit(X_train, y_train)\n",
    "y_pred_rf = rf.predict(X_test)\n",
    "rf_acc = accuracy_score(y_test, y_pred_rf)\n",
    "rf_cls = classification_report(y_test, y_pred_rf)\n",
    "rf_acc\n",
    "rf_cls"
   ]
  },
  {
   "cell_type": "code",
   "execution_count": null,
   "id": "0daf4a0e",
   "metadata": {},
   "outputs": [],
   "source": [
    "# Define and evaluate SVM model\n",
    "svm = SVC(kernel='linear', probability=True)\n",
    "svm.fit(X_train, y_train)\n",
    "y_pred_svm = svm.predict(X_test)\n",
    "svm_acc = accuracy_score(y_test, y_pred_svm)\n",
    "svm_cls = classification_report(y_test, y_pred_svm)\n",
    "svm_acc\n",
    "svm_cls"
   ]
  }
 ],
 "metadata": {},
 "nbformat": 4,
 "nbformat_minor": 5
}
