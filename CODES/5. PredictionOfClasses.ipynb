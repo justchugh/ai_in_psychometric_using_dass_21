{
 "cells": [
  {
   "cell_type": "code",
   "execution_count": null,
   "id": "ac208d0d",
   "metadata": {},
   "outputs": [],
   "source": [
    "# Importing necessary libraries\n",
    "import numpy as np\n",
    "import pandas as pd\n",
    "import matplotlib.pyplot as plt\n",
    "# Load libraries \n",
    "from sklearn.svm import SVC\n",
    "from sklearn.model_selection import train_test_split # Import train_test_split function\n",
    "from sklearn.metrics import accuracy_score\n",
    "import pickle \n",
    "import joblib"
   ]
  },
  {
   "cell_type": "code",
   "execution_count": null,
   "id": "7116d4de",
   "metadata": {},
   "outputs": [],
   "source": [
    "def reading_csv(filename):\n",
    "    df = pd.read_csv(filename)\n",
    "    return df"
   ]
  },
  {
   "cell_type": "code",
   "execution_count": null,
   "id": "615eb006",
   "metadata": {},
   "outputs": [],
   "source": [
    "df_dep = reading_csv(\"../SurveyDataset/Depression.csv\")\n",
    "df_anx = reading_csv(\"../SurveyDataset/Anxiety.csv\")\n",
    "df_str = reading_csv(\"../SurveyDataset/Stress.csv\")"
   ]
  },
  {
   "cell_type": "code",
   "execution_count": null,
   "id": "40130e42",
   "metadata": {},
   "outputs": [],
   "source": [
    "df_dep.head()"
   ]
  },
  {
   "cell_type": "code",
   "execution_count": null,
   "id": "73470f7d",
   "metadata": {},
   "outputs": [],
   "source": [
    "def load_model(filename):\n",
    "    with open(filename, 'rb') as file:\n",
    "        model = pickle.load(file)\n",
    "    return model"
   ]
  },
  {
   "cell_type": "code",
   "execution_count": null,
   "id": "39eafad2",
   "metadata": {},
   "outputs": [],
   "source": [
    "# Depression\n",
    "model = load_model(\"../models/dep_model_svm.pkl\")\n",
    "y_pred_dep = model.predict(df_dep)\n",
    "\n",
    "# Warning suppression\n",
    "import warnings\n",
    "warnings.filterwarnings('ignore', category=UserWarning)"
   ]
  },
  {
   "cell_type": "code",
   "execution_count": null,
   "id": "e0c0f540",
   "metadata": {},
   "outputs": [],
   "source": [
    "model = load_model(\"../models/anx_model_svm.pkl\")\n",
    "y_pred_anx = model.predict(df_anx)"
   ]
  },
  {
   "cell_type": "code",
   "execution_count": null,
   "id": "5353b572",
   "metadata": {},
   "outputs": [],
   "source": [
    "model = load_model(\"../models/str_model_svm.pkl\")\n",
    "y_pred_str = model.predict(df_str)"
   ]
  },
  {
   "cell_type": "code",
   "execution_count": null,
   "id": "040ea947",
   "metadata": {},
   "outputs": [],
   "source": [
    "y_pred_dep"
   ]
  },
  {
   "cell_type": "code",
   "execution_count": null,
   "id": "93232f64",
   "metadata": {},
   "outputs": [],
   "source": [
    "df = reading_csv(\"../SurveyDataset/CleanData.csv\")"
   ]
  },
  {
   "cell_type": "code",
   "execution_count": null,
   "id": "5e2d7268",
   "metadata": {},
   "outputs": [],
   "source": [
    "df['Depression'] = y_pred_dep\n",
    "df['Anxiety'] = y_pred_anx\n",
    "df['Stress'] = y_pred_str"
   ]
  },
  {
   "cell_type": "code",
   "execution_count": null,
   "id": "c3084c99",
   "metadata": {},
   "outputs": [],
   "source": [
    "df.head()"
   ]
  },
  {
   "cell_type": "code",
   "execution_count": null,
   "id": "b40d5d05",
   "metadata": {},
   "outputs": [],
   "source": [
    "scale_mapper = {0:'Normal' ,1:'Mild', 2:'Moderate',3:'Severe' ,4:'Extremely Severe'}\n",
    "col = ['Depression','Anxiety','Stress']\n",
    "for i in col:\n",
    "    df[i] = df[i].replace(scale_mapper)"
   ]
  },
  {
   "cell_type": "code",
   "execution_count": null,
   "id": "2ca85289",
   "metadata": {},
   "outputs": [],
   "source": [
    "df.head()"
   ]
  },
  {
   "cell_type": "code",
   "execution_count": null,
   "id": "b523155f",
   "metadata": {},
   "outputs": [],
   "source": [
    "#  saving the preprocessed dataframe\n",
    "df.to_csv('../SurveyDataset/CleanData.csv',index=False)"
   ]
  }
 ],
 "metadata": {},
 "nbformat": 4,
 "nbformat_minor": 5
}
