{
 "cells": [
  {
   "cell_type": "code",
   "execution_count": null,
   "id": "acb527ab",
   "metadata": {},
   "outputs": [],
   "source": [
    "# Importing necessary libraries\n",
    "import numpy as np\n",
    "import pandas as pd\n",
    "import matplotlib.pyplot as plt\n",
    "from sklearn.svm import SVC\n",
    "from sklearn.model_selection import train_test_split\n",
    "from sklearn.metrics import accuracy_score\n",
    "import pickle\n",
    "import joblib"
   ]
  },
  {
   "cell_type": "code",
   "execution_count": null,
   "id": "f509b251",
   "metadata": {},
   "outputs": [],
   "source": [
    "# Load dataset\n",
    "def reading_csv(filename):\n",
    "    df = pd.read_csv(filename)\n",
    "    return df\n",
    "df_dep = reading_csv('../SurveyDataset/Depression.csv')\n",
    "df_anx = reading_csv('../SurveyDataset/Anxiety.csv')\n",
    "df_str = reading_csv('../SurveyDataset/Stress.csv')\n",
    "df_dep.head()"
   ]
  },
  {
   "cell_type": "code",
   "execution_count": null,
   "id": "4619340b",
   "metadata": {},
   "outputs": [],
   "source": [
    "# Load model and predict\n",
    "def load_model(filename):\n",
    "    with open(filename, 'rb') as file:\n",
    "        model = pickle.load(file)\n",
    "    return model\n",
    "\n",
    "model_dep = load_model('../models/dep_model_svm.pkl')\n",
    "model_anx = load_model('../models/anx_model_svm.pkl')\n",
    "model_str = load_model('../models/str_model_svm.pkl')\n",
    "y_pred_dep = model_dep.predict(df_dep)\n",
    "y_pred_anx = model_anx.predict(df_anx)\n",
    "y_pred_str = model_str.predict(df_str)"
   ]
  },
  {
   "cell_type": "code",
   "execution_count": null,
   "id": "5435e328",
   "metadata": {},
   "outputs": [],
   "source": [
    "# Add predictions to dataframe\n",
    "df = reading_csv('../SurveyDataset/CleanData.csv')\n",
    "df['Depression'] = y_pred_dep\n",
    "df['Anxiety'] = y_pred_anx\n",
    "df['Stress'] = y_pred_str\n",
    "df.head()"
   ]
  },
  {
   "cell_type": "code",
   "execution_count": null,
   "id": "7241fe22",
   "metadata": {},
   "outputs": [],
   "source": [
    "# Scale mapping\n",
    "scale_mapper = {0: 'Normal', 1: 'Mild', 2: 'Moderate', 3: 'Severe', 4: 'Extremely Severe'}\n",
    "for col in ['Depression', 'Anxiety', 'Stress']:\n",
    "    df[col] = df[col].replace(scale_mapper)\n",
    "df.head()"
   ]
  },
  {
   "cell_type": "code",
   "execution_count": null,
   "id": "45cee6e7",
   "metadata": {},
   "outputs": [],
   "source": [
    "# Save preprocessed dataframe\n",
    "df.to_csv('../SurveyDataset/CleanData.csv', index=False)"
   ]
  }
 ],
 "metadata": {},
 "nbformat": 4,
 "nbformat_minor": 5
}
