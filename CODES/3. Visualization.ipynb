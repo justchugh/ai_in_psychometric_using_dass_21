{
 "cells": [
  {
   "cell_type": "code",
   "execution_count": null,
   "id": "fb1a7cb3",
   "metadata": {},
   "outputs": [],
   "source": [
    "\n",
    "# Importing necessary libraries\n",
    "import numpy as np\n",
    "import pandas as pd\n",
    "import matplotlib.pyplot as plt\n",
    "import seaborn as sns\n",
    "import sklearn \n",
    "import plotly.graph_objects as go\n",
    "import plotly.offline as pyo\n",
    "import plotly.express as px\n",
    "from plotly.subplots import make_subplots\n",
    "from plotly import tools\n",
    "import plotly.figure_factory as ff\n"
   ]
  },
  {
   "cell_type": "code",
   "execution_count": null,
   "id": "50a09a0a",
   "metadata": {},
   "outputs": [],
   "source": [
    "\n",
    "# reading csv file\n",
    "df_dep=pd.read_csv(\"../Datasets/Depression.csv\")\n",
    "df_anx=pd.read_csv(\"../Datasets/Anxiety.csv\")\n",
    "df_str=pd.read_csv(\"../Datasets/Stress.csv\")\n",
    "df_str.head()\n"
   ]
  },
  {
   "cell_type": "code",
   "execution_count": null,
   "id": "03521c5b",
   "metadata": {},
   "outputs": [],
   "source": [
    "\n",
    "df=pd.read_csv(\"../Datasets/CleanData.csv\")\n",
    "df.head()\n"
   ]
  },
  {
   "cell_type": "code",
   "execution_count": null,
   "id": "a307ee5e",
   "metadata": {},
   "outputs": [],
   "source": [
    "\n",
    "# Selecting Depression, Anxiety, & Stress Score and TIPI Questions\n",
    "tp=[df.columns[21:31]]\n",
    "list(tp[0])\n",
    "cols=['Dep','Anx','Str']\n",
    "for i in tp[0]:\n",
    "    cols.append(i)\n"
   ]
  },
  {
   "cell_type": "code",
   "execution_count": null,
   "id": "a52b3537",
   "metadata": {},
   "outputs": [],
   "source": [
    "\n",
    "new_df=df[cols]\n",
    "new_df.shape\n"
   ]
  },
  {
   "cell_type": "code",
   "execution_count": null,
   "id": "3626eedc",
   "metadata": {},
   "outputs": [],
   "source": [
    "\n",
    "corr=new_df.corr()\n"
   ]
  },
  {
   "cell_type": "code",
   "execution_count": null,
   "id": "83ac8a6b",
   "metadata": {},
   "outputs": [],
   "source": [
    "\n",
    "for i in corr.columns[:3]:\n",
    "    corr.drop(i, axis = 1, inplace = True)\n"
   ]
  },
  {
   "cell_type": "code",
   "execution_count": null,
   "id": "eec0c466",
   "metadata": {},
   "outputs": [],
   "source": [
    "\n",
    "corr.index[3:]\n"
   ]
  },
  {
   "cell_type": "code",
   "execution_count": null,
   "id": "09de292f",
   "metadata": {},
   "outputs": [],
   "source": [
    "\n",
    "ind=list(corr.index[3:])\n"
   ]
  },
  {
   "cell_type": "code",
   "execution_count": null,
   "id": "065a0585",
   "metadata": {},
   "outputs": [],
   "source": [
    "\n",
    "corr=corr.drop(ind)\n"
   ]
  },
  {
   "cell_type": "code",
   "execution_count": null,
   "id": "f038657a",
   "metadata": {},
   "outputs": [],
   "source": [
    "\n",
    "corr\n"
   ]
  },
  {
   "cell_type": "code",
   "execution_count": null,
   "id": "b6a2d0b8",
   "metadata": {},
   "outputs": [],
   "source": [
    "\n",
    "# Correlation Heatmap\n",
    "z_text = np.round(corr.values, decimals=2)\n"
   ]
  },
  {
   "cell_type": "code",
   "execution_count": null,
   "id": "4c80a5b5",
   "metadata": {},
   "outputs": [],
   "source": [
    "\n",
    "fig = ff.create_annotated_heatmap(z=corr.values, x=list(corr.columns), y=['Dep', 'Anx', 'Str'], \n",
    "                                  colorscale=[[0,'#bae1d4'],[1,'#274472']], annotation_text=z_text)\n",
    "fig.show()\n"
   ]
  },
  {
   "cell_type": "code",
   "execution_count": null,
   "id": "7cfa9c19",
   "metadata": {},
   "outputs": [],
   "source": [
    "\n",
    "fig = go.Figure(data=go.Heatmap(\n",
    "                   z=corr.values,\n",
    "                   x=list(corr.columns),\n",
    "                   y=['Dep', 'Anx', 'Str'],\n",
    "                  colorscale=[[0,'#bae1d4'],[1,'#274472']],\n",
    "                   hoverongaps = False))\n",
    "fig.show()\n"
   ]
  },
  {
   "cell_type": "code",
   "execution_count": null,
   "id": "88e43245",
   "metadata": {},
   "outputs": [],
   "source": [
    "\n",
    "# TIPI1  Extraverted, enthusiastic.\n",
    "# TIPI2    Critical, quarrelsome.\n",
    "# TIPI3    Dependable, self-disciplined.\n",
    "# TIPI4    Anxious, easily upset.\n",
    "# TIPI5    Open to new experiences, complex.\n",
    "# TIPI6    Reserved, quiet.\n",
    "# TIPI7    Sympathetic, warm.\n",
    "# TIPI8    Disorganized, careless.\n",
    "# TIPI9    Calm, emotionally stable.\n",
    "# TIPI10   Conventional, uncreative.\n"
   ]
  },
  {
   "cell_type": "code",
   "execution_count": null,
   "id": "9ff516ae",
   "metadata": {},
   "outputs": [],
   "source": [
    "\n",
    "def scale_chart(labels, x_data, y_data):\n",
    "    colors = ['#274472', '#42669e','#6d93cf','#94bbf7']\n",
    "    fig = go.Figure()\n",
    "\n",
    "    for i in range(0, len(x_data[0])):\n",
    "        for xd, yd in zip(x_data, y_data):\n",
    "            fig.add_trace(go.Bar(\n",
    "                x=[xd[i]], y=[yd],\n",
    "                orientation='h',\n",
    "                marker=dict(\n",
    "                    color=colors[i],\n",
    "                    line=dict(color='rgb(248, 248, 249)', width=1)\n",
    "                )\n",
    "            ))\n",
    "\n",
    "    fig.update_layout(\n",
    "        xaxis=dict(\n",
    "            showgrid=False,\n",
    "            showline=False,\n",
    "            showticklabels=False,\n",
    "            zeroline=False,\n",
    "            domain=[0.15, 1]\n",
    "        ),\n",
    "        yaxis=dict(\n",
    "            showgrid=False,\n",
    "            showline=False,\n",
    "            showticklabels=False,\n",
    "            zeroline=False,\n",
    "        ),\n",
    "        barmode='stack',\n",
    "        paper_bgcolor='rgb(248, 248, 255)',\n",
    "        plot_bgcolor='rgb(248, 248, 255)',\n",
    "        margin=dict(l=120, r=10, t=140, b=80),\n",
    "        showlegend=False,\n",
    "    )\n",
    "\n",
    "    annotations = []\n",
    "\n",
    "    for yd, xd in zip(y_data, x_data):\n",
    "        # labeling the y-axis\n",
    "        annotations.append(dict(xref='paper', yref='y',\n",
    "                                x=0.14, y=yd,\n",
    "                                xanchor='right',\n",
    "                                text=str(yd),\n",
    "                                font=dict(family='Arial', size=10,\n",
    "                                          color='rgb(67, 67, 67)'),\n",
    "                                showarrow=False, align='right'))\n",
    "        # labeling the first percentage of each bar (x_axis)\n",
    "        annotations.append(dict(xref='x', yref='y',\n",
    "                                x=xd[0] / 2, y=yd,\n",
    "                                text=str(xd[0]) + '%',\n",
    "                                font=dict(family='Arial', size=12,\n",
    "                                          color='rgb(248, 248, 255)'),\n",
    "                                showarrow=False))\n",
    "        # labeling the first Likert scale (on the top)\n",
    "        if yd == y_data[-1]:\n",
    "            annotations.append(dict(xref='x', yref='paper',\n",
    "                                    x=xd[0] / 2, y=1.1,\n",
    "                                    text=top_labels[0],\n",
    "                                    font=dict(family='Arial', size=12,\n",
    "                                              color='rgb(67, 67, 67)'),\n",
    "                                    showarrow=False))\n",
    "        space = xd[0]\n",
    "        for i in range(1, len(xd)):\n",
    "                # labeling the rest of percentages for each bar (x_axis)\n",
    "                annotations.append(dict(xref='x', yref='y',\n",
    "                                        x=space + (xd[i]/2), y=yd,\n",
    "                                        text=str(xd[i]) + '%',\n",
    "                                        font=dict(family='Arial', size=12,\n",
    "                                                  color='rgb(248, 248, 255)'),\n",
    "                                        showarrow=False))\n",
    "                # labeling the Likert scale\n",
    "                if yd == y_data[-1]:\n",
    "                    annotations.append(dict(xref='x', yref='paper',\n",
    "                                            x=space + (xd[i]/2), y=1.1,\n",
    "                                            text=top_labels[i],\n",
    "                                            font=dict(family='Arial', size=12,\n",
    "                                                      color='rgb(67, 67, 67)'),\n",
    "                                            showarrow=False))\n",
    "                space += xd[i]\n",
    "\n",
    "    fig.update_layout(annotations=annotations)\n",
    "    print(\"0 = Did not apply to me at all 1 = Applied to me to some degree, or some of the time 2 = Applied to me to a considerable degree or a good part of time 3 = Applied to me very much or most of the time\")\n",
    "    fig.show()\n"
   ]
  },
  {
   "cell_type": "code",
   "execution_count": null,
   "id": "c817a085",
   "metadata": {},
   "outputs": [],
   "source": [
    "\n",
    "df1=df.iloc[:,31:]\n",
    "df1.head()\n",
    "    "
   ]
  },
  {
   "cell_type": "code",
   "execution_count": null,
   "id": "104409e4",
   "metadata": {},
   "outputs": [],
   "source": [
    "\n",
    "scale = {0:'Normal' ,1:'Mild', 2:'Moderate',3:'Severe' ,4:'Extremely Severe'}\n",
    "    "
   ]
  },
  {
   "cell_type": "code",
   "execution_count": null,
   "id": "59bd0fcb",
   "metadata": {},
   "outputs": [],
   "source": [
    "\n",
    "tr=list(df.groupby(['gender', 'Depression']).size().reset_index(name='counts').sort_values(by=['Depression'])['counts'])\n",
    "gender=df['gender'].unique().sort()\n",
    "colors = ['#c6e1d7', '#98bebe', '#7999ad','#657295','#50486d']\n",
    "fig = go.Figure(data=[\n",
    "    go.Bar(name='0', x=gender, y=tr[:3],marker_color=colors[0]),\n",
    "    go.Bar(name='1', x=gender, y=tr[3:6],marker_color=colors[1]),\n",
    "    go.Bar(name='2', x=gender, y=tr[6:9],marker_color=colors[2]),\n",
    "    go.Bar(name='3', x=gender, y=tr[9:12],marker_color=colors[3]),\n",
    "    go.Bar(name='4', x=gender, y=tr[12:15],marker_color=colors[4])\n",
    "])\n",
    "# Change the bar mode\n",
    "fig.update_layout(barmode='group')\n",
    "fig.show()\n",
    "    "
   ]
  },
  {
   "cell_type": "code",
   "execution_count": null,
   "id": "6747db25",
   "metadata": {},
   "outputs": [],
   "source": [
    "\n",
    "labels = [0,1,2,3,4]\n",
    "tr=df.groupby(['gender', 'Depression']).size().reset_index(name='counts')['counts']\n",
    "# Create subplots: use 'domain' type for Pie subplot\n",
    "fig = make_subplots(rows=1, cols=3, specs=[[{'type':'domain'}, {'type':'domain'}, {'type':'domain'}]])\n",
    "fig.add_trace(go.Pie(labels=labels, values=list(tr[0:5]/sum(tr[0:5])*100), name=\"Male\",marker_colors=colors),\n",
    "              1, 1)\n",
    "fig.add_trace(go.Pie(labels=labels, values=list(tr[5:10]/sum(tr[5:10])*100), name=\"Female\",marker_colors=colors),\n",
    "              1, 2)\n",
    "fig.add_trace(go.Pie(labels=labels, values=list(tr[10:15]/sum(tr[10:15])*100), name=\"Other\",marker_colors=colors),\n",
    "              1, 3)\n",
    "\n",
    "# Use `hole` to create a donut-like pie chart\n",
    "fig.update_traces(hole=.4, hoverinfo=\"label+percent+name\")\n",
    "\n",
    "fig.update_layout(\n",
    "    title_text=\"Proportion of Depression score gender wise\",\n",
    "    # Add annotations in the center of the donut pies.\n",
    "    annotations=[dict(text='Male', x=0.12, y=0.5, font_size=20, showarrow=False),\n",
    "                 dict(text='Female', x=0.50, y=0.5, font_size=20, showarrow=False),\n",
    "                 dict(text='Other', x=0.90, y=0.5, font_size=20, showarrow=False)])\n",
    "fig.show()\n",
    "    "
   ]
  },
  {
   "cell_type": "code",
   "execution_count": null,
   "id": "fb53cc39",
   "metadata": {},
   "outputs": [],
   "source": [
    "tr = list(df.groupby(['gender', 'Anxiety']).size().reset_index(name='counts').sort_values(by=['Anxiety'])['counts'])\n",
    "gender = df['gender'].unique().sort()\n",
    "colors = ['#c6e1d7', '#98bebe', '#7999ad', '#657295', '#50486d']\n",
    "fig = go.Figure(data=[\n",
    "    go.Bar(name='0', x=gender, y=tr[:3], marker_color=colors[0]),\n",
    "    go.Bar(name='1', x=gender, y=tr[3:6], marker_color=colors[1]),\n",
    "    go.Bar(name='2', x=gender, y=tr[6:9], marker_color=colors[2]),\n",
    "    go.Bar(name='3', x=gender, y=tr[9:12], marker_color=colors[3]),\n",
    "    go.Bar(name='4', x=gender, y=tr[12:15], marker_color=colors[4])\n",
    "])\n",
    "# Change the bar mode\n",
    "fig.update_layout(barmode='group')\n",
    "fig.show()"
   ]
  },
  {
   "cell_type": "code",
   "execution_count": null,
   "id": "c2ace123",
   "metadata": {},
   "outputs": [],
   "source": [
    "labels = [0, 1, 2, 3, 4]\n",
    "tr = df.groupby(['gender', 'Anxiety']).size().reset_index(name='counts')['counts']\n",
    "# Create subplots: use 'domain' type for Pie subplot\n",
    "fig = make_subplots(rows=1, cols=3, specs=[[{'type': 'domain'}, {'type': 'domain'}, {'type': 'domain'}]])\n",
    "fig.add_trace(go.Pie(labels=labels, values=list(tr[0:5] / sum(tr[0:5]) * 100), name=\"Male\", marker_colors=colors),\n",
    "              1, 1)\n",
    "fig.add_trace(go.Pie(labels=labels, values=list(tr[5:10] / sum(tr[5:10]) * 100), name=\"Female\", marker_colors=colors),\n",
    "              1, 2)\n",
    "fig.add_trace(go.Pie(labels=labels, values=list(tr[10:15] / sum(tr[10:15]) * 100), name=\"Other\", marker_colors=colors),\n",
    "              1, 3)\n",
    "\n",
    "# Use `hole` to create a donut-like pie chart\n",
    "fig.update_traces(hole=.4, hoverinfo=\"label+percent+name\")\n",
    "\n",
    "fig.update_layout(\n",
    "    title_text=\"Proportion of Anxiety score gender wise\",\n",
    "    # Add annotations in the center of the donut pies.\n",
    "    annotations=[dict(text='Male', x=0.12, y=0.5, font_size=20, showarrow=False),\n",
    "                 dict(text='Female', x=0.50, y=0.5, font_size=20, showarrow=False),\n",
    "                 dict(text='Other', x=0.90, y=0.5, font_size=20, showarrow=False)])\n",
    "fig.show()"
   ]
  },
  {
   "cell_type": "code",
   "execution_count": null,
   "id": "d7896033",
   "metadata": {},
   "outputs": [],
   "source": [
    "tr = list(df.groupby(['gender', 'Stress']).size().reset_index(name='counts').sort_values(by=['Stress'])['counts'])\n",
    "gender = df['gender'].unique().sort()\n",
    "colors = ['#c6e1d7', '#98bebe', '#7999ad', '#657295', '#50486d']\n",
    "fig = go.Figure(data=[\n",
    "    go.Bar(name='0', x=gender, y=tr[:3], marker_color=colors[0]),\n",
    "    go.Bar(name='1', x=gender, y=tr[3:6], marker_color=colors[1]),\n",
    "    go.Bar(name='2', x=gender, y=tr[6:9], marker_color=colors[2]),\n",
    "    go.Bar(name='3', x=gender, y=tr[9:12], marker_color=colors[3]),\n",
    "    go.Bar(name='4', x=gender, y=tr[12:15], marker_color=colors[4])\n",
    "])\n",
    "# Change the bar mode\n",
    "fig.update_layout(barmode='group')\n",
    "fig.show()"
   ]
  },
  {
   "cell_type": "code",
   "execution_count": null,
   "id": "a878c24e",
   "metadata": {},
   "outputs": [],
   "source": [
    "labels = [0, 1, 2, 3, 4]\n",
    "tr = df.groupby(['gender', 'Stress']).size().reset_index(name='counts')['counts']\n",
    "# Create subplots: use 'domain' type for Pie subplot\n",
    "fig = make_subplots(rows=1, cols=3, specs=[[{'type': 'domain'}, {'type': 'domain'}, {'type': 'domain'}]])\n",
    "fig.add_trace(go.Pie(labels=labels, values=list(tr[0:5] / sum(tr[0:5]) * 100), name=\"Male\", marker_colors=colors),\n",
    "              1, 1)\n",
    "fig.add_trace(go.Pie(labels=labels, values=list(tr[5:10] / sum(tr[5:10]) * 100), name=\"Female\", marker_colors=colors),\n",
    "              1, 2)\n",
    "fig.add_trace(go.Pie(labels=labels, values=list(tr[10:15] / sum(tr[10:15]) * 100), name=\"Other\", marker_colors=colors),\n",
    "              1, 3)\n",
    "\n",
    "# Use `hole` to create a donut-like pie chart\n",
    "fig.update_traces(hole=.4, hoverinfo=\"label+percent+name\")\n",
    "\n",
    "fig.update_layout(\n",
    "    title_text=\"Proportion of Stress score gender wise\",\n",
    "    # Add annotations in the center of the donut pies.\n",
    "    annotations=[dict(text='Male', x=0.12, y=0.5, font_size=20, showarrow=False),\n",
    "                 dict(text='Female', x=0.50, y=0.5, font_size=20, showarrow=False),\n",
    "                 dict(text='Other', x=0.90, y=0.5, font_size=20, showarrow=False)])\n",
    "fig.show()"
   ]
  },
  {
   "cell_type": "code",
   "execution_count": null,
   "id": "34aa8aff",
   "metadata": {},
   "outputs": [],
   "source": [
    "fig = go.Figure(data=[go.Histogram(x=df['age'], marker_color='#50486d')])\n",
    "fig.show()"
   ]
  },
  {
   "cell_type": "code",
   "execution_count": null,
   "id": "8e4e9841",
   "metadata": {},
   "outputs": [],
   "source": [
    "age = ['18-25', '26-35', '36-45', '46-60', '60+']\n",
    "dep = []\n",
    "anx = []\n",
    "stre = []\n",
    "cols = {'Depression': dep, 'Anxiety': anx, 'Stress': stre}\n",
    "for key, value in cols.items():\n",
    "    for j in age:\n",
    "        value.append(df[df['age class'] == j][key].mean())\n",
    "age = [*age, age[0]]"
   ]
  },
  {
   "cell_type": "code",
   "execution_count": null,
   "id": "1f8a9b30",
   "metadata": {},
   "outputs": [],
   "source": [
    "dep = [*dep, dep[0]]\n",
    "anx = [*anx, anx[0]]\n",
    "stre = [*stre, stre[0]]"
   ]
  },
  {
   "cell_type": "code",
   "execution_count": null,
   "id": "a9f3886f",
   "metadata": {},
   "outputs": [],
   "source": [
    "fig = go.Figure(\n",
    "    data=[\n",
    "        go.Scatterpolar(r=dep, theta=age, fill='toself', line_color='#d39e12', name='Depression'),\n",
    "        go.Scatterpolar(r=anx, theta=age, fill='toself', line_color='#00837e', name='Anxiety'),\n",
    "        go.Scatterpolar(r=stre, theta=age, fill='toself', line_color='#012048', name='Stress')\n",
    "    ],\n",
    "    layout=go.Layout(\n",
    "        title=go.layout.Title(text='Mean score comparison Age-wise'),\n",
    "        polar={'radialaxis': {'visible': True}},\n",
    "        showlegend=True\n",
    "    )\n",
    ")\n",
    "fig.show()"
   ]
  },
  {
   "cell_type": "code",
   "execution_count": null,
   "id": "a0df4dc9",
   "metadata": {},
   "outputs": [],
   "source": [
    "tr = list(df.groupby(['family', 'Depression']).size().reset_index(name='counts').sort_values(by=['Depression'])['counts'])\n",
    "family = np.sort(df['family'].unique())\n",
    "colors = ['#c6e1d7', '#98bebe', '#7999ad', '#657295', '#50486d']\n",
    "fig = go.Figure(data=[\n",
    "    go.Bar(name='0', x=family, y=tr[:3], marker_color=colors[0]),\n",
    "    go.Bar(name='1', x=family, y=tr[3:6], marker_color=colors[1]),\n",
    "    go.Bar(name='2', x=family, y=tr[6:9], marker_color=colors[2]),\n",
    "    go.Bar(name='3', x=family, y=tr[9:12], marker_color=colors[3]),\n",
    "    go.Bar(name='4', x=family, y=tr[12:15], marker_color=colors[4])\n",
    "])\n",
    "# Change the bar mode\n",
    "fig.update_layout(barmode='group')\n",
    "fig.show()"
   ]
  }
 ],
 "metadata": {
  "language_info": {
   "name": "python"
  }
 },
 "nbformat": 4,
 "nbformat_minor": 5
}
