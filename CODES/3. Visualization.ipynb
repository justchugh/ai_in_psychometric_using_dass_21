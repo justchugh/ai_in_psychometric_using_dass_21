{
 "cells": [
  {
   "cell_type": "code",
   "execution_count": null,
   "id": "9fe5e9f9",
   "metadata": {},
   "outputs": [],
   "source": [
    "# Importing necessary libraries\n",
    "import numpy as np\n",
    "import pandas as pd\n",
    "import matplotlib.pyplot as plt\n",
    "import seaborn as sns\n",
    "import plotly.graph_objects as go"
   ]
  },
  {
   "cell_type": "code",
   "execution_count": null,
   "id": "32b2d935",
   "metadata": {},
   "outputs": [],
   "source": [
    "# Reading CSV files\n",
    "df_dep = pd.read_csv('../Datasets/Depression.csv')\n",
    "df_anx = pd.read_csv('../Datasets/Anxiety.csv')\n",
    "df_str = pd.read_csv('../Datasets/Stress.csv')\n",
    "df = pd.read_csv('../Datasets/CleanData.csv')"
   ]
  },
  {
   "cell_type": "code",
   "execution_count": null,
   "id": "4b65a3d0",
   "metadata": {},
   "outputs": [],
   "source": [
    "# Data overview\n",
    "df_dep.head()\n",
    "df_anx.head()\n",
    "df_str.head()\n",
    "df.head()"
   ]
  },
  {
   "cell_type": "code",
   "execution_count": null,
   "id": "5d8aceb5",
   "metadata": {},
   "outputs": [],
   "source": [
    "# Selecting Depression, Anxiety, & Stress Scores and TIPI Questions\n",
    "tp = [df.columns[21:31]]\n",
    "cols = ['Dep', 'Anx', 'Str'] + list(tp[0])\n",
    "new_df = df[cols]"
   ]
  },
  {
   "cell_type": "code",
   "execution_count": null,
   "id": "ebd39748",
   "metadata": {},
   "outputs": [],
   "source": [
    "# Calculating correlation\n",
    "corr = new_df.corr()\n",
    "corr = corr.drop(corr.columns[:3], axis=1)\n",
    "corr = corr.drop(corr.index[3:])\n",
    "corr"
   ]
  },
  {
   "cell_type": "code",
   "execution_count": null,
   "id": "0b1291f3",
   "metadata": {},
   "outputs": [],
   "source": [
    "# Correlation Heatmap\n",
    "z_text = np.round(corr.values, decimals=2)\n",
    "fig = go.Figure(data=go.Heatmap(z=corr.values, x=list(corr.columns), y=['Dep', 'Anx', 'Str'], colorscale='Viridis'))\n",
    "fig.show()"
   ]
  },
  {
   "cell_type": "code",
   "execution_count": null,
   "id": "0f08bbea",
   "metadata": {},
   "outputs": [],
   "source": [
    "# Gender-wise Depression Scores\n",
    "tr = df.groupby(['gender', 'Depression']).size().reset_index(name='counts')['counts']\n",
    "gender = df['gender'].unique()\n",
    "fig = go.Figure(data=[go.Bar(name='0', x=gender, y=tr[:3]), go.Bar(name='1', x=gender, y=tr[3:6]), go.Bar(name='2', x=gender, y=tr[6:9]), go.Bar(name='3', x=gender, y=tr[9:12]), go.Bar(name='4', x=gender, y=tr[12:15])])\n",
    "fig.update_layout(barmode='group')\n",
    "fig.show()"
   ]
  }
 ],
 "metadata": {},
 "nbformat": 4,
 "nbformat_minor": 5
}
