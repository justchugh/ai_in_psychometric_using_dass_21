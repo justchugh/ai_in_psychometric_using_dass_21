{
 "cells": [
  {
   "cell_type": "code",
   "execution_count": null,
   "id": "2201285f",
   "metadata": {},
   "outputs": [],
   "source": [
    "# Importing necessary libraries\n",
    "import numpy as np\n",
    "import pandas as pd\n",
    "import matplotlib.pyplot as plt\n",
    "import seaborn as sns\n",
    "import plotly.graph_objects as go\n",
    "import plotly.express as px\n",
    "from plotly.subplots import make_subplots"
   ]
  },
  {
   "cell_type": "code",
   "execution_count": null,
   "id": "7c442cfd",
   "metadata": {},
   "outputs": [],
   "source": [
    "# Reading CSV files\n",
    "df_dep = pd.read_csv('../Datasets/Depression.csv')\n",
    "df_anx = pd.read_csv('../Datasets/Anxiety.csv')\n",
    "df_str = pd.read_csv('../Datasets/Stress.csv')\n",
    "df = pd.read_csv('../Datasets/CleanData.csv')"
   ]
  },
  {
   "cell_type": "code",
   "execution_count": null,
   "id": "d9f3d75e",
   "metadata": {},
   "outputs": [],
   "source": [
    "# Data overview\n",
    "df_dep.head()\n",
    "df_anx.head()\n",
    "df_str.head()\n",
    "df.head()"
   ]
  },
  {
   "cell_type": "code",
   "execution_count": null,
   "id": "cca9e792",
   "metadata": {},
   "outputs": [],
   "source": [
    "# Selecting Depression, Anxiety, & Stress Scores and TIPI Questions\n",
    "tp = [df.columns[21:31]]\n",
    "cols = ['Dep', 'Anx', 'Str'] + list(tp[0])\n",
    "new_df = df[cols]\n",
    "new_df.shape"
   ]
  },
  {
   "cell_type": "code",
   "execution_count": null,
   "id": "b6de2db2",
   "metadata": {},
   "outputs": [],
   "source": [
    "# Calculating correlation\n",
    "corr = new_df.corr()\n",
    "corr = corr.drop(corr.columns[:3], axis=1)\n",
    "corr = corr.drop(corr.index[3:])\n",
    "corr"
   ]
  },
  {
   "cell_type": "code",
   "execution_count": null,
   "id": "50fcd88d",
   "metadata": {},
   "outputs": [],
   "source": [
    "# Correlation Heatmap\n",
    "z_text = np.round(corr.values, decimals=2)\n",
    "fig = go.Figure(data=go.Heatmap(z=corr.values, x=list(corr.columns), y=['Dep', 'Anx', 'Str'], colorscale='Viridis'))\n",
    "fig.show()"
   ]
  },
  {
   "cell_type": "code",
   "execution_count": null,
   "id": "e2131e1e",
   "metadata": {},
   "outputs": [],
   "source": [
    "# Gender-wise Depression Scores\n",
    "tr = df.groupby(['gender', 'Depression']).size().reset_index(name='counts')['counts']\n",
    "gender = df['gender'].unique()\n",
    "fig = go.Figure(data=[go.Bar(name='0', x=gender, y=tr[:3]), go.Bar(name='1', x=gender, y=tr[3:6]), go.Bar(name='2', x=gender, y=tr[6:9]), go.Bar(name='3', x=gender, y=tr[9:12]), go.Bar(name='4', x=gender, y=tr[12:15])])\n",
    "fig.update_layout(barmode='group')\n",
    "fig.show()"
   ]
  },
  {
   "cell_type": "code",
   "execution_count": null,
   "id": "8c1c1423",
   "metadata": {},
   "outputs": [],
   "source": [
    "# Pie chart for Depression Scores by Gender\n",
    "labels = [0, 1, 2, 3, 4]\n",
    "colors = ['#c6e1d7', '#98bebe', '#7999ad', '#657295', '#50486d']\n",
    "fig = make_subplots(rows=1, cols=3, specs=[[{'type':'domain'}, {'type':'domain'}, {'type':'domain'}]])\n",
    "fig.add_trace(go.Pie(labels=labels, values=list(tr[0:5] / sum(tr[0:5]) * 100), name='Male', marker_colors=colors), 1, 1)\n",
    "fig.add_trace(go.Pie(labels=labels, values=list(tr[5:10] / sum(tr[5:10]) * 100), name='Female', marker_colors=colors), 1, 2)\n",
    "fig.add_trace(go.Pie(labels=labels, values=list(tr[10:15] / sum(tr[10:15]) * 100), name='Other', marker_colors=colors), 1, 3)\n",
    "fig.update_traces(hole=.4, hoverinfo='label+percent+name')\n",
    "fig.update_layout(title_text='Proportion of Depression score gender wise', annotations=[dict(text='Male', x=0.12, y=0.5, font_size=20, showarrow=False), dict(text='Female', x=0.50, y=0.5, font_size=20, showarrow=False), dict(text='Other', x=0.90, y=0.5, font_size=20, showarrow=False)])\n",
    "fig.show()"
   ]
  }
 ],
 "metadata": {},
 "nbformat": 4,
 "nbformat_minor": 5
}
